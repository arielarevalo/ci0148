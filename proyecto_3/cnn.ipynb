{
 "cells": [
  {
   "cell_type": "markdown",
   "id": "2b8a2b8ca619cdb3",
   "metadata": {
    "collapsed": false
   },
   "source": "# COVID-19 Chest X-Ray Database - CNN"
  },
  {
   "cell_type": "code",
   "execution_count": 51,
   "id": "70162dee",
   "metadata": {},
   "outputs": [],
   "source": [
    "from torchvision import transforms"
   ]
  },
  {
   "cell_type": "code",
   "execution_count": 52,
   "id": "e734abfc",
   "metadata": {},
   "outputs": [],
   "source": [
    "%reload_ext autoreload\n",
    "%autoreload 2\n",
    "\n",
    "from src.cnn import CNN_Model, load_dataset"
   ]
  },
  {
   "cell_type": "code",
   "execution_count": 57,
   "id": "6722caab",
   "metadata": {},
   "outputs": [],
   "source": [
    "NUMBER_OF_CLASSES = 4\n",
    "NUMBER_OF_EPOCHS = 20\n",
    "BATCH_SIZE = 32\n",
    "PATIENCE = 5\n",
    "TARGET_VAL_LOSS = 0.1\n",
    "IMAGE_SIZE = 224\n",
    "\n",
    "PROJECT_NAME = \"covid19-ChestXRay\"\n",
    "CLASS_NAMES = [\"COVID\", \"Lung_Opacity\", \"Normal\", \"Viral Pneumonia\"]\n",
    "\n",
    "# Define the transformations\n",
    "transform = transforms.Compose([\n",
    "    transforms.Grayscale(num_output_channels=3),\n",
    "    transforms.Resize(IMAGE_SIZE),\n",
    "    transforms.ToTensor(),\n",
    "    transforms.Normalize(mean=[0.485, 0.456, 0.406], std=[0.229, 0.224, 0.225])\n",
    "])"
   ]
  },
  {
   "cell_type": "markdown",
   "id": "601a60c1",
   "metadata": {},
   "source": "## Raw Images"
  },
  {
   "cell_type": "code",
   "execution_count": 54,
   "id": "ad5f8446",
   "metadata": {},
   "outputs": [],
   "source": [
    "train_loader_raw, val_loader_raw, test_loader_raw = load_dataset(\"./data/raw\", transform=transform, batch_size=64)"
   ]
  },
  {
   "cell_type": "code",
   "execution_count": 55,
   "id": "d91c82d9",
   "metadata": {},
   "outputs": [],
   "source": [
    "cnn_raw_model = CNN_Model(NUMBER_OF_CLASSES, class_names=CLASS_NAMES, project_name=PROJECT_NAME)"
   ]
  },
  {
   "cell_type": "code",
   "execution_count": 58,
   "id": "84494820",
   "metadata": {},
   "outputs": [
    {
     "data": {
      "text/html": [
       "Finishing last run (ID:wn3xlyal) before initializing another..."
      ],
      "text/plain": [
       "<IPython.core.display.HTML object>"
      ]
     },
     "metadata": {},
     "output_type": "display_data"
    },
    {
     "data": {
      "application/vnd.jupyter.widget-view+json": {
       "model_id": "9d7206a3585b4074a11655426e4d00c4",
       "version_major": 2,
       "version_minor": 0
      },
      "text/plain": [
       "VBox(children=(Label(value='0.003 MB of 0.003 MB uploaded\\r'), FloatProgress(value=1.0, max=1.0)))"
      ]
     },
     "metadata": {},
     "output_type": "display_data"
    },
    {
     "data": {
      "text/html": [
       " View run <strong style=\"color:#cdcd00\">laced-plasma-84</strong> at: <a href='https://wandb.ai/university-of-costa-rica/covid19-ChestXRay/runs/wn3xlyal' target=\"_blank\">https://wandb.ai/university-of-costa-rica/covid19-ChestXRay/runs/wn3xlyal</a><br/> View project at: <a href='https://wandb.ai/university-of-costa-rica/covid19-ChestXRay' target=\"_blank\">https://wandb.ai/university-of-costa-rica/covid19-ChestXRay</a><br/>Synced 5 W&B file(s), 0 media file(s), 0 artifact file(s) and 0 other file(s)"
      ],
      "text/plain": [
       "<IPython.core.display.HTML object>"
      ]
     },
     "metadata": {},
     "output_type": "display_data"
    },
    {
     "data": {
      "text/html": [
       "Find logs at: <code>./wandb/run-20240527_161614-wn3xlyal/logs</code>"
      ],
      "text/plain": [
       "<IPython.core.display.HTML object>"
      ]
     },
     "metadata": {},
     "output_type": "display_data"
    },
    {
     "data": {
      "text/html": [
       "Successfully finished last run (ID:wn3xlyal). Initializing new run:<br/>"
      ],
      "text/plain": [
       "<IPython.core.display.HTML object>"
      ]
     },
     "metadata": {},
     "output_type": "display_data"
    },
    {
     "data": {
      "application/vnd.jupyter.widget-view+json": {
       "model_id": "f58d139fa17a463fb12bfe6c0b34463d",
       "version_major": 2,
       "version_minor": 0
      },
      "text/plain": [
       "VBox(children=(Label(value='Waiting for wandb.init()...\\r'), FloatProgress(value=0.011113723355487713, max=1.0…"
      ]
     },
     "metadata": {},
     "output_type": "display_data"
    },
    {
     "data": {
      "text/html": [
       "Tracking run with wandb version 0.17.0"
      ],
      "text/plain": [
       "<IPython.core.display.HTML object>"
      ]
     },
     "metadata": {},
     "output_type": "display_data"
    },
    {
     "data": {
      "text/html": [
       "Run data is saved locally in <code>/home/djtaylor/UCR/2024/ML/Proyectos/proyecto_2/wandb/run-20240527_164411-n9d4oacq</code>"
      ],
      "text/plain": [
       "<IPython.core.display.HTML object>"
      ]
     },
     "metadata": {},
     "output_type": "display_data"
    },
    {
     "data": {
      "text/html": [
       "Syncing run <strong><a href='https://wandb.ai/university-of-costa-rica/covid19-ChestXRay/runs/n9d4oacq' target=\"_blank\">fine-vortex-89</a></strong> to <a href='https://wandb.ai/university-of-costa-rica/covid19-ChestXRay' target=\"_blank\">Weights & Biases</a> (<a href='https://wandb.me/run' target=\"_blank\">docs</a>)<br/>"
      ],
      "text/plain": [
       "<IPython.core.display.HTML object>"
      ]
     },
     "metadata": {},
     "output_type": "display_data"
    },
    {
     "data": {
      "text/html": [
       " View project at <a href='https://wandb.ai/university-of-costa-rica/covid19-ChestXRay' target=\"_blank\">https://wandb.ai/university-of-costa-rica/covid19-ChestXRay</a>"
      ],
      "text/plain": [
       "<IPython.core.display.HTML object>"
      ]
     },
     "metadata": {},
     "output_type": "display_data"
    },
    {
     "data": {
      "text/html": [
       " View run at <a href='https://wandb.ai/university-of-costa-rica/covid19-ChestXRay/runs/n9d4oacq' target=\"_blank\">https://wandb.ai/university-of-costa-rica/covid19-ChestXRay/runs/n9d4oacq</a>"
      ],
      "text/plain": [
       "<IPython.core.display.HTML object>"
      ]
     },
     "metadata": {},
     "output_type": "display_data"
    },
    {
     "name": "stdout",
     "output_type": "stream",
     "text": [
      "Early stopping: validation loss target of <= 0.150 has been reached: 0.128, stopped at 1 epochs.\n"
     ]
    },
    {
     "data": {
      "application/vnd.jupyter.widget-view+json": {
       "model_id": "995ba0f4f5b54c36a3cb75bba2f8b486",
       "version_major": 2,
       "version_minor": 0
      },
      "text/plain": [
       "VBox(children=(Label(value='0.005 MB of 0.006 MB uploaded\\r'), FloatProgress(value=0.9012504007694774, max=1.0…"
      ]
     },
     "metadata": {},
     "output_type": "display_data"
    },
    {
     "data": {
      "text/html": [
       "<style>\n",
       "    table.wandb td:nth-child(1) { padding: 0 10px; text-align: left ; width: auto;} td:nth-child(2) {text-align: left ; width: 100%}\n",
       "    .wandb-row { display: flex; flex-direction: row; flex-wrap: wrap; justify-content: flex-start; width: 100% }\n",
       "    .wandb-col { display: flex; flex-direction: column; flex-basis: 100%; flex: 1; padding: 10px; }\n",
       "    </style>\n",
       "<div class=\"wandb-row\"><div class=\"wandb-col\"><h3>Run history:</h3><br/><table class=\"wandb\"><tr><td>accuracy</td><td>▁█</td></tr><tr><td>epoch</td><td>▁█</td></tr><tr><td>precision</td><td>▁█</td></tr><tr><td>recall</td><td>▁█</td></tr><tr><td>train_loss</td><td>█▁</td></tr><tr><td>val_loss</td><td>█▁</td></tr></table><br/></div><div class=\"wandb-col\"><h3>Run summary:</h3><br/><table class=\"wandb\"><tr><td>accuracy</td><td>0.95699</td></tr><tr><td>epoch</td><td>1</td></tr><tr><td>precision</td><td>0.95699</td></tr><tr><td>recall</td><td>0.95699</td></tr><tr><td>train_loss</td><td>0.11081</td></tr><tr><td>val_loss</td><td>0.12843</td></tr></table><br/></div></div>"
      ],
      "text/plain": [
       "<IPython.core.display.HTML object>"
      ]
     },
     "metadata": {},
     "output_type": "display_data"
    },
    {
     "data": {
      "text/html": [
       " View run <strong style=\"color:#cdcd00\">fine-vortex-89</strong> at: <a href='https://wandb.ai/university-of-costa-rica/covid19-ChestXRay/runs/n9d4oacq' target=\"_blank\">https://wandb.ai/university-of-costa-rica/covid19-ChestXRay/runs/n9d4oacq</a><br/> View project at: <a href='https://wandb.ai/university-of-costa-rica/covid19-ChestXRay' target=\"_blank\">https://wandb.ai/university-of-costa-rica/covid19-ChestXRay</a><br/>Synced 5 W&B file(s), 2 media file(s), 2 artifact file(s) and 0 other file(s)"
      ],
      "text/plain": [
       "<IPython.core.display.HTML object>"
      ]
     },
     "metadata": {},
     "output_type": "display_data"
    },
    {
     "data": {
      "text/html": [
       "Find logs at: <code>./wandb/run-20240527_164411-n9d4oacq/logs</code>"
      ],
      "text/plain": [
       "<IPython.core.display.HTML object>"
      ]
     },
     "metadata": {},
     "output_type": "display_data"
    }
   ],
   "source": [
    "cnn_raw_model.train(train_loader=train_loader_raw, val_loader=val_loader_raw, epochs=NUMBER_OF_EPOCHS, patience=PATIENCE, target_val_loss=TARGET_VAL_LOSS)"
   ]
  },
  {
   "cell_type": "code",
   "execution_count": 59,
   "id": "814de47f",
   "metadata": {},
   "outputs": [],
   "source": [
    "cnn_raw_model.save_model('./models/cnn_raw_model.pth')"
   ]
  },
  {
   "cell_type": "code",
   "execution_count": 60,
   "id": "e245d0bb",
   "metadata": {},
   "outputs": [
    {
     "data": {
      "text/html": [
       "Tracking run with wandb version 0.17.0"
      ],
      "text/plain": [
       "<IPython.core.display.HTML object>"
      ]
     },
     "metadata": {},
     "output_type": "display_data"
    },
    {
     "data": {
      "text/html": [
       "Run data is saved locally in <code>/home/djtaylor/UCR/2024/ML/Proyectos/proyecto_2/wandb/run-20240527_172519-cyczuj9z</code>"
      ],
      "text/plain": [
       "<IPython.core.display.HTML object>"
      ]
     },
     "metadata": {},
     "output_type": "display_data"
    },
    {
     "data": {
      "text/html": [
       "Syncing run <strong><a href='https://wandb.ai/university-of-costa-rica/covid19-ChestXRay/runs/cyczuj9z' target=\"_blank\">autumn-vortex-107</a></strong> to <a href='https://wandb.ai/university-of-costa-rica/covid19-ChestXRay' target=\"_blank\">Weights & Biases</a> (<a href='https://wandb.me/run' target=\"_blank\">docs</a>)<br/>"
      ],
      "text/plain": [
       "<IPython.core.display.HTML object>"
      ]
     },
     "metadata": {},
     "output_type": "display_data"
    },
    {
     "data": {
      "text/html": [
       " View project at <a href='https://wandb.ai/university-of-costa-rica/covid19-ChestXRay' target=\"_blank\">https://wandb.ai/university-of-costa-rica/covid19-ChestXRay</a>"
      ],
      "text/plain": [
       "<IPython.core.display.HTML object>"
      ]
     },
     "metadata": {},
     "output_type": "display_data"
    },
    {
     "data": {
      "text/html": [
       " View run at <a href='https://wandb.ai/university-of-costa-rica/covid19-ChestXRay/runs/cyczuj9z' target=\"_blank\">https://wandb.ai/university-of-costa-rica/covid19-ChestXRay/runs/cyczuj9z</a>"
      ],
      "text/plain": [
       "<IPython.core.display.HTML object>"
      ]
     },
     "metadata": {},
     "output_type": "display_data"
    },
    {
     "data": {
      "application/vnd.jupyter.widget-view+json": {
       "model_id": "c282bd0acf564de2b6b196e16ee52212",
       "version_major": 2,
       "version_minor": 0
      },
      "text/plain": [
       "VBox(children=(Label(value='0.038 MB of 0.038 MB uploaded\\r'), FloatProgress(value=1.0, max=1.0)))"
      ]
     },
     "metadata": {},
     "output_type": "display_data"
    },
    {
     "data": {
      "text/html": [
       " View run <strong style=\"color:#cdcd00\">autumn-vortex-107</strong> at: <a href='https://wandb.ai/university-of-costa-rica/covid19-ChestXRay/runs/cyczuj9z' target=\"_blank\">https://wandb.ai/university-of-costa-rica/covid19-ChestXRay/runs/cyczuj9z</a><br/> View project at: <a href='https://wandb.ai/university-of-costa-rica/covid19-ChestXRay' target=\"_blank\">https://wandb.ai/university-of-costa-rica/covid19-ChestXRay</a><br/>Synced 4 W&B file(s), 2 media file(s), 2 artifact file(s) and 0 other file(s)"
      ],
      "text/plain": [
       "<IPython.core.display.HTML object>"
      ]
     },
     "metadata": {},
     "output_type": "display_data"
    },
    {
     "data": {
      "text/html": [
       "Find logs at: <code>./wandb/run-20240527_172519-cyczuj9z/logs</code>"
      ],
      "text/plain": [
       "<IPython.core.display.HTML object>"
      ]
     },
     "metadata": {},
     "output_type": "display_data"
    }
   ],
   "source": [
    "cnn_raw_model.test(test_loader_raw)"
   ]
  },
  {
   "cell_type": "markdown",
   "id": "2316916c",
   "metadata": {},
   "source": "## Bilateral Filtered Images"
  },
  {
   "cell_type": "code",
   "execution_count": 61,
   "id": "2791d7e3",
   "metadata": {},
   "outputs": [],
   "source": [
    "train_loader_filt, val_loader_filt, test_loader_filt = load_dataset(\"./data/bf\", transform=transform, batch_size=BATCH_SIZE)"
   ]
  },
  {
   "cell_type": "code",
   "execution_count": 62,
   "id": "a3073b3d",
   "metadata": {},
   "outputs": [],
   "source": [
    "cnn_filtered_model = CNN_Model(NUMBER_OF_CLASSES, class_names=CLASS_NAMES, project_name=PROJECT_NAME, data_preprocss='bilateral-filtering')"
   ]
  },
  {
   "cell_type": "code",
   "execution_count": 63,
   "id": "64116d91",
   "metadata": {},
   "outputs": [
    {
     "data": {
      "text/html": [
       "Tracking run with wandb version 0.17.0"
      ],
      "text/plain": [
       "<IPython.core.display.HTML object>"
      ]
     },
     "metadata": {},
     "output_type": "display_data"
    },
    {
     "data": {
      "text/html": [
       "Run data is saved locally in <code>/home/djtaylor/UCR/2024/ML/Proyectos/proyecto_2/wandb/run-20240527_172915-g9f04u7a</code>"
      ],
      "text/plain": [
       "<IPython.core.display.HTML object>"
      ]
     },
     "metadata": {},
     "output_type": "display_data"
    },
    {
     "data": {
      "text/html": [
       "Syncing run <strong><a href='https://wandb.ai/university-of-costa-rica/covid19-ChestXRay/runs/g9f04u7a' target=\"_blank\">twilight-flower-112</a></strong> to <a href='https://wandb.ai/university-of-costa-rica/covid19-ChestXRay' target=\"_blank\">Weights & Biases</a> (<a href='https://wandb.me/run' target=\"_blank\">docs</a>)<br/>"
      ],
      "text/plain": [
       "<IPython.core.display.HTML object>"
      ]
     },
     "metadata": {},
     "output_type": "display_data"
    },
    {
     "data": {
      "text/html": [
       " View project at <a href='https://wandb.ai/university-of-costa-rica/covid19-ChestXRay' target=\"_blank\">https://wandb.ai/university-of-costa-rica/covid19-ChestXRay</a>"
      ],
      "text/plain": [
       "<IPython.core.display.HTML object>"
      ]
     },
     "metadata": {},
     "output_type": "display_data"
    },
    {
     "data": {
      "text/html": [
       " View run at <a href='https://wandb.ai/university-of-costa-rica/covid19-ChestXRay/runs/g9f04u7a' target=\"_blank\">https://wandb.ai/university-of-costa-rica/covid19-ChestXRay/runs/g9f04u7a</a>"
      ],
      "text/plain": [
       "<IPython.core.display.HTML object>"
      ]
     },
     "metadata": {},
     "output_type": "display_data"
    },
    {
     "name": "stdout",
     "output_type": "stream",
     "text": [
      "Early stopping: validation loss has not improved in 5 epochs, stopped at 17 epochs.\n"
     ]
    },
    {
     "data": {
      "application/vnd.jupyter.widget-view+json": {
       "model_id": "db45f125795d4fcbb08e691639f94345",
       "version_major": 2,
       "version_minor": 0
      },
      "text/plain": [
       "VBox(children=(Label(value='0.031 MB of 0.031 MB uploaded\\r'), FloatProgress(value=0.9813194465469739, max=1.0…"
      ]
     },
     "metadata": {},
     "output_type": "display_data"
    },
    {
     "data": {
      "text/html": [
       "<style>\n",
       "    table.wandb td:nth-child(1) { padding: 0 10px; text-align: left ; width: auto;} td:nth-child(2) {text-align: left ; width: 100%}\n",
       "    .wandb-row { display: flex; flex-direction: row; flex-wrap: wrap; justify-content: flex-start; width: 100% }\n",
       "    .wandb-col { display: flex; flex-direction: column; flex-basis: 100%; flex: 1; padding: 10px; }\n",
       "    </style>\n",
       "<div class=\"wandb-row\"><div class=\"wandb-col\"><h3>Run history:</h3><br/><table class=\"wandb\"><tr><td>accuracy</td><td>▁█████████████████</td></tr><tr><td>epoch</td><td>▁▁▂▂▃▃▃▄▄▅▅▆▆▆▇▇██</td></tr><tr><td>precision</td><td>▁█████████████████</td></tr><tr><td>recall</td><td>▁█████████████████</td></tr><tr><td>train_loss</td><td>█▃▂▂▂▂▂▂▂▂▂▁▁▁▁▁▁▁</td></tr><tr><td>val_loss</td><td>█▁▁▁▁▁▁▁▁▁▁▁▁▁▁▁▁▁</td></tr></table><br/></div><div class=\"wandb-col\"><h3>Run summary:</h3><br/><table class=\"wandb\"><tr><td>accuracy</td><td>0.93195</td></tr><tr><td>epoch</td><td>17</td></tr><tr><td>precision</td><td>0.93195</td></tr><tr><td>recall</td><td>0.93195</td></tr><tr><td>train_loss</td><td>0.1218</td></tr><tr><td>val_loss</td><td>0.1916</td></tr></table><br/></div></div>"
      ],
      "text/plain": [
       "<IPython.core.display.HTML object>"
      ]
     },
     "metadata": {},
     "output_type": "display_data"
    },
    {
     "data": {
      "text/html": [
       " View run <strong style=\"color:#cdcd00\">twilight-flower-112</strong> at: <a href='https://wandb.ai/university-of-costa-rica/covid19-ChestXRay/runs/g9f04u7a' target=\"_blank\">https://wandb.ai/university-of-costa-rica/covid19-ChestXRay/runs/g9f04u7a</a><br/> View project at: <a href='https://wandb.ai/university-of-costa-rica/covid19-ChestXRay' target=\"_blank\">https://wandb.ai/university-of-costa-rica/covid19-ChestXRay</a><br/>Synced 5 W&B file(s), 18 media file(s), 18 artifact file(s) and 0 other file(s)"
      ],
      "text/plain": [
       "<IPython.core.display.HTML object>"
      ]
     },
     "metadata": {},
     "output_type": "display_data"
    },
    {
     "data": {
      "text/html": [
       "Find logs at: <code>./wandb/run-20240527_172915-g9f04u7a/logs</code>"
      ],
      "text/plain": [
       "<IPython.core.display.HTML object>"
      ]
     },
     "metadata": {},
     "output_type": "display_data"
    }
   ],
   "source": [
    "cnn_filtered_model.train(train_loader=train_loader_filt, val_loader=val_loader_filt, epochs=NUMBER_OF_EPOCHS, patience=PATIENCE, target_val_loss=TARGET_VAL_LOSS)"
   ]
  },
  {
   "cell_type": "code",
   "execution_count": 64,
   "id": "4e24be8a",
   "metadata": {},
   "outputs": [],
   "source": [
    "cnn_filtered_model.save_model('./models/cnn-filtered.pth')"
   ]
  },
  {
   "cell_type": "code",
   "execution_count": 65,
   "id": "1d0c0cd7",
   "metadata": {},
   "outputs": [
    {
     "data": {
      "text/html": [
       "Tracking run with wandb version 0.17.0"
      ],
      "text/plain": [
       "<IPython.core.display.HTML object>"
      ]
     },
     "metadata": {},
     "output_type": "display_data"
    },
    {
     "data": {
      "text/html": [
       "Run data is saved locally in <code>/home/djtaylor/UCR/2024/ML/Proyectos/proyecto_2/wandb/run-20240527_204056-rm133pjv</code>"
      ],
      "text/plain": [
       "<IPython.core.display.HTML object>"
      ]
     },
     "metadata": {},
     "output_type": "display_data"
    },
    {
     "data": {
      "text/html": [
       "Syncing run <strong><a href='https://wandb.ai/university-of-costa-rica/covid19-ChestXRay/runs/rm133pjv' target=\"_blank\">twilight-vortex-154</a></strong> to <a href='https://wandb.ai/university-of-costa-rica/covid19-ChestXRay' target=\"_blank\">Weights & Biases</a> (<a href='https://wandb.me/run' target=\"_blank\">docs</a>)<br/>"
      ],
      "text/plain": [
       "<IPython.core.display.HTML object>"
      ]
     },
     "metadata": {},
     "output_type": "display_data"
    },
    {
     "data": {
      "text/html": [
       " View project at <a href='https://wandb.ai/university-of-costa-rica/covid19-ChestXRay' target=\"_blank\">https://wandb.ai/university-of-costa-rica/covid19-ChestXRay</a>"
      ],
      "text/plain": [
       "<IPython.core.display.HTML object>"
      ]
     },
     "metadata": {},
     "output_type": "display_data"
    },
    {
     "data": {
      "text/html": [
       " View run at <a href='https://wandb.ai/university-of-costa-rica/covid19-ChestXRay/runs/rm133pjv' target=\"_blank\">https://wandb.ai/university-of-costa-rica/covid19-ChestXRay/runs/rm133pjv</a>"
      ],
      "text/plain": [
       "<IPython.core.display.HTML object>"
      ]
     },
     "metadata": {},
     "output_type": "display_data"
    },
    {
     "data": {
      "application/vnd.jupyter.widget-view+json": {
       "model_id": "e083894c95e74b188673c87a6f038b94",
       "version_major": 2,
       "version_minor": 0
      },
      "text/plain": [
       "VBox(children=(Label(value='0.040 MB of 0.041 MB uploaded\\r'), FloatProgress(value=0.9855571967831939, max=1.0…"
      ]
     },
     "metadata": {},
     "output_type": "display_data"
    },
    {
     "data": {
      "text/html": [
       " View run <strong style=\"color:#cdcd00\">twilight-vortex-154</strong> at: <a href='https://wandb.ai/university-of-costa-rica/covid19-ChestXRay/runs/rm133pjv' target=\"_blank\">https://wandb.ai/university-of-costa-rica/covid19-ChestXRay/runs/rm133pjv</a><br/> View project at: <a href='https://wandb.ai/university-of-costa-rica/covid19-ChestXRay' target=\"_blank\">https://wandb.ai/university-of-costa-rica/covid19-ChestXRay</a><br/>Synced 4 W&B file(s), 2 media file(s), 2 artifact file(s) and 0 other file(s)"
      ],
      "text/plain": [
       "<IPython.core.display.HTML object>"
      ]
     },
     "metadata": {},
     "output_type": "display_data"
    },
    {
     "data": {
      "text/html": [
       "Find logs at: <code>./wandb/run-20240527_204056-rm133pjv/logs</code>"
      ],
      "text/plain": [
       "<IPython.core.display.HTML object>"
      ]
     },
     "metadata": {},
     "output_type": "display_data"
    }
   ],
   "source": [
    "cnn_filtered_model.test(test_loader_filt)"
   ]
  }
 ],
 "metadata": {
  "kernelspec": {
   "display_name": "Python 3",
   "language": "python",
   "name": "python3"
  },
  "language_info": {
   "codemirror_mode": {
    "name": "ipython",
    "version": 3
   },
   "file_extension": ".py",
   "mimetype": "text/x-python",
   "name": "python",
   "nbconvert_exporter": "python",
   "pygments_lexer": "ipython3",
   "version": "3.8.10"
  }
 },
 "nbformat": 4,
 "nbformat_minor": 5
}
