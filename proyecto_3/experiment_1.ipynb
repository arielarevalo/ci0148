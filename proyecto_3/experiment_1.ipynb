{
 "cells": [
  {
   "metadata": {},
   "cell_type": "markdown",
   "source": "# Experiment 1",
   "id": "9e704b740dfc4acd"
  },
  {
   "metadata": {
    "ExecuteTime": {
     "end_time": "2024-07-03T18:58:49.699128Z",
     "start_time": "2024-07-03T18:58:49.686354Z"
    }
   },
   "cell_type": "code",
   "source": [
    "%load_ext autoreload\n",
    "%autoreload 2"
   ],
   "id": "361d3a33c84134a5",
   "outputs": [],
   "execution_count": 1
  },
  {
   "metadata": {},
   "cell_type": "markdown",
   "source": "## Imports",
   "id": "e9c145d80440ea57"
  },
  {
   "metadata": {
    "ExecuteTime": {
     "end_time": "2024-07-03T18:58:56.664818Z",
     "start_time": "2024-07-03T18:58:49.700194Z"
    }
   },
   "cell_type": "code",
   "source": [
    "import gc\n",
    "import numpy as np\n",
    "from sklearn.model_selection import train_test_split\n",
    "from torch.utils.data import Dataset, DataLoader, SubsetRandomSampler\n",
    "from torch import nn, optim\n",
    "from torchinfo import summary\n",
    "\n",
    "from plant_village_dataset import PlantVillageDataset\n",
    "from runner import Runner\n",
    "from mlp import MLP\n",
    "from convnext import ConvNext\n",
    "from encoder_mlp import EncoderMLP\n",
    "from unet_autoencoder import UNetAutoencoder, UNetEncoder, UNetDecoder"
   ],
   "id": "d518676c9749b0b0",
   "outputs": [],
   "execution_count": 2
  },
  {
   "metadata": {},
   "cell_type": "markdown",
   "source": "## Prepare Data",
   "id": "ef6e119d55682dc"
  },
  {
   "metadata": {
    "ExecuteTime": {
     "end_time": "2024-07-03T18:58:56.677164Z",
     "start_time": "2024-07-03T18:58:56.665531Z"
    }
   },
   "cell_type": "code",
   "source": "BATCH_SIZE = 64",
   "id": "9ff4e1516b8f6e40",
   "outputs": [],
   "execution_count": 3
  },
  {
   "metadata": {
    "ExecuteTime": {
     "end_time": "2024-07-03T18:58:56.690696Z",
     "start_time": "2024-07-03T18:58:56.677851Z"
    }
   },
   "cell_type": "code",
   "source": [
    "def split(dataset, batch_size, labeled_ratio, test_ratio):    \n",
    "    labels = np.array([label for _, label in dataset])\n",
    "\n",
    "    unlabeled_indices, labeled_indices = train_test_split(np.arange(len(dataset)),\n",
    "                                                          test_size=labeled_ratio,\n",
    "                                                          stratify=labels)   \n",
    "    \n",
    "    ul_train_indices, ul_val_indices = train_test_split(unlabeled_indices, test_size=0.1)\n",
    "    \n",
    "    relative_test_ratio = test_ratio / labeled_ratio\n",
    "    \n",
    "    train_val_indices, test_indices = train_test_split(labeled_indices,\n",
    "                                                       test_size=relative_test_ratio,\n",
    "                                                       stratify=labels[labeled_indices])\n",
    "    \n",
    "    train_indices, val_indices = train_test_split(train_val_indices,\n",
    "                                                  test_size=0.2,\n",
    "                                                  stratify=labels[train_val_indices])\n",
    "\n",
    "    ul_train_sampler = SubsetRandomSampler(ul_train_indices)\n",
    "    ul_val_sampler = SubsetRandomSampler(ul_val_indices)\n",
    "    train_sampler = SubsetRandomSampler(train_indices)\n",
    "    val_sampler = SubsetRandomSampler(val_indices)\n",
    "    test_sampler = SubsetRandomSampler(test_indices)\n",
    "\n",
    "    ul_train_loader = DataLoader(dataset, batch_size=batch_size, sampler=ul_train_sampler)\n",
    "    ul_val_loader = DataLoader(dataset, batch_size=batch_size, sampler=ul_val_sampler)\n",
    "    train_loader = DataLoader(dataset, batch_size=batch_size, sampler=train_sampler)\n",
    "    val_loader = DataLoader(dataset, batch_size=batch_size, sampler=val_sampler)\n",
    "    test_loader = DataLoader(dataset, batch_size=batch_size, sampler=test_sampler)\n",
    "\n",
    "    return ul_train_loader, ul_val_loader, train_loader, val_loader, test_loader"
   ],
   "id": "2ef1dbcc41c8dd49",
   "outputs": [],
   "execution_count": 4
  },
  {
   "metadata": {
    "ExecuteTime": {
     "end_time": "2024-07-03T18:58:56.703815Z",
     "start_time": "2024-07-03T18:58:56.692256Z"
    }
   },
   "cell_type": "code",
   "source": [
    "class ReconstructionDataLoader:\n",
    "    def __init__(self, base_loader):\n",
    "        self.base_loader = base_loader\n",
    "\n",
    "    def __iter__(self):\n",
    "        for data in self.base_loader:\n",
    "            images, _ = data  # Ignore labels or other types of data\n",
    "            yield images, images  # Yield images as both input and target\n",
    "\n",
    "    def __len__(self):\n",
    "        return len(self.base_loader)"
   ],
   "id": "f233d4efacb0a40e",
   "outputs": [],
   "execution_count": 5
  },
  {
   "metadata": {
    "ExecuteTime": {
     "end_time": "2024-07-03T19:00:11.395272Z",
     "start_time": "2024-07-03T18:58:56.704625Z"
    }
   },
   "cell_type": "code",
   "source": "dataset = PlantVillageDataset('images')",
   "id": "e03f52ea1e1296c4",
   "outputs": [
    {
     "name": "stdout",
     "output_type": "stream",
     "text": [
      "Loading Plant Village\n",
      "<class 'torchvision.datasets.folder.ImageFolder'>\n",
      " - Normalizing dataset\n"
     ]
    },
    {
     "name": "stderr",
     "output_type": "stream",
     "text": [
      " - Calculating mean and standard deviation: 100%|██████████| 434/434 [01:14<00:00,  5.83batch/s]"
     ]
    },
    {
     "name": "stdout",
     "output_type": "stream",
     "text": [
      " - Normalized dataset:\n",
      "  - Mean: [0.4671, 0.4895, 0.4123]\n",
      "  - Standard deviation: [0.1709, 0.1443, 0.1880]\n"
     ]
    },
    {
     "name": "stderr",
     "output_type": "stream",
     "text": [
      "\n"
     ]
    }
   ],
   "execution_count": 6
  },
  {
   "metadata": {},
   "cell_type": "markdown",
   "source": "## Run 1",
   "id": "b43c40dfa82eccf2"
  },
  {
   "metadata": {
    "ExecuteTime": {
     "end_time": "2024-07-03T19:02:49.077746Z",
     "start_time": "2024-07-03T19:00:11.396991Z"
    }
   },
   "cell_type": "code",
   "source": [
    "ul_train_loader, ul_val_loader, train_loader, val_loader, test_loader = split(dataset, batch_size=BATCH_SIZE, labeled_ratio=0.2, test_ratio=0.1)\n",
    "\n",
    "ul_train_loader = ReconstructionDataLoader(ul_train_loader)\n",
    "ul_val_loader = ReconstructionDataLoader(ul_val_loader)"
   ],
   "id": "dbf2b9b8d12ec21e",
   "outputs": [],
   "execution_count": 7
  },
  {
   "metadata": {},
   "cell_type": "markdown",
   "source": "##### CNN",
   "id": "1666a4be9986accd"
  },
  {
   "metadata": {
    "ExecuteTime": {
     "end_time": "2024-07-03T10:03:56.401277Z",
     "start_time": "2024-07-03T08:54:46.775191Z"
    }
   },
   "cell_type": "code",
   "source": [
    "cnn = ConvNext(num_classes=len(dataset.classes))\n",
    "cnn_optim = optim.Adam(cnn.parameters(), lr=1e-4)\n",
    "cnn_criterion = nn.CrossEntropyLoss()\n",
    "cnn_runner = Runner('cnn_1', cnn, cnn_optim, cnn_criterion, device='mps')\n",
    "cnn_runner.train(train_loader, val_loader, num_epochs=3)\n",
    "cnn_runner.test(test_loader)"
   ],
   "id": "421ff10c200ab128",
   "outputs": [
    {
     "data": {
      "text/plain": [
       "Training:   0%|          | 0/3 [00:00<?, ? epoch/s]"
      ],
      "application/vnd.jupyter.widget-view+json": {
       "version_major": 2,
       "version_minor": 0,
       "model_id": "3a537ea2bbba4c47a64230496f675cc0"
      }
     },
     "metadata": {},
     "output_type": "display_data"
    },
    {
     "data": {
      "text/plain": [
       "Training:   0%|          | 0/70 [00:00<?, ?batch/s]"
      ],
      "application/vnd.jupyter.widget-view+json": {
       "version_major": 2,
       "version_minor": 0,
       "model_id": "9c9c07d24896426998f0827331cd6110"
      }
     },
     "metadata": {},
     "output_type": "display_data"
    },
    {
     "data": {
      "text/plain": [
       "Validating:   0%|          | 0/18 [00:00<?, ?batch/s]"
      ],
      "application/vnd.jupyter.widget-view+json": {
       "version_major": 2,
       "version_minor": 0,
       "model_id": "d06abc94e8b949aa9072e7cfcad91aeb"
      }
     },
     "metadata": {},
     "output_type": "display_data"
    },
    {
     "name": "stdout",
     "output_type": "stream",
     "text": [
      "Epoch 1/3 - Train Loss: 1.9817, Validation Loss: 0.8734\n"
     ]
    },
    {
     "data": {
      "text/plain": [
       "Training:   0%|          | 0/70 [00:00<?, ?batch/s]"
      ],
      "application/vnd.jupyter.widget-view+json": {
       "version_major": 2,
       "version_minor": 0,
       "model_id": "cbbc0203c78f492db4d5249dfef77d6d"
      }
     },
     "metadata": {},
     "output_type": "display_data"
    },
    {
     "data": {
      "text/plain": [
       "Validating:   0%|          | 0/18 [00:00<?, ?batch/s]"
      ],
      "application/vnd.jupyter.widget-view+json": {
       "version_major": 2,
       "version_minor": 0,
       "model_id": "775f09c5bfdc4419b42de9e9bba6e9f9"
      }
     },
     "metadata": {},
     "output_type": "display_data"
    },
    {
     "name": "stdout",
     "output_type": "stream",
     "text": [
      "Epoch 2/3 - Train Loss: 0.5793, Validation Loss: 0.3812\n"
     ]
    },
    {
     "data": {
      "text/plain": [
       "Training:   0%|          | 0/70 [00:00<?, ?batch/s]"
      ],
      "application/vnd.jupyter.widget-view+json": {
       "version_major": 2,
       "version_minor": 0,
       "model_id": "175823ee473c47e88187e7c0214392df"
      }
     },
     "metadata": {},
     "output_type": "display_data"
    },
    {
     "data": {
      "text/plain": [
       "Validating:   0%|          | 0/18 [00:00<?, ?batch/s]"
      ],
      "application/vnd.jupyter.widget-view+json": {
       "version_major": 2,
       "version_minor": 0,
       "model_id": "e07d44ccc8bb48e4a591c2148afd2d0a"
      }
     },
     "metadata": {},
     "output_type": "display_data"
    },
    {
     "name": "stdout",
     "output_type": "stream",
     "text": [
      "Epoch 3/3 - Train Loss: 0.3606, Validation Loss: 0.3640\n"
     ]
    },
    {
     "data": {
      "text/plain": [
       "Testing:   0%|          | 0/87 [00:00<?, ?batch/s]"
      ],
      "application/vnd.jupyter.widget-view+json": {
       "version_major": 2,
       "version_minor": 0,
       "model_id": "4f6deac8c001443e8822d22bf59244ee"
      }
     },
     "metadata": {},
     "output_type": "display_data"
    },
    {
     "name": "stdout",
     "output_type": "stream",
     "text": [
      "Test accuracy: 0.9154, Test Loss: 0.3792\n"
     ]
    }
   ],
   "execution_count": 52
  },
  {
   "metadata": {},
   "cell_type": "markdown",
   "source": "##### Autoencoder",
   "id": "a7691eb99adf809a"
  },
  {
   "metadata": {
    "ExecuteTime": {
     "end_time": "2024-07-03T19:13:10.144725Z",
     "start_time": "2024-07-03T19:02:49.078688Z"
    }
   },
   "cell_type": "code",
   "source": [
    "uae = UNetAutoencoder()\n",
    "uae_optim = optim.Adam(uae.parameters(), lr=1e-3)\n",
    "uae_criterion = nn.MSELoss()\n",
    "uae_runner = Runner('uae_1', uae, uae_optim, uae_criterion, device='mps')\n",
    "uae_runner.train(ul_train_loader, ul_val_loader, num_epochs=3)\n",
    "\n",
    "enc = uae.encoder"
   ],
   "id": "f117d9666726abad",
   "outputs": [
    {
     "data": {
      "text/plain": [
       "Training:   0%|          | 0/3 [00:00<?, ? epoch/s]"
      ],
      "application/vnd.jupyter.widget-view+json": {
       "version_major": 2,
       "version_minor": 0,
       "model_id": "8a1458d7b8a84905b7b6a5896a595184"
      }
     },
     "metadata": {},
     "output_type": "display_data"
    },
    {
     "data": {
      "text/plain": [
       "Training:   0%|          | 0/624 [00:00<?, ?batch/s]"
      ],
      "application/vnd.jupyter.widget-view+json": {
       "version_major": 2,
       "version_minor": 0,
       "model_id": "b12796e2f4754efaafe53af570e3ed69"
      }
     },
     "metadata": {},
     "output_type": "display_data"
    },
    {
     "data": {
      "text/plain": [
       "Validating:   0%|          | 0/70 [00:00<?, ?batch/s]"
      ],
      "application/vnd.jupyter.widget-view+json": {
       "version_major": 2,
       "version_minor": 0,
       "model_id": "a234068844824e30b28bf3d4fbda28ef"
      }
     },
     "metadata": {},
     "output_type": "display_data"
    },
    {
     "name": "stdout",
     "output_type": "stream",
     "text": [
      "Epoch 1/3 - Train Loss: 0.0271, Validation Loss: 0.0083\n",
      "Early stopping at epoch 1\n"
     ]
    }
   ],
   "execution_count": 8
  },
  {
   "metadata": {},
   "cell_type": "markdown",
   "source": "##### Frozen Encoder + MLP",
   "id": "c9cee173c920a494"
  },
  {
   "metadata": {
    "ExecuteTime": {
     "end_time": "2024-07-03T16:43:24.061290Z",
     "start_time": "2024-07-03T16:43:24.061111Z"
    }
   },
   "cell_type": "code",
   "source": [
    "mlp = MLP(input_size=512, hidden_sizes=[512, 256], output_size=len(dataset.classes), dropout_rate=0.2)\n",
    "emlp = EncoderMLP(encoder=enc, mlp=mlp)\n",
    "emlp_optim = optim.Adam(emlp.parameters(), lr=1e-4)\n",
    "emlp_criterion = nn.CrossEntropyLoss()\n",
    "emlp_runner = Runner('emlp_1_a', emlp, emlp_optim, emlp_criterion, device='mps')\n",
    "emlp.freeze_encoder()\n",
    "emlp_runner.train(train_loader, val_loader, num_epochs=3)\n",
    "emlp_runner.test(test_loader)"
   ],
   "id": "3d5bd6b5cc4043ab",
   "outputs": [],
   "execution_count": null
  },
  {
   "metadata": {},
   "cell_type": "markdown",
   "source": "##### Live Encoder + MLP",
   "id": "a2b0e3ea23932c62"
  },
  {
   "metadata": {
    "ExecuteTime": {
     "end_time": "2024-07-03T16:43:24.062314Z",
     "start_time": "2024-07-03T16:43:24.062233Z"
    }
   },
   "cell_type": "code",
   "source": [
    "mlp = MLP(input_size=512, hidden_sizes=[512, 256], output_size=len(dataset.classes), dropout_rate=0.2)\n",
    "emlp = EncoderMLP(encoder=enc, mlp=mlp)\n",
    "emlp_optim = optim.Adam(emlp.parameters(), lr=1e-4)\n",
    "emlp_criterion = nn.CrossEntropyLoss()\n",
    "emlp_runner = Runner('emlp_1_b', emlp, emlp_optim, emlp_criterion, device='mps')\n",
    "emlp.freeze_encoder()\n",
    "emlp_runner.train(train_loader, val_loader, num_epochs=3)\n",
    "emlp_runner.test(test_loader)"
   ],
   "id": "318ebd8e00d45b27",
   "outputs": [],
   "execution_count": null
  },
  {
   "metadata": {},
   "cell_type": "markdown",
   "source": "##### Cleanup",
   "id": "8afa0c5881e52373"
  },
  {
   "metadata": {
    "ExecuteTime": {
     "end_time": "2024-07-03T19:13:59.830056Z",
     "start_time": "2024-07-03T19:13:58.941262Z"
    }
   },
   "cell_type": "code",
   "source": [
    "del ul_train_loader, ul_val_loader, train_loader, val_loader, test_loader\n",
    "gc.collect()"
   ],
   "id": "ccb9ac5d7e90d2b",
   "outputs": [
    {
     "data": {
      "text/plain": [
       "425"
      ]
     },
     "execution_count": 9,
     "metadata": {},
     "output_type": "execute_result"
    }
   ],
   "execution_count": 9
  },
  {
   "metadata": {},
   "cell_type": "markdown",
   "source": "## Run 2",
   "id": "1a298c93ed84b932"
  },
  {
   "metadata": {
    "ExecuteTime": {
     "end_time": "2024-07-03T19:16:52.126889Z",
     "start_time": "2024-07-03T19:14:02.250347Z"
    }
   },
   "cell_type": "code",
   "source": [
    "ul_train_loader, ul_val_loader, train_loader, val_loader, test_loader = split(dataset, batch_size=BATCH_SIZE, labeled_ratio=0.5, test_ratio=0.15)\n",
    "\n",
    "ul_train_loader = ReconstructionDataLoader(ul_train_loader)\n",
    "ul_val_loader = ReconstructionDataLoader(ul_val_loader)"
   ],
   "id": "cc8f297e104c3c5a",
   "outputs": [],
   "execution_count": 10
  },
  {
   "metadata": {},
   "cell_type": "markdown",
   "source": "##### CNN",
   "id": "b189faece320347"
  },
  {
   "metadata": {
    "jupyter": {
     "is_executing": true
    },
    "ExecuteTime": {
     "start_time": "2024-07-03T19:16:52.128363Z"
    }
   },
   "cell_type": "code",
   "source": [
    "cnn = ConvNext(num_classes=len(dataset.classes))\n",
    "cnn_optim = optim.Adam(cnn.parameters(), lr=1e-4)\n",
    "cnn_criterion = nn.CrossEntropyLoss()\n",
    "cnn_runner = Runner('cnn_2', cnn, cnn_optim, cnn_criterion, device='mps')\n",
    "cnn_runner.train(train_loader, val_loader, num_epochs=3)\n",
    "cnn_runner.test(test_loader)"
   ],
   "id": "3d31c5b8240c0b64",
   "outputs": [
    {
     "data": {
      "text/plain": [
       "Training:   0%|          | 0/3 [00:00<?, ? epoch/s]"
      ],
      "application/vnd.jupyter.widget-view+json": {
       "version_major": 2,
       "version_minor": 0,
       "model_id": "3170fda232914481a62237ed794d9fc3"
      }
     },
     "metadata": {},
     "output_type": "display_data"
    },
    {
     "data": {
      "text/plain": [
       "Training:   0%|          | 0/243 [00:00<?, ?batch/s]"
      ],
      "application/vnd.jupyter.widget-view+json": {
       "version_major": 2,
       "version_minor": 0,
       "model_id": "fce8a7dd11fa41e1b5e6ad562d4ec8e5"
      }
     },
     "metadata": {},
     "output_type": "display_data"
    }
   ],
   "execution_count": null
  },
  {
   "metadata": {},
   "cell_type": "markdown",
   "source": "##### Autoencoder",
   "id": "aeef25d8cd5f709e"
  },
  {
   "metadata": {
    "jupyter": {
     "is_executing": true
    }
   },
   "cell_type": "code",
   "source": [
    "uae = UNetAutoencoder()\n",
    "uae_optim = optim.Adam(uae.parameters(), lr=1e-3)\n",
    "uae_criterion = nn.MSELoss()\n",
    "uae_runner = Runner('uae_2', uae, uae_optim, uae_criterion, device='mps')\n",
    "uae_runner.train(ul_train_loader, ul_val_loader, num_epochs=3)\n",
    "\n",
    "enc = uae.encoder"
   ],
   "id": "110890e30ce793c2",
   "outputs": [],
   "execution_count": null
  },
  {
   "metadata": {},
   "cell_type": "markdown",
   "source": "##### Frozen Encoder + MLP",
   "id": "3c1415119f710d42"
  },
  {
   "metadata": {},
   "cell_type": "code",
   "source": [
    "mlp = MLP(input_size=512, hidden_sizes=[512, 256], output_size=len(dataset.classes), dropout_rate=0.2)\n",
    "emlp = EncoderMLP(encoder=enc, mlp=mlp)\n",
    "emlp_optim = optim.Adam(emlp.parameters(), lr=1e-4)\n",
    "emlp_criterion = nn.CrossEntropyLoss()\n",
    "emlp_runner = Runner('emlp_2_a', emlp, emlp_optim, emlp_criterion, device='mps')\n",
    "emlp.freeze_encoder()\n",
    "emlp_runner.train(train_loader, val_loader, num_epochs=3)\n",
    "emlp_runner.test(test_loader)"
   ],
   "id": "9c2eebcf33912d50",
   "outputs": [],
   "execution_count": null
  },
  {
   "metadata": {},
   "cell_type": "markdown",
   "source": "##### Live Encoder + MLP",
   "id": "f6d8f10762e55cf2"
  },
  {
   "metadata": {},
   "cell_type": "code",
   "source": [
    "mlp = MLP(input_size=512, hidden_sizes=[512, 256], output_size=len(dataset.classes), dropout_rate=0.2)\n",
    "emlp = EncoderMLP(encoder=enc, mlp=mlp)\n",
    "emlp_optim = optim.Adam(emlp.parameters(), lr=1e-4)\n",
    "emlp_criterion = nn.CrossEntropyLoss()\n",
    "emlp_runner = Runner('emlp_2_b', emlp, emlp_optim, emlp_criterion, device='mps')\n",
    "emlp.unfreeze_encoder()\n",
    "emlp_runner.train(train_loader, val_loader, num_epochs=3)\n",
    "emlp_runner.test(test_loader)"
   ],
   "id": "88a1295c0b569f64",
   "outputs": [],
   "execution_count": null
  }
 ],
 "metadata": {
  "kernelspec": {
   "display_name": "Python 3",
   "language": "python",
   "name": "python3"
  },
  "language_info": {
   "codemirror_mode": {
    "name": "ipython",
    "version": 2
   },
   "file_extension": ".py",
   "mimetype": "text/x-python",
   "name": "python",
   "nbconvert_exporter": "python",
   "pygments_lexer": "ipython2",
   "version": "2.7.6"
  }
 },
 "nbformat": 4,
 "nbformat_minor": 5
}
