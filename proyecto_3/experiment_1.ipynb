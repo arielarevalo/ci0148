{
 "cells": [
  {
   "metadata": {},
   "cell_type": "markdown",
   "source": "# Experiment 1",
   "id": "9e704b740dfc4acd"
  },
  {
   "metadata": {
    "ExecuteTime": {
     "end_time": "2024-06-30T00:07:21.469629Z",
     "start_time": "2024-06-30T00:07:21.315088Z"
    }
   },
   "cell_type": "code",
   "source": [
    "%load_ext autoreload\n",
    "%autoreload 2"
   ],
   "id": "361d3a33c84134a5",
   "outputs": [
    {
     "name": "stdout",
     "output_type": "stream",
     "text": [
      "The autoreload extension is already loaded. To reload it, use:\n",
      "  %reload_ext autoreload\n"
     ]
    }
   ],
   "execution_count": 17
  },
  {
   "metadata": {},
   "cell_type": "markdown",
   "source": "## Imports",
   "id": "e9c145d80440ea57"
  },
  {
   "metadata": {
    "ExecuteTime": {
     "end_time": "2024-06-30T00:07:21.483384Z",
     "start_time": "2024-06-30T00:07:21.470703Z"
    }
   },
   "cell_type": "code",
   "source": [
    "import numpy as np\n",
    "from sklearn.model_selection import train_test_split\n",
    "from torch.utils.data import Dataset, DataLoader, SubsetRandomSampler\n",
    "\n",
    "from plant_village_dataset import PlantVillageDataset"
   ],
   "id": "d518676c9749b0b0",
   "outputs": [],
   "execution_count": 18
  },
  {
   "metadata": {},
   "cell_type": "markdown",
   "source": [
    "## Prepare Data\n",
    "\n",
    "Here we define the split according to project specifications, with the decision made to interpret 10% of the dataset to be used for training as including both the training and validation data, and the 10% for testing to be used wholly for testing proper."
   ],
   "id": "ef6e119d55682dc"
  },
  {
   "metadata": {
    "ExecuteTime": {
     "end_time": "2024-06-30T00:07:21.495865Z",
     "start_time": "2024-06-30T00:07:21.483955Z"
    }
   },
   "cell_type": "code",
   "source": [
    "def split(dataset, batch_size=128):\n",
    "    \"\"\"Splits the data into unlabeled, training, validation, and testing.\n",
    "\n",
    "    Args:\n",
    "        dataset (Dataset): Dataset to produce splits from\n",
    "        batch_size (int, optional): Batch size for the data loaders. Defaults to 128.\n",
    "\n",
    "    Returns:\n",
    "        tuple: Tuple containing unlabeled, training, validation, and test data loaders.\n",
    "    \"\"\"\n",
    "    labels = np.array([label for _, label in dataset])\n",
    "\n",
    "    unlabeled_indices, labeled_indices = train_test_split(np.arange(len(dataset)),\n",
    "                                                          test_size=0.2,\n",
    "                                                          stratify=labels)\n",
    "    train_val_indices, test_indices = train_test_split(labeled_indices,\n",
    "                                                       test_size=0.5,\n",
    "                                                       stratify=labels)\n",
    "    train_indices, val_indices = train_test_split(train_val_indices,\n",
    "                                                  test_size=0.2,\n",
    "                                                  stratify=labels)\n",
    "\n",
    "    unlabeled_sampler = SubsetRandomSampler(unlabeled_indices)\n",
    "    train_sampler = SubsetRandomSampler(train_indices)\n",
    "    val_sampler = SubsetRandomSampler(val_indices)\n",
    "    test_sampler = SubsetRandomSampler(test_indices)\n",
    "\n",
    "    unlabeled_loader = DataLoader(dataset, batch_size=batch_size, sampler=unlabeled_sampler)\n",
    "    train_loader = DataLoader(dataset, batch_size=batch_size, sampler=train_sampler)\n",
    "    val_loader = DataLoader(dataset, batch_size=batch_size, sampler=val_sampler)\n",
    "    test_loader = DataLoader(dataset, batch_size=batch_size, sampler=test_sampler)\n",
    "\n",
    "    return unlabeled_loader, train_loader, val_loader, test_loader"
   ],
   "id": "2ef1dbcc41c8dd49",
   "outputs": [],
   "execution_count": 19
  },
  {
   "metadata": {
    "ExecuteTime": {
     "end_time": "2024-06-30T00:08:22.182758Z",
     "start_time": "2024-06-30T00:07:21.496833Z"
    }
   },
   "cell_type": "code",
   "source": "dataset = PlantVillageDataset('images')",
   "id": "e03f52ea1e1296c4",
   "outputs": [
    {
     "name": "stdout",
     "output_type": "stream",
     "text": [
      "Loading Plant Village\n",
      " - Normalizing dataset\n"
     ]
    },
    {
     "name": "stderr",
     "output_type": "stream",
     "text": [
      " - Calculating mean and standard deviation: 100%|██████████| 434/434 [01:00<00:00,  7.18it/s]"
     ]
    },
    {
     "name": "stdout",
     "output_type": "stream",
     "text": [
      " - Normalized dataset:\n",
      "  - Mean: [0.4673, 0.4897, 0.4125]\n",
      "  - Standard deviation: [0.1670, 0.1398, 0.1845]\n"
     ]
    },
    {
     "name": "stderr",
     "output_type": "stream",
     "text": [
      "\n"
     ]
    }
   ],
   "execution_count": 20
  },
  {
   "metadata": {},
   "cell_type": "markdown",
   "source": "## Run 1",
   "id": "b43c40dfa82eccf2"
  },
  {
   "metadata": {},
   "cell_type": "markdown",
   "source": "### Split",
   "id": "dbe7e2475f3b8e66"
  },
  {
   "metadata": {},
   "cell_type": "code",
   "outputs": [],
   "execution_count": null,
   "source": "unlabeled_loader, train_loader, val_loader, test_loader = split(dataset)",
   "id": "dbf2b9b8d12ec21e"
  },
  {
   "metadata": {},
   "cell_type": "markdown",
   "source": "### Train",
   "id": "4519b9142409c43a"
  },
  {
   "metadata": {
    "ExecuteTime": {
     "end_time": "2024-06-30T00:30:29.676760Z",
     "start_time": "2024-06-30T00:30:29.657359Z"
    }
   },
   "cell_type": "code",
   "source": [
    "# Declare ResNet50\n",
    "# Train ResNet50\n",
    "\n",
    "# Declare UNetAutoEncoder\n",
    "# Train UNetAutoEncoder\n",
    "\n",
    "# Extract Encoder from UNetAutoEncoder\n",
    "# Declare 2 Encoder + ResNet50 Frankensteins\n",
    "\n",
    "# Train one Frankenstein with the Encoder's weights set to eval() (Frozen)\n",
    "\n",
    "# Train the second Frankenstein normally"
   ],
   "id": "c626dea4aae28011",
   "outputs": [],
   "execution_count": 21
  },
  {
   "metadata": {},
   "cell_type": "markdown",
   "source": "### Test",
   "id": "37b13287cfc6e68d"
  },
  {
   "metadata": {},
   "cell_type": "code",
   "outputs": [],
   "execution_count": null,
   "source": "",
   "id": "1e03a8bd7ad83323"
  },
  {
   "metadata": {},
   "cell_type": "markdown",
   "source": "## Run 2",
   "id": "1a298c93ed84b932"
  },
  {
   "metadata": {},
   "cell_type": "markdown",
   "source": "### Split",
   "id": "725b97a8b2af3dbe"
  },
  {
   "metadata": {},
   "cell_type": "markdown",
   "source": "### Train",
   "id": "7819dd0ee57886b0"
  },
  {
   "metadata": {},
   "cell_type": "markdown",
   "source": "### Test",
   "id": "dc597cf020f15d51"
  },
  {
   "metadata": {},
   "cell_type": "markdown",
   "source": "## Results",
   "id": "1f6c585cc0324be2"
  }
 ],
 "metadata": {
  "kernelspec": {
   "display_name": "Python 3",
   "language": "python",
   "name": "python3"
  },
  "language_info": {
   "codemirror_mode": {
    "name": "ipython",
    "version": 2
   },
   "file_extension": ".py",
   "mimetype": "text/x-python",
   "name": "python",
   "nbconvert_exporter": "python",
   "pygments_lexer": "ipython2",
   "version": "2.7.6"
  }
 },
 "nbformat": 4,
 "nbformat_minor": 5
}
