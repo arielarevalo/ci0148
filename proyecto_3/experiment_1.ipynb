{
 "cells": [
  {
   "metadata": {},
   "cell_type": "markdown",
   "source": "# Experiment 1",
   "id": "9e704b740dfc4acd"
  },
  {
   "metadata": {
    "ExecuteTime": {
     "end_time": "2024-07-03T03:31:45.307904Z",
     "start_time": "2024-07-03T03:31:45.298360Z"
    }
   },
   "cell_type": "code",
   "source": [
    "%load_ext autoreload\n",
    "%autoreload 2"
   ],
   "id": "361d3a33c84134a5",
   "outputs": [],
   "execution_count": 1
  },
  {
   "metadata": {},
   "cell_type": "markdown",
   "source": "## Imports",
   "id": "e9c145d80440ea57"
  },
  {
   "metadata": {
    "ExecuteTime": {
     "end_time": "2024-07-03T03:52:24.549092Z",
     "start_time": "2024-07-03T03:52:24.290649Z"
    }
   },
   "cell_type": "code",
   "source": [
    "import gc\n",
    "import numpy as np\n",
    "from sklearn.model_selection import train_test_split\n",
    "from torch.utils.data import Dataset, DataLoader, SubsetRandomSampler\n",
    "from torch import nn, optim\n",
    "from torchinfo import summary\n",
    "\n",
    "from plant_village_dataset import PlantVillageDataset\n",
    "from runner import Runner\n",
    "from convnext import ConvNext\n",
    "from resnet50 import ResNet50\n",
    "from unet_autoencoder import UNetAutoencoder, UNetEncoder, UNetDecoder"
   ],
   "id": "d518676c9749b0b0",
   "outputs": [],
   "execution_count": 19
  },
  {
   "metadata": {},
   "cell_type": "markdown",
   "source": "## Prepare Data",
   "id": "ef6e119d55682dc"
  },
  {
   "metadata": {
    "ExecuteTime": {
     "end_time": "2024-07-03T03:31:48.474376Z",
     "start_time": "2024-07-03T03:31:48.462231Z"
    }
   },
   "cell_type": "code",
   "source": "BATCH_SIZE = 128",
   "id": "9ff4e1516b8f6e40",
   "outputs": [],
   "execution_count": 3
  },
  {
   "metadata": {
    "ExecuteTime": {
     "end_time": "2024-07-03T03:31:48.488513Z",
     "start_time": "2024-07-03T03:31:48.476116Z"
    }
   },
   "cell_type": "code",
   "source": [
    "def split(dataset, batch_size, labeled_ratio, test_ratio):    \n",
    "    labels = np.array([label for _, label in dataset])\n",
    "\n",
    "    unlabeled_indices, labeled_indices = train_test_split(np.arange(len(dataset)),\n",
    "                                                          test_size=labeled_ratio,\n",
    "                                                          stratify=labels)   \n",
    "    \n",
    "    ul_train_indices, ul_val_indices = train_test_split(unlabeled_indices, test_size=0.1)\n",
    "    \n",
    "    relative_test_ratio = test_ratio / labeled_ratio\n",
    "    \n",
    "    train_val_indices, test_indices = train_test_split(labeled_indices,\n",
    "                                                       test_size=relative_test_ratio,\n",
    "                                                       stratify=labels[labeled_indices])\n",
    "    \n",
    "    train_indices, val_indices = train_test_split(train_val_indices,\n",
    "                                                  test_size=0.2,\n",
    "                                                  stratify=labels[train_val_indices])\n",
    "\n",
    "    ul_train_sampler = SubsetRandomSampler(ul_train_indices)\n",
    "    ul_val_sampler = SubsetRandomSampler(ul_val_indices)\n",
    "    train_sampler = SubsetRandomSampler(train_indices)\n",
    "    val_sampler = SubsetRandomSampler(val_indices)\n",
    "    test_sampler = SubsetRandomSampler(test_indices)\n",
    "\n",
    "    ul_train_loader = DataLoader(dataset, batch_size=batch_size, sampler=ul_train_sampler)\n",
    "    ul_val_loader = DataLoader(dataset, batch_size=batch_size, sampler=ul_val_sampler)\n",
    "    train_loader = DataLoader(dataset, batch_size=batch_size, sampler=train_sampler)\n",
    "    val_loader = DataLoader(dataset, batch_size=batch_size, sampler=val_sampler)\n",
    "    test_loader = DataLoader(dataset, batch_size=batch_size, sampler=test_sampler)\n",
    "\n",
    "    return ul_train_loader, ul_val_loader, train_loader, val_loader, test_loader"
   ],
   "id": "2ef1dbcc41c8dd49",
   "outputs": [],
   "execution_count": 4
  },
  {
   "metadata": {
    "ExecuteTime": {
     "end_time": "2024-07-03T03:31:48.500700Z",
     "start_time": "2024-07-03T03:31:48.489261Z"
    }
   },
   "cell_type": "code",
   "source": [
    "class ReconstructionDataLoader:\n",
    "    def __init__(self, base_loader):\n",
    "        self.base_loader = base_loader\n",
    "\n",
    "    def __iter__(self):\n",
    "        for data in self.base_loader:\n",
    "            images, _ = data  # Ignore labels or other types of data\n",
    "            yield images, images  # Yield images as both input and target\n",
    "\n",
    "    def __len__(self):\n",
    "        return len(self.base_loader)"
   ],
   "id": "f233d4efacb0a40e",
   "outputs": [],
   "execution_count": 5
  },
  {
   "metadata": {
    "ExecuteTime": {
     "end_time": "2024-07-03T03:32:57.775743Z",
     "start_time": "2024-07-03T03:31:48.501493Z"
    }
   },
   "cell_type": "code",
   "source": "dataset = PlantVillageDataset('images')",
   "id": "e03f52ea1e1296c4",
   "outputs": [
    {
     "name": "stdout",
     "output_type": "stream",
     "text": [
      "Loading Plant Village\n",
      " - Normalizing dataset\n"
     ]
    },
    {
     "name": "stderr",
     "output_type": "stream",
     "text": [
      " - Calculating mean and standard deviation: 100%|██████████| 434/434 [01:09<00:00,  6.28batch/s]"
     ]
    },
    {
     "name": "stdout",
     "output_type": "stream",
     "text": [
      " - Normalized dataset:\n",
      "  - Mean: [0.4671, 0.4895, 0.4123]\n",
      "  - Standard deviation: [0.1709, 0.1443, 0.1880]\n"
     ]
    },
    {
     "name": "stderr",
     "output_type": "stream",
     "text": [
      "\n"
     ]
    }
   ],
   "execution_count": 6
  },
  {
   "metadata": {},
   "cell_type": "markdown",
   "source": "## Run 1",
   "id": "b43c40dfa82eccf2"
  },
  {
   "metadata": {
    "ExecuteTime": {
     "end_time": "2024-07-03T03:35:52.720985Z",
     "start_time": "2024-07-03T03:32:57.777308Z"
    }
   },
   "cell_type": "code",
   "source": [
    "ul_train_loader, ul_val_loader, train_loader, val_loader, test_loader = split(dataset, batch_size=BATCH_SIZE, labeled_ratio=0.2, test_ratio=0.1)\n",
    "\n",
    "ul_train_loader = ReconstructionDataLoader(ul_train_loader)\n",
    "ul_val_loader = ReconstructionDataLoader(ul_val_loader)"
   ],
   "id": "dbf2b9b8d12ec21e",
   "outputs": [],
   "execution_count": 7
  },
  {
   "metadata": {},
   "cell_type": "markdown",
   "source": "##### CNN",
   "id": "1666a4be9986accd"
  },
  {
   "metadata": {
    "jupyter": {
     "is_executing": true
    },
    "ExecuteTime": {
     "start_time": "2024-07-03T05:00:36.804117Z"
    }
   },
   "cell_type": "code",
   "source": [
    "cnn = ConvNext(num_classes=len(dataset.classes))\n",
    "cnn_optim = optim.Adam(cnn.parameters(), lr=1e-3)\n",
    "cnn_criterion = nn.CrossEntropyLoss()\n",
    "cnn_runner = Runner('cnn_1', cnn, cnn_optim, cnn_criterion, device='mps')\n",
    "cnn_runner.train(train_loader, val_loader, num_epochs=3)\n",
    "cnn_runner.test(test_loader)\n",
    "pass"
   ],
   "id": "c626dea4aae28011",
   "outputs": [
    {
     "data": {
      "text/plain": [
       "Training:   0%|          | 0/3 [00:00<?, ? epoch/s]"
      ],
      "application/vnd.jupyter.widget-view+json": {
       "version_major": 2,
       "version_minor": 0,
       "model_id": "a4dced1842f34c03971664288f0b597d"
      }
     },
     "metadata": {},
     "output_type": "display_data"
    },
    {
     "data": {
      "text/plain": [
       "Training:   0%|          | 0/35 [00:00<?, ?batch/s]"
      ],
      "application/vnd.jupyter.widget-view+json": {
       "version_major": 2,
       "version_minor": 0,
       "model_id": "4ee4f3834c8a45798c5bded772d21776"
      }
     },
     "metadata": {},
     "output_type": "display_data"
    }
   ],
   "execution_count": null
  },
  {
   "metadata": {},
   "cell_type": "markdown",
   "source": "##### Autoencoder",
   "id": "a7691eb99adf809a"
  },
  {
   "metadata": {
    "ExecuteTime": {
     "end_time": "2024-07-03T04:25:02.319484Z",
     "start_time": "2024-07-03T03:55:34.312983Z"
    }
   },
   "cell_type": "code",
   "source": [
    "uae = UNetAutoencoder()\n",
    "uae_optim = optim.Adam(uae.parameters(), lr=1e-3)\n",
    "uae_criterion = nn.MSELoss()\n",
    "uae_runner = Runner('uae_1', uae, uae_optim, uae_criterion, device='mps')\n",
    "uae_runner.train(ul_train_loader, ul_val_loader, num_epochs=3)\n",
    "\n",
    "enc = uae.encoder"
   ],
   "id": "f117d9666726abad",
   "outputs": [
    {
     "data": {
      "text/plain": [
       "Training:   0%|          | 0/3 [00:00<?, ? epoch/s]"
      ],
      "application/vnd.jupyter.widget-view+json": {
       "version_major": 2,
       "version_minor": 0,
       "model_id": "6b1e30364b954838ba7114111f11c8da"
      }
     },
     "metadata": {},
     "output_type": "display_data"
    },
    {
     "data": {
      "text/plain": [
       "Training:   0%|          | 0/312 [00:00<?, ?batch/s]"
      ],
      "application/vnd.jupyter.widget-view+json": {
       "version_major": 2,
       "version_minor": 0,
       "model_id": "29a40ddd89254d8b9614aca7e1bf527a"
      }
     },
     "metadata": {},
     "output_type": "display_data"
    },
    {
     "data": {
      "text/plain": [
       "Validating:   0%|          | 0/35 [00:00<?, ?batch/s]"
      ],
      "application/vnd.jupyter.widget-view+json": {
       "version_major": 2,
       "version_minor": 0,
       "model_id": "4c84680eec4b4ec4aa8264b1c7a0f363"
      }
     },
     "metadata": {},
     "output_type": "display_data"
    },
    {
     "name": "stdout",
     "output_type": "stream",
     "text": [
      "Epoch 1/3 - Train Loss: 0.0000, Validation Loss: 0.0043\n",
      "Early stopping at epoch 1\n"
     ]
    }
   ],
   "execution_count": 21
  },
  {
   "metadata": {},
   "cell_type": "markdown",
   "source": "##### Frozen Encoder + MLP",
   "id": "c9cee173c920a494"
  },
  {
   "metadata": {},
   "cell_type": "code",
   "source": "# Train one Frankenstein with the Encoder's weights set to eval() (Frozen)",
   "id": "3d5bd6b5cc4043ab",
   "outputs": [],
   "execution_count": null
  },
  {
   "metadata": {},
   "cell_type": "markdown",
   "source": "##### Live Encoder + MLP",
   "id": "a2b0e3ea23932c62"
  },
  {
   "metadata": {},
   "cell_type": "code",
   "source": "# Train the second Frankenstein normally",
   "id": "318ebd8e00d45b27",
   "outputs": [],
   "execution_count": null
  },
  {
   "metadata": {},
   "cell_type": "markdown",
   "source": "##### Cleanup",
   "id": "8afa0c5881e52373"
  },
  {
   "metadata": {},
   "cell_type": "code",
   "source": [
    "del ul_train_loader, ul_val_loader, train_loader, val_loader, test_loader\n",
    "gc.collect()"
   ],
   "id": "ccb9ac5d7e90d2b",
   "outputs": [],
   "execution_count": null
  },
  {
   "metadata": {},
   "cell_type": "markdown",
   "source": "## Run 2",
   "id": "1a298c93ed84b932"
  },
  {
   "metadata": {},
   "cell_type": "code",
   "source": [
    "ul_train_loader, ul_val_loader, train_loader, val_loader, test_loader = split(dataset, batch_size=BATCH_SIZE, labeled_ratio=0.5, test_ratio=0.15)\n",
    "\n",
    "ul_train_loader = ReconstructionDataLoader(ul_train_loader)\n",
    "ul_val_loader = ReconstructionDataLoader(ul_val_loader)"
   ],
   "id": "cc8f297e104c3c5a",
   "outputs": [],
   "execution_count": null
  },
  {
   "metadata": {},
   "cell_type": "markdown",
   "source": "##### CNN",
   "id": "b189faece320347"
  },
  {
   "metadata": {},
   "cell_type": "code",
   "source": [
    "cnn = ConvNext(num_classes=len(dataset.classes))\n",
    "cnn_optim = optim.Adam(cnn.parameters(), lr=1e-3)\n",
    "cnn_criterion = nn.CrossEntropyLoss()\n",
    "cnn_runner = Runner('cnn_2', cnn, cnn_optim, cnn_criterion, device='mps')\n",
    "cnn_runner.train(train_loader, val_loader, num_epochs=3)\n",
    "cnn_runner.test(test_loader)\n",
    "pass"
   ],
   "id": "2f9e64879ae2bc33",
   "outputs": [],
   "execution_count": null
  },
  {
   "metadata": {},
   "cell_type": "markdown",
   "source": "##### Autoencoder",
   "id": "aeef25d8cd5f709e"
  },
  {
   "metadata": {},
   "cell_type": "code",
   "source": [
    "# Declare UNetAutoEncoder\n",
    "# Train UNetAutoEncoder\n",
    "# Extract Encoder from UNetAutoEncoder"
   ],
   "id": "110890e30ce793c2",
   "outputs": [],
   "execution_count": null
  },
  {
   "metadata": {},
   "cell_type": "markdown",
   "source": "##### Frozen Encoder + MLP",
   "id": "3c1415119f710d42"
  },
  {
   "metadata": {},
   "cell_type": "code",
   "source": "# Train one Frankenstein with the Encoder's weights set to eval() (Frozen)",
   "id": "9c2eebcf33912d50",
   "outputs": [],
   "execution_count": null
  },
  {
   "metadata": {},
   "cell_type": "markdown",
   "source": "##### Live Encoder + MLP",
   "id": "f6d8f10762e55cf2"
  },
  {
   "metadata": {},
   "cell_type": "code",
   "source": "# Train the second Frankenstein normally",
   "id": "88a1295c0b569f64",
   "outputs": [],
   "execution_count": null
  }
 ],
 "metadata": {
  "kernelspec": {
   "display_name": "Python 3",
   "language": "python",
   "name": "python3"
  },
  "language_info": {
   "codemirror_mode": {
    "name": "ipython",
    "version": 2
   },
   "file_extension": ".py",
   "mimetype": "text/x-python",
   "name": "python",
   "nbconvert_exporter": "python",
   "pygments_lexer": "ipython2",
   "version": "2.7.6"
  }
 },
 "nbformat": 4,
 "nbformat_minor": 5
}
