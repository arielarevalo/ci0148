{
 "cells": [
  {
   "cell_type": "code",
   "execution_count": null,
   "metadata": {},
   "outputs": [],
   "source": [
    "%load_ext autoreload\n",
    "%autoreload 2"
   ]
  },
  {
   "cell_type": "code",
   "execution_count": null,
   "metadata": {},
   "outputs": [],
   "source": [
    "import torch\n",
    "import torch.nn as nn\n",
    "import torch.utils.data as data\n",
    "import torchvision.transforms as transforms\n",
    "import torchvision.datasets as datasets\n",
    "from sklearn.decomposition import PCA\n",
    "from sklearn.manifold import TSNE\n",
    "import matplotlib.pyplot as plt\n",
    "from torch.utils.tensorboard import SummaryWriter\n",
    "from src.unet_autoencoder import UNetAutoencoder, UNetEncoder\n",
    "from src.latent_vector import visualize_latent_space, log_to_tensorboard"
   ]
  },
  {
   "cell_type": "code",
   "execution_count": null,
   "metadata": {},
   "outputs": [],
   "source": [
    "# Set up device, data loader, and model\n",
    "device = torch.device('cuda' if torch.cuda.is_available() else 'cpu')\n",
    "transform = transforms.Compose([\n",
    "        transforms.Resize((224, 224)),\n",
    "        transforms.ToTensor()\n",
    "    ])\n",
    "dataset = datasets.CIFAR10(root='./data', train=True, download=True, transform=transform)\n",
    "dataloader = data.DataLoader(dataset, batch_size=64, shuffle=False)\n",
    "\n",
    "encoder = UNetAutoencoder().encoder.to(device)\n",
    "# Load your pre-trained model weights here\n",
    "# encoder.load_state_dict(torch.load('./models/uae_1.pth', map_location=device) )\n",
    "\n",
    "reduced_latents, labels = visualize_latent_space(encoder, dataloader, device, use_tsne=True)\n",
    "\n",
    "writer = SummaryWriter('runs/latent_space_visualization')\n",
    "log_to_tensorboard(writer, reduced_latents, labels)"
   ]
  },
  {
   "cell_type": "code",
   "execution_count": null,
   "metadata": {},
   "outputs": [],
   "source": [
    "encoder = UNetAutoencoder().encoder.to(device)\n",
    "# Load your pre-trained model weights here\n",
    "# encoder.load_state_dict(torch.load('./models/uae_2.pth', map_location=device))\n",
    "\n",
    "reduced_latents, labels = visualize_latent_space(encoder, dataloader, device, use_tsne=True)\n",
    "\n",
    "writer = SummaryWriter('runs/latent_space_visualization')\n",
    "log_to_tensorboard(writer, reduced_latents, labels)"
   ]
  }
 ],
 "metadata": {
  "kernelspec": {
   "display_name": "Python 3",
   "language": "python",
   "name": "python3"
  },
  "language_info": {
   "codemirror_mode": {
    "name": "ipython",
    "version": 3
   },
   "file_extension": ".py",
   "mimetype": "text/x-python",
   "name": "python",
   "nbconvert_exporter": "python",
   "pygments_lexer": "ipython3",
   "version": "3.8.10"
  }
 },
 "nbformat": 4,
 "nbformat_minor": 2
}
