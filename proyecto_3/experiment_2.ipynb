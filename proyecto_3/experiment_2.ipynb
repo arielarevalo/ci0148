{
 "cells": [
  {
   "metadata": {},
   "cell_type": "markdown",
   "source": "# Experiment 2",
   "id": "d77f0dc05108c300"
  },
  {
   "metadata": {
    "ExecuteTime": {
     "end_time": "2024-07-04T00:27:36.323150Z",
     "start_time": "2024-07-04T00:27:36.298049Z"
    }
   },
   "cell_type": "code",
   "source": [
    "%load_ext autoreload\n",
    "%autoreload 2"
   ],
   "id": "833f99ecda831457",
   "outputs": [
    {
     "name": "stdout",
     "output_type": "stream",
     "text": [
      "The autoreload extension is already loaded. To reload it, use:\n",
      "  %reload_ext autoreload\n"
     ]
    }
   ],
   "execution_count": 32
  },
  {
   "metadata": {},
   "cell_type": "markdown",
   "source": "## Imports",
   "id": "f3d19f1f337923bd"
  },
  {
   "metadata": {
    "ExecuteTime": {
     "end_time": "2024-07-04T00:31:21.252066Z",
     "start_time": "2024-07-04T00:31:21.223541Z"
    }
   },
   "cell_type": "code",
   "source": [
    "import torch\n",
    "import numpy as np\n",
    "from torch.utils.tensorboard import SummaryWriter\n",
    "from torch.utils.data import DataLoader, SubsetRandomSampler\n",
    "from sklearn.model_selection import train_test_split\n",
    "from latent_vector import visualize_latent_space, create_metadata_list, log_embeddings\n",
    "\n",
    "from plant_village_dataset import PlantVillageDataset"
   ],
   "id": "2cf36debe7301f83",
   "outputs": [],
   "execution_count": 36
  },
  {
   "metadata": {},
   "cell_type": "markdown",
   "source": "## Prepare Data",
   "id": "e027fb38b562eb07"
  },
  {
   "metadata": {
    "ExecuteTime": {
     "end_time": "2024-07-04T00:18:51.659775Z",
     "start_time": "2024-07-04T00:18:51.658069Z"
    }
   },
   "cell_type": "code",
   "source": "DEVICE = 'mps'",
   "id": "fe953a5defb7b1a2",
   "outputs": [],
   "execution_count": 22
  },
  {
   "cell_type": "code",
   "id": "initial_id",
   "metadata": {
    "collapsed": true,
    "ExecuteTime": {
     "end_time": "2024-07-04T00:20:36.154522Z",
     "start_time": "2024-07-04T00:18:51.660614Z"
    }
   },
   "source": "dataset = PlantVillageDataset('images')",
   "outputs": [
    {
     "name": "stdout",
     "output_type": "stream",
     "text": [
      "Loading Plant Village\n",
      " - Normalizing dataset\n"
     ]
    },
    {
     "name": "stderr",
     "output_type": "stream",
     "text": [
      " - Calculating mean and standard deviation: 100%|██████████| 867/867 [01:44<00:00,  8.32batch/s]"
     ]
    },
    {
     "name": "stdout",
     "output_type": "stream",
     "text": [
      " - Normalized dataset:\n",
      "  - Mean: [0.4671, 0.4895, 0.4123]\n",
      "  - Standard deviation: [0.1709, 0.1443, 0.1880]\n"
     ]
    },
    {
     "name": "stderr",
     "output_type": "stream",
     "text": [
      "\n"
     ]
    }
   ],
   "execution_count": 23
  },
  {
   "metadata": {
    "ExecuteTime": {
     "end_time": "2024-07-04T00:32:05.269327Z",
     "start_time": "2024-07-04T00:32:05.238791Z"
    }
   },
   "cell_type": "code",
   "source": "idx_to_class = {v: k for k, v in dataset.class_to_idx.items()}",
   "id": "9b51045075b51aac",
   "outputs": [],
   "execution_count": 38
  },
  {
   "metadata": {
    "ExecuteTime": {
     "end_time": "2024-07-04T00:20:36.183722Z",
     "start_time": "2024-07-04T00:20:36.157874Z"
    }
   },
   "cell_type": "code",
   "source": [
    "labels = dataset.get_labels()\n",
    "labels = np.array(labels)\n",
    "\n",
    "unused_indices, used_indices = train_test_split(np.arange(len(dataset)), test_size=0.1, stratify=labels)\n",
    "\n",
    "used_sampler = SubsetRandomSampler(used_indices)\n",
    "\n",
    "dataloader = DataLoader(dataset, batch_size=64, sampler=used_sampler, num_workers=12)"
   ],
   "id": "b82711b5bd620803",
   "outputs": [],
   "execution_count": 24
  },
  {
   "metadata": {},
   "cell_type": "markdown",
   "source": "## Write Visualization",
   "id": "664813ce33a39063"
  },
  {
   "metadata": {
    "ExecuteTime": {
     "end_time": "2024-07-04T00:20:36.956110Z",
     "start_time": "2024-07-04T00:20:36.184583Z"
    }
   },
   "cell_type": "code",
   "source": [
    "encoder = torch.load('./models/uae_1.pth').encoder\n",
    "encoder.to(DEVICE)\n",
    "pass"
   ],
   "id": "8260d32ed56c6a98",
   "outputs": [],
   "execution_count": 25
  },
  {
   "metadata": {
    "ExecuteTime": {
     "end_time": "2024-07-04T00:44:13.191233Z",
     "start_time": "2024-07-04T00:43:14.102955Z"
    }
   },
   "cell_type": "code",
   "source": [
    "writer = SummaryWriter('runs/latent_space_visualization')\n",
    "\n",
    "reduced_latents, labels = visualize_latent_space(encoder, dataloader, DEVICE, use_tsne=True)\n",
    "\n",
    "metadata = create_metadata_list(labels, idx_to_class)\n",
    "\n",
    "log_embeddings(writer, reduced_latents, metadata)"
   ],
   "id": "c9fe2fbab546d11a",
   "outputs": [
    {
     "name": "stdout",
     "output_type": "stream",
     "text": [
      "warning: Embedding dir exists, did you set global_step for add_embedding()?\n"
     ]
    }
   ],
   "execution_count": 40
  }
 ],
 "metadata": {
  "kernelspec": {
   "display_name": "Python 3",
   "language": "python",
   "name": "python3"
  },
  "language_info": {
   "codemirror_mode": {
    "name": "ipython",
    "version": 2
   },
   "file_extension": ".py",
   "mimetype": "text/x-python",
   "name": "python",
   "nbconvert_exporter": "python",
   "pygments_lexer": "ipython2",
   "version": "2.7.6"
  }
 },
 "nbformat": 4,
 "nbformat_minor": 5
}
