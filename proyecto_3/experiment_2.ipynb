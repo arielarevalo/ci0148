{
 "cells": [
  {
   "metadata": {},
   "cell_type": "markdown",
   "source": "# Experiment 2",
   "id": "d77f0dc05108c300"
  },
  {
   "metadata": {
    "ExecuteTime": {
     "end_time": "2024-07-04T01:15:56.074137Z",
     "start_time": "2024-07-04T01:15:56.043451Z"
    }
   },
   "cell_type": "code",
   "source": [
    "%load_ext autoreload\n",
    "%autoreload 2"
   ],
   "id": "833f99ecda831457",
   "outputs": [
    {
     "name": "stdout",
     "output_type": "stream",
     "text": [
      "The autoreload extension is already loaded. To reload it, use:\n",
      "  %reload_ext autoreload\n"
     ]
    }
   ],
   "execution_count": 56
  },
  {
   "metadata": {},
   "cell_type": "markdown",
   "source": "## Imports",
   "id": "f3d19f1f337923bd"
  },
  {
   "metadata": {
    "ExecuteTime": {
     "end_time": "2024-07-04T01:15:56.099777Z",
     "start_time": "2024-07-04T01:15:56.075292Z"
    }
   },
   "cell_type": "code",
   "source": [
    "import torch\n",
    "import numpy as np\n",
    "from torch.utils.tensorboard import SummaryWriter\n",
    "from torch.utils.data import DataLoader, SubsetRandomSampler\n",
    "from sklearn.model_selection import train_test_split\n",
    "from latent_vector import visualize_latent_space, create_metadata_list, log_embeddings\n",
    "\n",
    "from plant_village_dataset import PlantVillageDataset"
   ],
   "id": "2cf36debe7301f83",
   "outputs": [],
   "execution_count": 57
  },
  {
   "metadata": {},
   "cell_type": "markdown",
   "source": "## Prepare Data",
   "id": "e027fb38b562eb07"
  },
  {
   "metadata": {
    "ExecuteTime": {
     "end_time": "2024-07-04T01:15:56.122851Z",
     "start_time": "2024-07-04T01:15:56.100361Z"
    }
   },
   "cell_type": "code",
   "source": "DEVICE = 'mps'",
   "id": "fe953a5defb7b1a2",
   "outputs": [],
   "execution_count": 58
  },
  {
   "cell_type": "code",
   "id": "initial_id",
   "metadata": {
    "collapsed": true,
    "ExecuteTime": {
     "end_time": "2024-07-04T01:17:39.083364Z",
     "start_time": "2024-07-04T01:15:56.124097Z"
    }
   },
   "source": "dataset = PlantVillageDataset('images')",
   "outputs": [
    {
     "name": "stdout",
     "output_type": "stream",
     "text": [
      "Loading Plant Village\n",
      " - Normalizing dataset\n"
     ]
    },
    {
     "name": "stderr",
     "output_type": "stream",
     "text": [
      " - Calculating mean and standard deviation: 100%|██████████| 867/867 [01:42<00:00,  8.43batch/s]"
     ]
    },
    {
     "name": "stdout",
     "output_type": "stream",
     "text": [
      " - Normalized dataset:\n",
      "  - Mean: [0.4671, 0.4895, 0.4123]\n",
      "  - Standard deviation: [0.1709, 0.1443, 0.1880]\n"
     ]
    },
    {
     "name": "stderr",
     "output_type": "stream",
     "text": [
      "\n"
     ]
    }
   ],
   "execution_count": 59
  },
  {
   "metadata": {
    "ExecuteTime": {
     "end_time": "2024-07-04T01:17:39.136324Z",
     "start_time": "2024-07-04T01:17:39.085332Z"
    }
   },
   "cell_type": "code",
   "source": "idx_to_class = {v: k for k, v in dataset.class_to_idx.items()}",
   "id": "9b51045075b51aac",
   "outputs": [],
   "execution_count": 60
  },
  {
   "metadata": {
    "ExecuteTime": {
     "end_time": "2024-07-04T01:17:39.176524Z",
     "start_time": "2024-07-04T01:17:39.137190Z"
    }
   },
   "cell_type": "code",
   "source": [
    "labels = dataset.get_labels()\n",
    "labels = np.array(labels)\n",
    "\n",
    "unused_indices, used_indices = train_test_split(np.arange(len(dataset)), test_size=0.1, stratify=labels)\n",
    "\n",
    "used_sampler = SubsetRandomSampler(used_indices)\n",
    "\n",
    "dataloader = DataLoader(dataset, batch_size=64, sampler=used_sampler, num_workers=12)"
   ],
   "id": "b82711b5bd620803",
   "outputs": [],
   "execution_count": 61
  },
  {
   "metadata": {},
   "cell_type": "markdown",
   "source": "## Write Visualization",
   "id": "664813ce33a39063"
  },
  {
   "metadata": {},
   "cell_type": "markdown",
   "source": "##### Autoencoder",
   "id": "13ddb2d5c6d73c38"
  },
  {
   "metadata": {
    "ExecuteTime": {
     "end_time": "2024-07-04T01:17:40.309082Z",
     "start_time": "2024-07-04T01:17:39.177311Z"
    }
   },
   "cell_type": "code",
   "source": [
    "encoder = torch.load('./models/uae_1.pth', map_location=torch.device(DEVICE)).encoder\n",
    "encoder.to(DEVICE)\n",
    "pass"
   ],
   "id": "8260d32ed56c6a98",
   "outputs": [],
   "execution_count": 62
  },
  {
   "metadata": {
    "ExecuteTime": {
     "end_time": "2024-07-04T01:18:08.970718Z",
     "start_time": "2024-07-04T01:17:40.309669Z"
    }
   },
   "cell_type": "code",
   "source": [
    "writer = SummaryWriter('runs/latent_space_visualization/uae')\n",
    "\n",
    "reduced_latents, labels = visualize_latent_space(encoder, dataloader, DEVICE, use_tsne=False)\n",
    "\n",
    "metadata = create_metadata_list(labels, idx_to_class)\n",
    "\n",
    "log_embeddings(writer, reduced_latents, metadata)"
   ],
   "id": "c9fe2fbab546d11a",
   "outputs": [],
   "execution_count": 63
  },
  {
   "metadata": {},
   "cell_type": "markdown",
   "source": "##### Encoder + MLP",
   "id": "9772045ad5ebca5b"
  },
  {
   "metadata": {
    "ExecuteTime": {
     "end_time": "2024-07-04T01:18:09.605422Z",
     "start_time": "2024-07-04T01:18:08.973115Z"
    }
   },
   "cell_type": "code",
   "source": [
    "encoder = torch.load('./models/emlp_2_b.pth', map_location=torch.device(DEVICE)).encoder\n",
    "encoder.to(DEVICE)\n",
    "pass"
   ],
   "id": "ee208822a5b964e0",
   "outputs": [],
   "execution_count": 64
  },
  {
   "metadata": {
    "ExecuteTime": {
     "end_time": "2024-07-04T01:18:36.684288Z",
     "start_time": "2024-07-04T01:18:09.607794Z"
    }
   },
   "cell_type": "code",
   "source": [
    "writer = SummaryWriter('runs/latent_space_visualization/emlp')\n",
    "\n",
    "reduced_latents, labels = visualize_latent_space(encoder, dataloader, DEVICE, use_tsne=False)\n",
    "\n",
    "metadata = create_metadata_list(labels, idx_to_class)\n",
    "\n",
    "log_embeddings(writer, reduced_latents, metadata)"
   ],
   "id": "d4c97569a8b16a67",
   "outputs": [],
   "execution_count": 65
  }
 ],
 "metadata": {
  "kernelspec": {
   "display_name": "Python 3",
   "language": "python",
   "name": "python3"
  },
  "language_info": {
   "codemirror_mode": {
    "name": "ipython",
    "version": 2
   },
   "file_extension": ".py",
   "mimetype": "text/x-python",
   "name": "python",
   "nbconvert_exporter": "python",
   "pygments_lexer": "ipython2",
   "version": "2.7.6"
  }
 },
 "nbformat": 4,
 "nbformat_minor": 5
}
