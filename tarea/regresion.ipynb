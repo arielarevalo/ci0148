{
 "cells": [
  {
   "cell_type": "code",
   "execution_count": 1,
   "metadata": {},
   "outputs": [],
   "source": [
    "import numpy as np\n",
    "import matplotlib.pyplot as plt\n",
    "\n",
    "from src.model import model\n",
    "from src.funcs import tanh, tanh_grad, sigmoid, sigmoid_grad"
   ]
  },
  {
   "cell_type": "code",
   "execution_count": 2,
   "metadata": {},
   "outputs": [],
   "source": [
    "# Set the random seed for reproducibility\n",
    "np.random.seed(42)\n",
    "\n",
    "# Generate random inputs\n",
    "X = np.random.rand(100, 1) * 10  # 100 samples, scaled up to 10\n",
    "\n",
    "# Generate target outputs with some non-linear relationship and noise\n",
    "gaussian_noise = np.random.normal(loc=0, scale=1, size=X.shape)\n",
    "\n",
    "y = np.sin(X) + gaussian_noise\n"
   ]
  },
  {
   "cell_type": "code",
   "execution_count": 3,
   "metadata": {},
   "outputs": [
    {
     "data": {
      "image/png": "[encoded data removed]",
      "text/plain": [
       "<Figure size 640x480 with 1 Axes>"
      ]
     },
     "metadata": {},
     "output_type": "display_data"
    }
   ],
   "source": [
    "# Plot the data\n",
    "plt.scatter(X, y)\n",
    "plt.xlabel('X')\n",
    "plt.ylabel('y')\n",
    "plt.title('Synthetic Regression Data')\n",
    "plt.show()"
   ]
  },
  {
   "cell_type": "code",
   "execution_count": 4,
   "metadata": {},
   "outputs": [],
   "source": [
    "# Split the data into training and testing sets\n",
    "from sklearn.model_selection import train_test_split\n",
    "X_train, X_test, y_train, y_test = train_test_split(X, y, test_size=0.2, random_state=0)"
   ]
  },
  {
   "cell_type": "code",
   "execution_count": 5,
   "metadata": {},
   "outputs": [],
   "source": [
    "# Reshape y to match the output size of your model\n",
    "y_train = y_train.reshape(-1, 1)\n",
    "y_test = y_test.reshape(-1, 1)"
   ]
  },
  {
   "cell_type": "code",
   "execution_count": 6,
   "metadata": {},
   "outputs": [],
   "source": [
    "# Function to generate batches\n",
    "def generate_batches(X, y, batch_size):\n",
    "  # Shuffle data for each epoch\n",
    "  shuffle_index = np.random.permutation(len(X))\n",
    "  X_shuffled = X[shuffle_index]\n",
    "  y_shuffled = y[shuffle_index]\n",
    "\n",
    "  # Create batches\n",
    "  for i in range(0, len(X), batch_size):\n",
    "    # Get batch slice\n",
    "    X_batch = X_shuffled[i:i+batch_size]\n",
    "    y_batch = y_shuffled[i:i+batch_size]\n",
    "    yield X_batch, y_batch  # Yield allows returning batches one by one"
   ]
  },
  {
   "cell_type": "code",
   "execution_count": 7,
   "metadata": {},
   "outputs": [],
   "source": [
    "# Define the model\n",
    "nn_model = model(input_size=1, output_size=1, hidden_shapes=[10, 10], func_acti=tanh, func_acti_grad=tanh_grad)"
   ]
  },
  {
   "cell_type": "code",
   "execution_count": 8,
   "metadata": {},
   "outputs": [
    {
     "name": "stdout",
     "output_type": "stream",
     "text": [
      "Epoch#0 - Loss 1.7005\n",
      "Epoch#1 - Loss 1.9480\n",
      "Epoch#2 - Loss 2.7191\n",
      "Epoch#3 - Loss 1.1207\n",
      "Epoch#4 - Loss 1.8255\n",
      "Epoch#5 - Loss 1.3106\n",
      "Epoch#6 - Loss 1.1438\n",
      "Epoch#7 - Loss 1.8522\n",
      "Epoch#8 - Loss 1.6294\n",
      "Epoch#9 - Loss 2.0592\n",
      "Epoch#10 - Loss 0.9434\n",
      "Epoch#11 - Loss 2.1145\n",
      "Epoch#12 - Loss 2.1161\n",
      "Epoch#13 - Loss 0.4062\n",
      "Epoch#14 - Loss 1.4057\n",
      "Epoch#15 - Loss 2.0582\n",
      "Epoch#16 - Loss 1.6297\n",
      "Epoch#17 - Loss 1.9008\n",
      "Epoch#18 - Loss 1.5845\n",
      "Epoch#19 - Loss 1.3912\n",
      "Epoch#20 - Loss 1.5262\n",
      "Epoch#21 - Loss 1.2594\n",
      "Epoch#22 - Loss 0.9172\n",
      "Epoch#23 - Loss 0.9229\n",
      "Epoch#24 - Loss 1.5591\n",
      "Epoch#25 - Loss 0.9581\n",
      "Epoch#26 - Loss 0.7202\n",
      "Epoch#27 - Loss 1.1474\n",
      "Epoch#28 - Loss 1.3740\n",
      "Epoch#29 - Loss 1.4365\n",
      "Epoch#30 - Loss 0.9447\n",
      "Epoch#31 - Loss 1.0402\n",
      "Epoch#32 - Loss 1.5276\n",
      "Epoch#33 - Loss 0.9655\n",
      "Epoch#34 - Loss 1.8187\n",
      "Epoch#35 - Loss 1.2168\n",
      "Epoch#36 - Loss 0.9469\n",
      "Epoch#37 - Loss 2.4634\n",
      "Epoch#38 - Loss 2.0395\n",
      "Epoch#39 - Loss 1.3345\n",
      "Epoch#40 - Loss 1.6584\n",
      "Epoch#41 - Loss 1.4959\n",
      "Epoch#42 - Loss 1.3073\n",
      "Epoch#43 - Loss 1.0730\n",
      "Epoch#44 - Loss 1.7791\n",
      "Epoch#45 - Loss 1.7003\n",
      "Epoch#46 - Loss 1.0623\n",
      "Epoch#47 - Loss 2.1541\n",
      "Epoch#48 - Loss 0.8816\n",
      "Epoch#49 - Loss 1.4135\n",
      "Epoch#50 - Loss 1.4063\n",
      "Epoch#51 - Loss 1.4071\n",
      "Epoch#52 - Loss 2.0127\n",
      "Epoch#53 - Loss 1.3384\n",
      "Epoch#54 - Loss 0.9059\n",
      "Epoch#55 - Loss 2.0733\n",
      "Epoch#56 - Loss 1.1715\n",
      "Epoch#57 - Loss 1.4729\n",
      "Epoch#58 - Loss 1.7193\n",
      "Epoch#59 - Loss 1.1572\n",
      "Epoch#60 - Loss 1.8177\n",
      "Epoch#61 - Loss 1.5162\n",
      "Epoch#62 - Loss 0.8669\n",
      "Epoch#63 - Loss 1.5706\n",
      "Epoch#64 - Loss 1.7792\n",
      "Epoch#65 - Loss 1.4082\n",
      "Epoch#66 - Loss 1.5785\n",
      "Epoch#67 - Loss 0.6988\n",
      "Epoch#68 - Loss 1.6574\n",
      "Epoch#69 - Loss 1.3302\n",
      "Epoch#70 - Loss 1.1989\n",
      "Epoch#71 - Loss 1.2716\n",
      "Epoch#72 - Loss 0.6198\n",
      "Epoch#73 - Loss 0.9264\n",
      "Epoch#74 - Loss 1.2617\n",
      "Epoch#75 - Loss 2.0853\n",
      "Epoch#76 - Loss 1.2274\n",
      "Epoch#77 - Loss 1.1714\n",
      "Epoch#78 - Loss 0.7736\n",
      "Epoch#79 - Loss 2.0153\n",
      "Epoch#80 - Loss 1.4865\n",
      "Epoch#81 - Loss 1.9718\n",
      "Epoch#82 - Loss 1.1642\n",
      "Epoch#83 - Loss 1.6478\n",
      "Epoch#84 - Loss 1.4756\n",
      "Epoch#85 - Loss 1.2962\n",
      "Epoch#86 - Loss 2.2076\n",
      "Epoch#87 - Loss 0.9180\n",
      "Epoch#88 - Loss 1.5692\n",
      "Epoch#89 - Loss 0.5629\n",
      "Epoch#90 - Loss 2.1122\n",
      "Epoch#91 - Loss 1.1955\n",
      "Epoch#92 - Loss 1.1046\n",
      "Epoch#93 - Loss 1.0418\n",
      "Epoch#94 - Loss 1.5758\n",
      "Epoch#95 - Loss 1.0800\n",
      "Epoch#96 - Loss 1.0600\n",
      "Epoch#97 - Loss 2.0029\n",
      "Epoch#98 - Loss 1.9044\n",
      "Epoch#99 - Loss 1.3177\n"
     ]
    }
   ],
   "source": [
    "epochs = 100\n",
    "lr = 0.01\n",
    "batch_size = 20\n",
    "for epoch in range(epochs):\n",
    "    loss = 0.0\n",
    "    for X_batch, y_batch in generate_batches(X_train, y_train, batch_size):\n",
    "        o, loss = nn_model.forward(X_batch, y_batch)\n",
    "        nn_model.backward(y_batch, o)\n",
    "        nn_model.update(lr)\n",
    "    print(f\"Epoch#{epoch} - Loss {loss:.4f}\")"
   ]
  },
  {
   "cell_type": "code",
   "execution_count": 9,
   "metadata": {},
   "outputs": [
    {
     "name": "stdout",
     "output_type": "stream",
     "text": [
      "[[-0.18841271]]\n",
      "[[-1.22128094]]\n",
      "[[-1.2215569]]\n",
      "[[-1.23391274]]\n",
      "[[-1.221211]]\n",
      "[[-1.18343107]]\n",
      "[[-0.82276828]]\n",
      "[[-1.22887134]]\n",
      "[[-1.19599222]]\n",
      "[[-1.14851729]]\n",
      "[[-1.23293599]]\n",
      "[[-1.2245538]]\n",
      "[[-0.97752934]]\n",
      "[[-0.29677801]]\n",
      "[[-1.23170139]]\n",
      "[[-1.19876539]]\n",
      "[[-0.77591143]]\n",
      "[[-1.11890518]]\n",
      "[[-1.23473627]]\n",
      "[[-1.19693877]]\n"
     ]
    }
   ],
   "source": [
    "# Prediction\n",
    "y_pred = []\n",
    "for i in range(len(X_test)):\n",
    "    x = X_test[i]\n",
    "    x = x.reshape(1, -1)  # Reshape to match input size\n",
    "    y_pred.append(nn_model.predict(x))\n",
    "    print(nn_model.predict(x))\n",
    "y_pred = np.array(y_pred).reshape(-1, 1)"
   ]
  },
  {
   "cell_type": "code",
   "execution_count": 10,
   "metadata": {},
   "outputs": [
    {
     "data": {
      "image/png": "[encoded data removed]",
      "text/plain": [
       "<Figure size 640x480 with 1 Axes>"
      ]
     },
     "metadata": {},
     "output_type": "display_data"
    }
   ],
   "source": [
    "# Assuming X_test and y_pred are numpy arrays\n",
    "# Sort the X_test and y_pred together by the X_test values\n",
    "sorted_indices = np.argsort(X_test, axis=0).flatten()\n",
    "X_test_sorted = X_test[sorted_indices]\n",
    "y_pred_sorted = y_pred[sorted_indices]\n",
    "\n",
    "# Now plot the sorted values\n",
    "plt.scatter(X_test, y_test, label='Actual')\n",
    "plt.plot(X_test_sorted, y_pred_sorted, label='Regression', color='#E0884C')\n",
    "plt.xlabel('X')\n",
    "plt.ylabel('y')\n",
    "plt.legend()\n",
    "plt.title('Regression Results')\n",
    "plt.show()"
   ]
  }
 ],
 "metadata": {
  "kernelspec": {
   "display_name": "Python 3",
   "language": "python",
   "name": "python3"
  },
  "language_info": {
   "codemirror_mode": {
    "name": "ipython",
    "version": 3
   },
   "file_extension": ".py",
   "mimetype": "text/x-python",
   "name": "python",
   "nbconvert_exporter": "python",
   "pygments_lexer": "ipython3",
   "version": "3.8.10"
  }
 },
 "nbformat": 4,
 "nbformat_minor": 2
}
