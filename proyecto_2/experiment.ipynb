{
 "cells": [
  {
   "cell_type": "markdown",
   "id": "2b8a2b8ca619cdb3",
   "metadata": {
    "collapsed": false
   },
   "source": [
    "# COVID-19 Chest X-Ray Database - Experiment"
   ]
  },
  {
   "cell_type": "markdown",
   "id": "57458cbe",
   "metadata": {},
   "source": [
    "## CNN Model Implementation"
   ]
  },
  {
   "cell_type": "code",
   "execution_count": 11,
   "id": "e734abfc",
   "metadata": {},
   "outputs": [],
   "source": [
    "%reload_ext autoreload\n",
    "%autoreload 2\n",
    "\n",
    "from src.cnn import CNN_Model\n",
    "from torchvision import transforms"
   ]
  },
  {
   "cell_type": "code",
   "execution_count": 2,
   "id": "6722caab",
   "metadata": {},
   "outputs": [],
   "source": [
    "NUMBER_OF_CLASSES = 4\n",
    "IMAGE_SIZE = 299\n",
    "NUMBER_OF_EPOCHS = 20\n",
    "class_names = [\"COVID\", \"Lung_Opacity\", \"Normal\", \"Viral Pneumonia\"]\n",
    "# model_interface.train(train_loader, val_loader)\n",
    "# Define the transformations\n",
    "transform = transforms.Compose([\n",
    "    transforms.Grayscale(num_output_channels=3), # Convert grayscale to 3 channels\n",
    "    transforms.Resize((248, 248)), # Resize to 299x299\n",
    "    transforms.ToTensor(), # Convert PIL image to tensor\n",
    "    transforms.Normalize(mean=[0.485, 0.456, 0.406], std=[0.229, 0.224, 0.225])\n",
    "])"
   ]
  },
  {
   "cell_type": "markdown",
   "id": "601a60c1",
   "metadata": {},
   "source": [
    "### Raw Images"
   ]
  },
  {
   "cell_type": "code",
   "execution_count": 3,
   "id": "ad5f8446",
   "metadata": {},
   "outputs": [],
   "source": [
    "train_loader_raw, val_loader_raw, test_loader_raw = CNN_Model.load_dataset(\"./data/raw\", transform=transform)"
   ]
  },
  {
   "cell_type": "code",
   "execution_count": 4,
   "id": "d91c82d9",
   "metadata": {},
   "outputs": [],
   "source": [
    "cnn_raw_model = CNN_Model(NUMBER_OF_CLASSES, class_names=class_names, project_name=\"covid-cnn-raw\")"
   ]
  },
  {
   "cell_type": "code",
   "execution_count": 5,
   "id": "84494820",
   "metadata": {},
   "outputs": [
    {
     "name": "stderr",
     "output_type": "stream",
     "text": [
      "Failed to detect the name of this notebook, you can set it manually with the WANDB_NOTEBOOK_NAME environment variable to enable code saving.\n",
      "\u001b[34m\u001b[1mwandb\u001b[0m: Currently logged in as: \u001b[33mdwayne-taylor-ucr\u001b[0m (\u001b[33muniversity-of-costa-rica\u001b[0m). Use \u001b[1m`wandb login --relogin`\u001b[0m to force relogin\n"
     ]
    },
    {
     "data": {
      "text/html": [
       "Tracking run with wandb version 0.17.0"
      ],
      "text/plain": [
       "<IPython.core.display.HTML object>"
      ]
     },
     "metadata": {},
     "output_type": "display_data"
    },
    {
     "data": {
      "text/html": [
       "Run data is saved locally in <code>/home/djtaylor/UCR/2024/ML/Proyectos/proyecto_2/wandb/run-20240523_215555-9lm18wz6</code>"
      ],
      "text/plain": [
       "<IPython.core.display.HTML object>"
      ]
     },
     "metadata": {},
     "output_type": "display_data"
    },
    {
     "data": {
      "text/html": [
       "Syncing run <strong><a href='https://wandb.ai/university-of-costa-rica/covid-cnn-raw/runs/9lm18wz6' target=\"_blank\">blooming-sun-12</a></strong> to <a href='https://wandb.ai/university-of-costa-rica/covid-cnn-raw' target=\"_blank\">Weights & Biases</a> (<a href='https://wandb.me/run' target=\"_blank\">docs</a>)<br/>"
      ],
      "text/plain": [
       "<IPython.core.display.HTML object>"
      ]
     },
     "metadata": {},
     "output_type": "display_data"
    },
    {
     "data": {
      "text/html": [
       " View project at <a href='https://wandb.ai/university-of-costa-rica/covid-cnn-raw' target=\"_blank\">https://wandb.ai/university-of-costa-rica/covid-cnn-raw</a>"
      ],
      "text/plain": [
       "<IPython.core.display.HTML object>"
      ]
     },
     "metadata": {},
     "output_type": "display_data"
    },
    {
     "data": {
      "text/html": [
       " View run at <a href='https://wandb.ai/university-of-costa-rica/covid-cnn-raw/runs/9lm18wz6' target=\"_blank\">https://wandb.ai/university-of-costa-rica/covid-cnn-raw/runs/9lm18wz6</a>"
      ],
      "text/plain": [
       "<IPython.core.display.HTML object>"
      ]
     },
     "metadata": {},
     "output_type": "display_data"
    },
    {
     "name": "stderr",
     "output_type": "stream",
     "text": [
      "/home/djtaylor/.local/lib/python3.8/site-packages/torch/nn/modules/conv.py:456: UserWarning: Plan failed with a cudnnException: CUDNN_BACKEND_EXECUTION_PLAN_DESCRIPTOR: cudnnFinalize Descriptor Failed cudnn_status: CUDNN_STATUS_NOT_SUPPORTED (Triggered internally at ../aten/src/ATen/native/cudnn/Conv_v8.cpp:919.)\n",
      "  return F.conv2d(input, weight, bias, self.stride,\n"
     ]
    },
    {
     "data": {
      "application/vnd.jupyter.widget-view+json": {
       "model_id": "bc0d85bb92d8489fabc9d92bbc561cca",
       "version_major": 2,
       "version_minor": 0
      },
      "text/plain": [
       "VBox(children=(Label(value='0.009 MB of 0.009 MB uploaded\\r'), FloatProgress(value=1.0, max=1.0)))"
      ]
     },
     "metadata": {},
     "output_type": "display_data"
    },
    {
     "data": {
      "text/html": [
       "<style>\n",
       "    table.wandb td:nth-child(1) { padding: 0 10px; text-align: left ; width: auto;} td:nth-child(2) {text-align: left ; width: 100%}\n",
       "    .wandb-row { display: flex; flex-direction: row; flex-wrap: wrap; justify-content: flex-start; width: 100% }\n",
       "    .wandb-col { display: flex; flex-direction: column; flex-basis: 100%; flex: 1; padding: 10px; }\n",
       "    </style>\n",
       "<div class=\"wandb-row\"><div class=\"wandb-col\"><h3>Run history:</h3><br/><table class=\"wandb\"><tr><td>accuracy</td><td>▁█▆▅</td></tr><tr><td>precision</td><td>▁█▇▆</td></tr><tr><td>recall</td><td>▁█▆▅</td></tr><tr><td>val_loss</td><td>█▁▃▁</td></tr></table><br/></div><div class=\"wandb-col\"><h3>Run summary:</h3><br/><table class=\"wandb\"><tr><td>accuracy</td><td>0.87429</td></tr><tr><td>precision</td><td>0.87796</td></tr><tr><td>recall</td><td>0.87429</td></tr><tr><td>val_loss</td><td>0.33811</td></tr></table><br/></div></div>"
      ],
      "text/plain": [
       "<IPython.core.display.HTML object>"
      ]
     },
     "metadata": {},
     "output_type": "display_data"
    },
    {
     "data": {
      "text/html": [
       " View run <strong style=\"color:#cdcd00\">blooming-sun-12</strong> at: <a href='https://wandb.ai/university-of-costa-rica/covid-cnn-raw/runs/9lm18wz6' target=\"_blank\">https://wandb.ai/university-of-costa-rica/covid-cnn-raw/runs/9lm18wz6</a><br/> View project at: <a href='https://wandb.ai/university-of-costa-rica/covid-cnn-raw' target=\"_blank\">https://wandb.ai/university-of-costa-rica/covid-cnn-raw</a><br/>Synced 5 W&B file(s), 4 media file(s), 4 artifact file(s) and 0 other file(s)"
      ],
      "text/plain": [
       "<IPython.core.display.HTML object>"
      ]
     },
     "metadata": {},
     "output_type": "display_data"
    },
    {
     "data": {
      "text/html": [
       "Find logs at: <code>./wandb/run-20240523_215555-9lm18wz6/logs</code>"
      ],
      "text/plain": [
       "<IPython.core.display.HTML object>"
      ]
     },
     "metadata": {},
     "output_type": "display_data"
    }
   ],
   "source": [
    "cnn_raw_model.train(train_loader=train_loader_raw, val_loader=val_loader_raw, epochs=NUMBER_OF_EPOCHS)"
   ]
  },
  {
   "cell_type": "code",
   "execution_count": 10,
   "id": "e245d0bb",
   "metadata": {},
   "outputs": [
    {
     "data": {
      "text/html": [
       "Finishing last run (ID:wua207b8) before initializing another..."
      ],
      "text/plain": [
       "<IPython.core.display.HTML object>"
      ]
     },
     "metadata": {},
     "output_type": "display_data"
    },
    {
     "data": {
      "application/vnd.jupyter.widget-view+json": {
       "model_id": "3c237d42bfda45bf9d0d0d8764f427b5",
       "version_major": 2,
       "version_minor": 0
      },
      "text/plain": [
       "VBox(children=(Label(value='0.003 MB of 0.003 MB uploaded\\r'), FloatProgress(value=1.0, max=1.0)))"
      ]
     },
     "metadata": {},
     "output_type": "display_data"
    },
    {
     "data": {
      "text/html": [
       " View run <strong style=\"color:#cdcd00\">crisp-terrain-14</strong> at: <a href='https://wandb.ai/university-of-costa-rica/covid-cnn-raw/runs/wua207b8' target=\"_blank\">https://wandb.ai/university-of-costa-rica/covid-cnn-raw/runs/wua207b8</a><br/> View project at: <a href='https://wandb.ai/university-of-costa-rica/covid-cnn-raw' target=\"_blank\">https://wandb.ai/university-of-costa-rica/covid-cnn-raw</a><br/>Synced 5 W&B file(s), 0 media file(s), 0 artifact file(s) and 0 other file(s)"
      ],
      "text/plain": [
       "<IPython.core.display.HTML object>"
      ]
     },
     "metadata": {},
     "output_type": "display_data"
    },
    {
     "data": {
      "text/html": [
       "Find logs at: <code>./wandb/run-20240523_220509-wua207b8/logs</code>"
      ],
      "text/plain": [
       "<IPython.core.display.HTML object>"
      ]
     },
     "metadata": {},
     "output_type": "display_data"
    },
    {
     "data": {
      "text/html": [
       "Successfully finished last run (ID:wua207b8). Initializing new run:<br/>"
      ],
      "text/plain": [
       "<IPython.core.display.HTML object>"
      ]
     },
     "metadata": {},
     "output_type": "display_data"
    },
    {
     "data": {
      "application/vnd.jupyter.widget-view+json": {
       "model_id": "a303f76ebcb24f11a1adfb89e57edf30",
       "version_major": 2,
       "version_minor": 0
      },
      "text/plain": [
       "VBox(children=(Label(value='Waiting for wandb.init()...\\r'), FloatProgress(value=0.011112780188886973, max=1.0…"
      ]
     },
     "metadata": {},
     "output_type": "display_data"
    },
    {
     "data": {
      "text/html": [
       "Tracking run with wandb version 0.17.0"
      ],
      "text/plain": [
       "<IPython.core.display.HTML object>"
      ]
     },
     "metadata": {},
     "output_type": "display_data"
    },
    {
     "data": {
      "text/html": [
       "Run data is saved locally in <code>/home/djtaylor/UCR/2024/ML/Proyectos/proyecto_2/wandb/run-20240523_220548-mer7r8fb</code>"
      ],
      "text/plain": [
       "<IPython.core.display.HTML object>"
      ]
     },
     "metadata": {},
     "output_type": "display_data"
    },
    {
     "data": {
      "text/html": [
       "Syncing run <strong><a href='https://wandb.ai/university-of-costa-rica/covid-cnn-raw/runs/mer7r8fb' target=\"_blank\">misunderstood-hill-15</a></strong> to <a href='https://wandb.ai/university-of-costa-rica/covid-cnn-raw' target=\"_blank\">Weights & Biases</a> (<a href='https://wandb.me/run' target=\"_blank\">docs</a>)<br/>"
      ],
      "text/plain": [
       "<IPython.core.display.HTML object>"
      ]
     },
     "metadata": {},
     "output_type": "display_data"
    },
    {
     "data": {
      "text/html": [
       " View project at <a href='https://wandb.ai/university-of-costa-rica/covid-cnn-raw' target=\"_blank\">https://wandb.ai/university-of-costa-rica/covid-cnn-raw</a>"
      ],
      "text/plain": [
       "<IPython.core.display.HTML object>"
      ]
     },
     "metadata": {},
     "output_type": "display_data"
    },
    {
     "data": {
      "text/html": [
       " View run at <a href='https://wandb.ai/university-of-costa-rica/covid-cnn-raw/runs/mer7r8fb' target=\"_blank\">https://wandb.ai/university-of-costa-rica/covid-cnn-raw/runs/mer7r8fb</a>"
      ],
      "text/plain": [
       "<IPython.core.display.HTML object>"
      ]
     },
     "metadata": {},
     "output_type": "display_data"
    },
    {
     "data": {
      "application/vnd.jupyter.widget-view+json": {
       "model_id": "4cdedfcc3bcd4b5da34183df35c85c9e",
       "version_major": 2,
       "version_minor": 0
      },
      "text/plain": [
       "VBox(children=(Label(value='0.065 MB of 0.065 MB uploaded\\r'), FloatProgress(value=1.0, max=1.0)))"
      ]
     },
     "metadata": {},
     "output_type": "display_data"
    },
    {
     "data": {
      "text/html": [
       " View run <strong style=\"color:#cdcd00\">misunderstood-hill-15</strong> at: <a href='https://wandb.ai/university-of-costa-rica/covid-cnn-raw/runs/mer7r8fb' target=\"_blank\">https://wandb.ai/university-of-costa-rica/covid-cnn-raw/runs/mer7r8fb</a><br/> View project at: <a href='https://wandb.ai/university-of-costa-rica/covid-cnn-raw' target=\"_blank\">https://wandb.ai/university-of-costa-rica/covid-cnn-raw</a><br/>Synced 4 W&B file(s), 2 media file(s), 2 artifact file(s) and 0 other file(s)"
      ],
      "text/plain": [
       "<IPython.core.display.HTML object>"
      ]
     },
     "metadata": {},
     "output_type": "display_data"
    },
    {
     "data": {
      "text/html": [
       "Find logs at: <code>./wandb/run-20240523_220548-mer7r8fb/logs</code>"
      ],
      "text/plain": [
       "<IPython.core.display.HTML object>"
      ]
     },
     "metadata": {},
     "output_type": "display_data"
    }
   ],
   "source": [
    "cnn_raw_model.test(test_loader_raw)"
   ]
  },
  {
   "cell_type": "markdown",
   "id": "2316916c",
   "metadata": {},
   "source": [
    "### Bilateral Filtered Images"
   ]
  },
  {
   "cell_type": "code",
   "execution_count": 14,
   "id": "2791d7e3",
   "metadata": {},
   "outputs": [],
   "source": [
    "train_loader_filt, val_loader_filt, test_loader_filt = CNN_Model.load_dataset(\"./data/bf\", transform=transform)"
   ]
  },
  {
   "cell_type": "code",
   "execution_count": 13,
   "id": "a3073b3d",
   "metadata": {},
   "outputs": [],
   "source": [
    "cnn_filtered_model = CNN_Model(NUMBER_OF_CLASSES, class_names=class_names, project_name=\"covid-cnn-filtered\")"
   ]
  },
  {
   "cell_type": "code",
   "execution_count": null,
   "id": "64116d91",
   "metadata": {},
   "outputs": [],
   "source": [
    "cnn_filtered_model.train(train_loader=train_loader_filt, val_loader=val_loader_filt, epochs=NUMBER_OF_EPOCHS)"
   ]
  },
  {
   "cell_type": "code",
   "execution_count": null,
   "id": "1d0c0cd7",
   "metadata": {},
   "outputs": [],
   "source": [
    "cnn_filtered_model.test(test_loader_filt)"
   ]
  },
  {
   "cell_type": "code",
   "execution_count": null,
   "id": "4e24be8a",
   "metadata": {},
   "outputs": [],
   "source": [
    "\n",
    "cnn_raw_model.save_model('./models/cnn_raw_model.pth')\n",
    "cnn_filtered_model.save_model('./models/cnn-filtered.pth')"
   ]
  },
  {
   "cell_type": "markdown",
   "id": "b85b446303e9610a",
   "metadata": {
    "collapsed": false
   },
   "source": [
    "## Multilayer Perceptron"
   ]
  }
 ],
 "metadata": {
  "kernelspec": {
   "display_name": "Python 3",
   "language": "python",
   "name": "python3"
  },
  "language_info": {
   "codemirror_mode": {
    "name": "ipython",
    "version": 3
   },
   "file_extension": ".py",
   "mimetype": "text/x-python",
   "name": "python",
   "nbconvert_exporter": "python",
   "pygments_lexer": "ipython3",
   "version": "3.8.10"
  }
 },
 "nbformat": 4,
 "nbformat_minor": 5
}
