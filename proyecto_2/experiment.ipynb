{
 "cells": [
  {
   "cell_type": "markdown",
   "source": "# COVID-19 Chest X-Ray Database - Experiment",
   "metadata": {
    "collapsed": false
   },
   "id": "2b8a2b8ca619cdb3"
  },
  {
   "cell_type": "code",
   "source": [
    "import pandas as pd\n",
    "\n",
    "from sklearn.preprocessing import StandardScaler\n",
    "from sklearn.model_selection import train_test_split\n",
    "\n",
    "from nn import *"
   ],
   "metadata": {
    "collapsed": false
   },
   "id": "7bd0694dd1a4e829",
   "outputs": [],
   "execution_count": null
  },
  {
   "cell_type": "code",
   "source": [
    "def run_model(name, classifier, params, cmap):\n",
    "    print(f\"\\n- {name}\")\n",
    "    \n",
    "    model = classifier(**params)    \n",
    "    y_pred, y_pred_proba = fit_and_predict(model, X_train, X_test, y_train, y_test)\n",
    "    metrics, cm = get_metrics(y_test, y_pred, y_pred_proba)\n",
    "    \n",
    "    plot_confusion_matrix(cm, cmap)\n",
    "    \n",
    "    metrics_to_print = metrics.copy()\n",
    "    metrics_to_print.pop('TPR')\n",
    "    metrics_to_print.pop('FPR')\n",
    "    \n",
    "    for metric, value in metrics_to_print.items():\n",
    "            print(f\"    - {metric}: {value}\")\n",
    "        \n",
    "    return metrics"
   ],
   "metadata": {
    "collapsed": false
   },
   "id": "f52631519cd84600",
   "outputs": [],
   "execution_count": null
  },
  {
   "cell_type": "markdown",
   "source": "## Multilayer Perceptron",
   "metadata": {
    "collapsed": false
   },
   "id": "b85b446303e9610a"
  },
  {
   "cell_type": "code",
   "source": [
    "# Preprocess dataset\n",
    "wineDF = pd.read_csv(\"./data/winequality-red.csv\")\n",
    "\n",
    "wineDF['label'] = wineDF['quality'].apply(lambda x: 1 if x > 6 else 0)\n",
    "wineDF.drop('quality', axis=1)\n",
    "\n",
    "wine_y = wineDF['label'].values\n",
    "wine_X = wineDF.drop('label', axis=1).values"
   ],
   "metadata": {
    "collapsed": false
   },
   "id": "979826e88f66f03a",
   "outputs": [],
   "execution_count": null
  },
  {
   "cell_type": "code",
   "source": [
    "# Standardize dataset\n",
    "scaler = StandardScaler()\n",
    "wine_X = scaler.fit_transform(wine_X)"
   ],
   "metadata": {
    "collapsed": false
   },
   "id": "f11eaedfd98e6409",
   "outputs": [],
   "execution_count": null
  },
  {
   "cell_type": "code",
   "source": [
    "# Obtained from grid search\n",
    "models['Logistic Regression']['params'] = {'C': 0.046415888336127774, 'max_iter': 100, 'penalty': 'l1', 'solver': 'liblinear'}\n",
    "models['Decision Tree']['params'] = {'max_depth': None, 'criterion': 'entropy'}\n",
    "models['K-Nearest Neighbors']['params'] = {'n_neighbors': 3}\n",
    "models['Neural Network']['params'] = {'activation': 'tanh', 'hidden_layer_sizes': (50,), 'learning_rate_init': 0.001, 'max_iter': 200, 'solver': 'adam'}"
   ],
   "metadata": {
    "collapsed": false
   },
   "id": "fcb87b6d52742ad5",
   "outputs": [],
   "execution_count": null
  },
  {
   "cell_type": "code",
   "source": [
    "# Cross validate\n",
    "all_metrics = {}\n",
    "\n",
    "for i in range(5):\n",
    "    print(f\"\\nSplit {i+1}:\")\n",
    "    \n",
    "    (X_train, X_test, y_train, y_test) = train_test_split(wine_X, wine_y, test_size=0.2, stratify=wine_y)\n",
    "    \n",
    "    for key, model in models.items():\n",
    "        metrics = run_model(key, model['classifier'], model['params'], plt.cm.Blues)\n",
    "        all_metrics[key] = metrics\n",
    "        \n",
    "plt.figure()\n",
    "\n",
    "for name, metrics in all_metrics.items():\n",
    "        plt.plot(metrics['FPR'],metrics['TPR'], linestyle='-', color=models[name]['color'], label=name)\n",
    "\n",
    "plt.xlabel('False Positive Rate')\n",
    "plt.ylabel('True Positive Rate')\n",
    "plt.title('ROC Curves for Multiple Models')\n",
    "plt.legend()\n",
    "plt.show()"
   ],
   "metadata": {
    "collapsed": false
   },
   "id": "3cf40d14ac7035bd",
   "outputs": [],
   "execution_count": null
  },
  {
   "cell_type": "markdown",
   "source": [
    "## Heart Disease Dataset"
   ],
   "metadata": {
    "collapsed": false
   },
   "id": "abe7f49cbcfce132"
  },
  {
   "cell_type": "code",
   "source": [
    "# Preprocess dataset\n",
    "heartDF = pd.read_csv(\"./data/heart_statlog_cleveland_hungary_final.csv\")\n",
    "\n",
    "heart_y = heartDF['target'].values\n",
    "heart_X = heartDF.drop('target', axis=1).values"
   ],
   "metadata": {
    "collapsed": false
   },
   "id": "7b62d99f84b11ba7",
   "outputs": [],
   "execution_count": null
  },
  {
   "cell_type": "code",
   "source": [
    "# Standardize dataset\n",
    "scaler = StandardScaler()\n",
    "heart_X = scaler.fit_transform(heart_X)"
   ],
   "metadata": {
    "collapsed": false
   },
   "id": "13ffc0e1d55a5b8b",
   "outputs": [],
   "execution_count": null
  },
  {
   "cell_type": "code",
   "source": [
    "# Obtained from grid search\n",
    "models['Logistic Regression']['params'] = {'C': 0.046415888336127774, 'max_iter': 100, 'penalty': 'l1', 'solver': 'liblinear'}\n",
    "models['Decision Tree']['params'] = {'max_depth': 20, 'criterion': 'entropy'}\n",
    "models['K-Nearest Neighbors']['params'] = {'n_neighbors': 10}\n",
    "models['Neural Network']['params'] = {'activation': 'relu', 'hidden_layer_sizes': (100,), 'max_iter': 300, 'solver': 'lbfgs'}"
   ],
   "metadata": {
    "collapsed": false
   },
   "id": "495a456dfc00ec36",
   "outputs": [],
   "execution_count": null
  },
  {
   "cell_type": "code",
   "source": [
    "# Cross validate\n",
    "all_metrics = {}\n",
    "\n",
    "for i in range(5):\n",
    "    print(f\"\\nSplit {i+1}:\")\n",
    "    \n",
    "    (X_train, X_test, y_train, y_test) = train_test_split(heart_X, heart_y, test_size=0.2, stratify=heart_y)\n",
    "    \n",
    "    for key, model in models.items():\n",
    "        metrics = run_model(key, model['classifier'], model['params'], plt.cm.Oranges)\n",
    "        all_metrics[key] = metrics\n",
    "        \n",
    "plt.figure()\n",
    "\n",
    "for name, metrics in all_metrics.items():\n",
    "        plt.plot(metrics['FPR'],metrics['TPR'], linestyle='-', color=models[name]['color'], label=name)\n",
    "\n",
    "plt.xlabel('False Positive Rate')\n",
    "plt.ylabel('True Positive Rate')\n",
    "plt.title('ROC Curves for Multiple Models')\n",
    "plt.legend()\n",
    "plt.show()"
   ],
   "metadata": {
    "collapsed": false
   },
   "id": "51d51f830895fab6",
   "outputs": [],
   "execution_count": null
  }
 ],
 "metadata": {
  "kernelspec": {
   "display_name": "Python 3",
   "language": "python",
   "name": "python3"
  },
  "language_info": {
   "codemirror_mode": {
    "name": "ipython",
    "version": 2
   },
   "file_extension": ".py",
   "mimetype": "text/x-python",
   "name": "python",
   "nbconvert_exporter": "python",
   "pygments_lexer": "ipython2",
   "version": "2.7.6"
  }
 },
 "nbformat": 4,
 "nbformat_minor": 5
}
