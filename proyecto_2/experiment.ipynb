{
 "cells": [
  {
   "cell_type": "markdown",
   "id": "2b8a2b8ca619cdb3",
   "metadata": {
    "collapsed": false
   },
   "source": [
    "# COVID-19 Chest X-Ray Database - Experiment"
   ]
  },
  {
   "cell_type": "markdown",
   "id": "57458cbe",
   "metadata": {},
   "source": [
    "## CNN Model Implementation"
   ]
  },
  {
   "cell_type": "code",
   "execution_count": 14,
   "id": "70162dee",
   "metadata": {},
   "outputs": [],
   "source": [
    "from torchvision import transforms"
   ]
  },
  {
   "cell_type": "code",
   "execution_count": 15,
   "id": "e734abfc",
   "metadata": {},
   "outputs": [],
   "source": [
    "%reload_ext autoreload\n",
    "%autoreload 2\n",
    "\n",
    "from src.cnn import CNN_Model, load_dataset"
   ]
  },
  {
   "cell_type": "code",
   "execution_count": 16,
   "id": "6722caab",
   "metadata": {},
   "outputs": [],
   "source": [
    "NUMBER_OF_CLASSES = 4\n",
    "NUMBER_OF_EPOCHS = 10\n",
    "BATCH_SIZE = 32\n",
    "PATIENCE = 5\n",
    "TARGET_VAL_LOSS = 0.15\n",
    "IMAGE_SIZE = 224\n",
    "\n",
    "PROJECT_NAME = \"covid19-ChestXRay\"\n",
    "CLASS_NAMES = [\"COVID\", \"Lung_Opacity\", \"Normal\", \"Viral Pneumonia\"]\n",
    "\n",
    "# Define the transformations\n",
    "transform = transforms.Compose([\n",
    "    transforms.Grayscale(num_output_channels=3),\n",
    "    transforms.Resize(IMAGE_SIZE),\n",
    "    transforms.ToTensor(),\n",
    "    transforms.Normalize(mean=[0.485, 0.456, 0.406], std=[0.229, 0.224, 0.225])\n",
    "])"
   ]
  },
  {
   "cell_type": "markdown",
   "id": "601a60c1",
   "metadata": {},
   "source": [
    "### Raw Images"
   ]
  },
  {
   "cell_type": "code",
   "execution_count": 17,
   "id": "ad5f8446",
   "metadata": {},
   "outputs": [],
   "source": [
    "train_loader_raw, val_loader_raw, test_loader_raw = load_dataset(\"./data/raw\", transform=transform, batch_size=64)"
   ]
  },
  {
   "cell_type": "code",
   "execution_count": 18,
   "id": "d91c82d9",
   "metadata": {},
   "outputs": [],
   "source": [
    "cnn_raw_model = CNN_Model(NUMBER_OF_CLASSES, class_names=CLASS_NAMES, project_name=PROJECT_NAME)"
   ]
  },
  {
   "cell_type": "code",
   "execution_count": 19,
   "id": "84494820",
   "metadata": {},
   "outputs": [
    {
     "data": {
      "text/html": [
       "Tracking run with wandb version 0.17.0"
      ],
      "text/plain": [
       "<IPython.core.display.HTML object>"
      ]
     },
     "metadata": {},
     "output_type": "display_data"
    },
    {
     "data": {
      "text/html": [
       "Run data is saved locally in <code>/home/djtaylor/UCR/2024/ML/Proyectos/proyecto_2/wandb/run-20240526_181519-hm4zsj5e</code>"
      ],
      "text/plain": [
       "<IPython.core.display.HTML object>"
      ]
     },
     "metadata": {},
     "output_type": "display_data"
    },
    {
     "data": {
      "text/html": [
       "Syncing run <strong><a href='https://wandb.ai/university-of-costa-rica/covid19-ChestXRay/runs/hm4zsj5e' target=\"_blank\">silver-totem-48</a></strong> to <a href='https://wandb.ai/university-of-costa-rica/covid19-ChestXRay' target=\"_blank\">Weights & Biases</a> (<a href='https://wandb.me/run' target=\"_blank\">docs</a>)<br/>"
      ],
      "text/plain": [
       "<IPython.core.display.HTML object>"
      ]
     },
     "metadata": {},
     "output_type": "display_data"
    },
    {
     "data": {
      "text/html": [
       " View project at <a href='https://wandb.ai/university-of-costa-rica/covid19-ChestXRay' target=\"_blank\">https://wandb.ai/university-of-costa-rica/covid19-ChestXRay</a>"
      ],
      "text/plain": [
       "<IPython.core.display.HTML object>"
      ]
     },
     "metadata": {},
     "output_type": "display_data"
    },
    {
     "data": {
      "text/html": [
       " View run at <a href='https://wandb.ai/university-of-costa-rica/covid19-ChestXRay/runs/hm4zsj5e' target=\"_blank\">https://wandb.ai/university-of-costa-rica/covid19-ChestXRay/runs/hm4zsj5e</a>"
      ],
      "text/plain": [
       "<IPython.core.display.HTML object>"
      ]
     },
     "metadata": {},
     "output_type": "display_data"
    },
    {
     "name": "stdout",
     "output_type": "stream",
     "text": [
      "Early stopping: validation loss has not improved in 4 epochs, stopped at 7 epochs.\n"
     ]
    },
    {
     "data": {
      "application/vnd.jupyter.widget-view+json": {
       "model_id": "7c7c58ce25524937ab4723a59018ed06",
       "version_major": 2,
       "version_minor": 0
      },
      "text/plain": [
       "VBox(children=(Label(value='0.015 MB of 0.016 MB uploaded\\r'), FloatProgress(value=0.9620742559067198, max=1.0…"
      ]
     },
     "metadata": {},
     "output_type": "display_data"
    },
    {
     "data": {
      "text/html": [
       "<style>\n",
       "    table.wandb td:nth-child(1) { padding: 0 10px; text-align: left ; width: auto;} td:nth-child(2) {text-align: left ; width: 100%}\n",
       "    .wandb-row { display: flex; flex-direction: row; flex-wrap: wrap; justify-content: flex-start; width: 100% }\n",
       "    .wandb-col { display: flex; flex-direction: column; flex-basis: 100%; flex: 1; padding: 10px; }\n",
       "    </style>\n",
       "<div class=\"wandb-row\"><div class=\"wandb-col\"><h3>Run history:</h3><br/><table class=\"wandb\"><tr><td>accuracy</td><td>▃▁▆▆▄█▄█</td></tr><tr><td>epoch</td><td>▁▂▃▄▅▆▇█</td></tr><tr><td>precision</td><td>▃▁▆▆▄█▄█</td></tr><tr><td>recall</td><td>▃▁▆▆▄█▄█</td></tr><tr><td>val_loss</td><td>▃▄▂▁▃▂█▄</td></tr></table><br/></div><div class=\"wandb-col\"><h3>Run summary:</h3><br/><table class=\"wandb\"><tr><td>accuracy</td><td>0.93526</td></tr><tr><td>epoch</td><td>7</td></tr><tr><td>precision</td><td>0.93526</td></tr><tr><td>recall</td><td>0.93526</td></tr><tr><td>val_loss</td><td>0.29873</td></tr></table><br/></div></div>"
      ],
      "text/plain": [
       "<IPython.core.display.HTML object>"
      ]
     },
     "metadata": {},
     "output_type": "display_data"
    },
    {
     "data": {
      "text/html": [
       " View run <strong style=\"color:#cdcd00\">silver-totem-48</strong> at: <a href='https://wandb.ai/university-of-costa-rica/covid19-ChestXRay/runs/hm4zsj5e' target=\"_blank\">https://wandb.ai/university-of-costa-rica/covid19-ChestXRay/runs/hm4zsj5e</a><br/> View project at: <a href='https://wandb.ai/university-of-costa-rica/covid19-ChestXRay' target=\"_blank\">https://wandb.ai/university-of-costa-rica/covid19-ChestXRay</a><br/>Synced 5 W&B file(s), 8 media file(s), 8 artifact file(s) and 0 other file(s)"
      ],
      "text/plain": [
       "<IPython.core.display.HTML object>"
      ]
     },
     "metadata": {},
     "output_type": "display_data"
    },
    {
     "data": {
      "text/html": [
       "Find logs at: <code>./wandb/run-20240526_181519-hm4zsj5e/logs</code>"
      ],
      "text/plain": [
       "<IPython.core.display.HTML object>"
      ]
     },
     "metadata": {},
     "output_type": "display_data"
    }
   ],
   "source": [
    "cnn_raw_model.train(train_loader=train_loader_raw, val_loader=val_loader_raw, epochs=NUMBER_OF_EPOCHS, patience=PATIENCE, target_val_loss=TARGET_VAL_LOSS)"
   ]
  },
  {
   "cell_type": "code",
   "execution_count": 20,
   "id": "814de47f",
   "metadata": {},
   "outputs": [],
   "source": [
    "cnn_raw_model.save_model('./models/cnn_raw_model.pth')"
   ]
  },
  {
   "cell_type": "code",
   "execution_count": 21,
   "id": "e245d0bb",
   "metadata": {},
   "outputs": [
    {
     "data": {
      "text/html": [
       "Tracking run with wandb version 0.17.0"
      ],
      "text/plain": [
       "<IPython.core.display.HTML object>"
      ]
     },
     "metadata": {},
     "output_type": "display_data"
    },
    {
     "data": {
      "text/html": [
       "Run data is saved locally in <code>/home/djtaylor/UCR/2024/ML/Proyectos/proyecto_2/wandb/run-20240527_000341-t1kpw5y3</code>"
      ],
      "text/plain": [
       "<IPython.core.display.HTML object>"
      ]
     },
     "metadata": {},
     "output_type": "display_data"
    },
    {
     "data": {
      "text/html": [
       "Syncing run <strong><a href='https://wandb.ai/university-of-costa-rica/covid19-ChestXRay/runs/t1kpw5y3' target=\"_blank\">fiery-firebrand-76</a></strong> to <a href='https://wandb.ai/university-of-costa-rica/covid19-ChestXRay' target=\"_blank\">Weights & Biases</a> (<a href='https://wandb.me/run' target=\"_blank\">docs</a>)<br/>"
      ],
      "text/plain": [
       "<IPython.core.display.HTML object>"
      ]
     },
     "metadata": {},
     "output_type": "display_data"
    },
    {
     "data": {
      "text/html": [
       " View project at <a href='https://wandb.ai/university-of-costa-rica/covid19-ChestXRay' target=\"_blank\">https://wandb.ai/university-of-costa-rica/covid19-ChestXRay</a>"
      ],
      "text/plain": [
       "<IPython.core.display.HTML object>"
      ]
     },
     "metadata": {},
     "output_type": "display_data"
    },
    {
     "data": {
      "text/html": [
       " View run at <a href='https://wandb.ai/university-of-costa-rica/covid19-ChestXRay/runs/t1kpw5y3' target=\"_blank\">https://wandb.ai/university-of-costa-rica/covid19-ChestXRay/runs/t1kpw5y3</a>"
      ],
      "text/plain": [
       "<IPython.core.display.HTML object>"
      ]
     },
     "metadata": {},
     "output_type": "display_data"
    },
    {
     "data": {
      "application/vnd.jupyter.widget-view+json": {
       "model_id": "fa17587ffe2946c698e2662d49e8b121",
       "version_major": 2,
       "version_minor": 0
      },
      "text/plain": [
       "VBox(children=(Label(value='0.049 MB of 0.050 MB uploaded\\r'), FloatProgress(value=0.988111269285522, max=1.0)…"
      ]
     },
     "metadata": {},
     "output_type": "display_data"
    },
    {
     "data": {
      "text/html": [
       " View run <strong style=\"color:#cdcd00\">fiery-firebrand-76</strong> at: <a href='https://wandb.ai/university-of-costa-rica/covid19-ChestXRay/runs/t1kpw5y3' target=\"_blank\">https://wandb.ai/university-of-costa-rica/covid19-ChestXRay/runs/t1kpw5y3</a><br/> View project at: <a href='https://wandb.ai/university-of-costa-rica/covid19-ChestXRay' target=\"_blank\">https://wandb.ai/university-of-costa-rica/covid19-ChestXRay</a><br/>Synced 4 W&B file(s), 2 media file(s), 2 artifact file(s) and 0 other file(s)"
      ],
      "text/plain": [
       "<IPython.core.display.HTML object>"
      ]
     },
     "metadata": {},
     "output_type": "display_data"
    },
    {
     "data": {
      "text/html": [
       "Find logs at: <code>./wandb/run-20240527_000341-t1kpw5y3/logs</code>"
      ],
      "text/plain": [
       "<IPython.core.display.HTML object>"
      ]
     },
     "metadata": {},
     "output_type": "display_data"
    }
   ],
   "source": [
    "cnn_raw_model.test(test_loader_raw)"
   ]
  },
  {
   "cell_type": "markdown",
   "id": "2316916c",
   "metadata": {},
   "source": [
    "### Bilateral Filtered Images"
   ]
  },
  {
   "cell_type": "code",
   "execution_count": 22,
   "id": "2791d7e3",
   "metadata": {},
   "outputs": [],
   "source": [
    "train_loader_filt, val_loader_filt, test_loader_filt = load_dataset(\"./data/bf\", transform=transform, batch_size=BATCH_SIZE)"
   ]
  },
  {
   "cell_type": "code",
   "execution_count": 23,
   "id": "a3073b3d",
   "metadata": {},
   "outputs": [],
   "source": [
    "cnn_filtered_model = CNN_Model(NUMBER_OF_CLASSES, class_names=CLASS_NAMES, project_name=PROJECT_NAME, data_preprocss='bilateral-filtering')"
   ]
  },
  {
   "cell_type": "code",
   "execution_count": 24,
   "id": "64116d91",
   "metadata": {},
   "outputs": [
    {
     "data": {
      "text/html": [
       "Tracking run with wandb version 0.17.0"
      ],
      "text/plain": [
       "<IPython.core.display.HTML object>"
      ]
     },
     "metadata": {},
     "output_type": "display_data"
    },
    {
     "data": {
      "text/html": [
       "Run data is saved locally in <code>/home/djtaylor/UCR/2024/ML/Proyectos/proyecto_2/wandb/run-20240527_000645-zjs0yln7</code>"
      ],
      "text/plain": [
       "<IPython.core.display.HTML object>"
      ]
     },
     "metadata": {},
     "output_type": "display_data"
    },
    {
     "data": {
      "text/html": [
       "Syncing run <strong><a href='https://wandb.ai/university-of-costa-rica/covid19-ChestXRay/runs/zjs0yln7' target=\"_blank\">glowing-elevator-77</a></strong> to <a href='https://wandb.ai/university-of-costa-rica/covid19-ChestXRay' target=\"_blank\">Weights & Biases</a> (<a href='https://wandb.me/run' target=\"_blank\">docs</a>)<br/>"
      ],
      "text/plain": [
       "<IPython.core.display.HTML object>"
      ]
     },
     "metadata": {},
     "output_type": "display_data"
    },
    {
     "data": {
      "text/html": [
       " View project at <a href='https://wandb.ai/university-of-costa-rica/covid19-ChestXRay' target=\"_blank\">https://wandb.ai/university-of-costa-rica/covid19-ChestXRay</a>"
      ],
      "text/plain": [
       "<IPython.core.display.HTML object>"
      ]
     },
     "metadata": {},
     "output_type": "display_data"
    },
    {
     "data": {
      "text/html": [
       " View run at <a href='https://wandb.ai/university-of-costa-rica/covid19-ChestXRay/runs/zjs0yln7' target=\"_blank\">https://wandb.ai/university-of-costa-rica/covid19-ChestXRay/runs/zjs0yln7</a>"
      ],
      "text/plain": [
       "<IPython.core.display.HTML object>"
      ]
     },
     "metadata": {},
     "output_type": "display_data"
    },
    {
     "name": "stdout",
     "output_type": "stream",
     "text": [
      "Early stopping: validation loss has not improved in 4 epochs, stopped at 7 epochs.\n"
     ]
    },
    {
     "data": {
      "application/vnd.jupyter.widget-view+json": {
       "model_id": "3e90811934bf45ba83622cd1f99e6829",
       "version_major": 2,
       "version_minor": 0
      },
      "text/plain": [
       "VBox(children=(Label(value='0.015 MB of 0.016 MB uploaded\\r'), FloatProgress(value=0.9621969929426204, max=1.0…"
      ]
     },
     "metadata": {},
     "output_type": "display_data"
    },
    {
     "data": {
      "text/html": [
       "<style>\n",
       "    table.wandb td:nth-child(1) { padding: 0 10px; text-align: left ; width: auto;} td:nth-child(2) {text-align: left ; width: 100%}\n",
       "    .wandb-row { display: flex; flex-direction: row; flex-wrap: wrap; justify-content: flex-start; width: 100% }\n",
       "    .wandb-col { display: flex; flex-direction: column; flex-basis: 100%; flex: 1; padding: 10px; }\n",
       "    </style>\n",
       "<div class=\"wandb-row\"><div class=\"wandb-col\"><h3>Run history:</h3><br/><table class=\"wandb\"><tr><td>accuracy</td><td>▅▃▁▆▇▃▅█</td></tr><tr><td>epoch</td><td>▁▂▃▄▅▆▇█</td></tr><tr><td>precision</td><td>▅▃▁▆▇▃▅█</td></tr><tr><td>recall</td><td>▅▃▁▆▇▃▅█</td></tr><tr><td>val_loss</td><td>▃▅█▁▃▅▆▃</td></tr></table><br/></div><div class=\"wandb-col\"><h3>Run summary:</h3><br/><table class=\"wandb\"><tr><td>accuracy</td><td>0.9466</td></tr><tr><td>epoch</td><td>7</td></tr><tr><td>precision</td><td>0.9466</td></tr><tr><td>recall</td><td>0.9466</td></tr><tr><td>val_loss</td><td>0.20696</td></tr></table><br/></div></div>"
      ],
      "text/plain": [
       "<IPython.core.display.HTML object>"
      ]
     },
     "metadata": {},
     "output_type": "display_data"
    },
    {
     "data": {
      "text/html": [
       " View run <strong style=\"color:#cdcd00\">glowing-elevator-77</strong> at: <a href='https://wandb.ai/university-of-costa-rica/covid19-ChestXRay/runs/zjs0yln7' target=\"_blank\">https://wandb.ai/university-of-costa-rica/covid19-ChestXRay/runs/zjs0yln7</a><br/> View project at: <a href='https://wandb.ai/university-of-costa-rica/covid19-ChestXRay' target=\"_blank\">https://wandb.ai/university-of-costa-rica/covid19-ChestXRay</a><br/>Synced 5 W&B file(s), 8 media file(s), 8 artifact file(s) and 0 other file(s)"
      ],
      "text/plain": [
       "<IPython.core.display.HTML object>"
      ]
     },
     "metadata": {},
     "output_type": "display_data"
    },
    {
     "data": {
      "text/html": [
       "Find logs at: <code>./wandb/run-20240527_000645-zjs0yln7/logs</code>"
      ],
      "text/plain": [
       "<IPython.core.display.HTML object>"
      ]
     },
     "metadata": {},
     "output_type": "display_data"
    }
   ],
   "source": [
    "cnn_filtered_model.train(train_loader=train_loader_filt, val_loader=val_loader_filt, epochs=NUMBER_OF_EPOCHS, patience=PATIENCE, target_val_loss=TARGET_VAL_LOSS)"
   ]
  },
  {
   "cell_type": "code",
   "execution_count": 25,
   "id": "4e24be8a",
   "metadata": {},
   "outputs": [],
   "source": [
    "cnn_filtered_model.save_model('./models/cnn-filtered.pth')"
   ]
  },
  {
   "cell_type": "code",
   "execution_count": 26,
   "id": "1d0c0cd7",
   "metadata": {},
   "outputs": [
    {
     "data": {
      "text/html": [
       "Tracking run with wandb version 0.17.0"
      ],
      "text/plain": [
       "<IPython.core.display.HTML object>"
      ]
     },
     "metadata": {},
     "output_type": "display_data"
    },
    {
     "data": {
      "text/html": [
       "Run data is saved locally in <code>/home/djtaylor/UCR/2024/ML/Proyectos/proyecto_2/wandb/run-20240527_025957-jvdsx81k</code>"
      ],
      "text/plain": [
       "<IPython.core.display.HTML object>"
      ]
     },
     "metadata": {},
     "output_type": "display_data"
    },
    {
     "data": {
      "text/html": [
       "Syncing run <strong><a href='https://wandb.ai/university-of-costa-rica/covid19-ChestXRay/runs/jvdsx81k' target=\"_blank\">golden-sea-78</a></strong> to <a href='https://wandb.ai/university-of-costa-rica/covid19-ChestXRay' target=\"_blank\">Weights & Biases</a> (<a href='https://wandb.me/run' target=\"_blank\">docs</a>)<br/>"
      ],
      "text/plain": [
       "<IPython.core.display.HTML object>"
      ]
     },
     "metadata": {},
     "output_type": "display_data"
    },
    {
     "data": {
      "text/html": [
       " View project at <a href='https://wandb.ai/university-of-costa-rica/covid19-ChestXRay' target=\"_blank\">https://wandb.ai/university-of-costa-rica/covid19-ChestXRay</a>"
      ],
      "text/plain": [
       "<IPython.core.display.HTML object>"
      ]
     },
     "metadata": {},
     "output_type": "display_data"
    },
    {
     "data": {
      "text/html": [
       " View run at <a href='https://wandb.ai/university-of-costa-rica/covid19-ChestXRay/runs/jvdsx81k' target=\"_blank\">https://wandb.ai/university-of-costa-rica/covid19-ChestXRay/runs/jvdsx81k</a>"
      ],
      "text/plain": [
       "<IPython.core.display.HTML object>"
      ]
     },
     "metadata": {},
     "output_type": "display_data"
    },
    {
     "data": {
      "application/vnd.jupyter.widget-view+json": {
       "model_id": "287ec48b17c84d76af85dfdbe26cefcd",
       "version_major": 2,
       "version_minor": 0
      },
      "text/plain": [
       "VBox(children=(Label(value='0.048 MB of 0.048 MB uploaded\\r'), FloatProgress(value=1.0, max=1.0)))"
      ]
     },
     "metadata": {},
     "output_type": "display_data"
    },
    {
     "data": {
      "text/html": [
       " View run <strong style=\"color:#cdcd00\">golden-sea-78</strong> at: <a href='https://wandb.ai/university-of-costa-rica/covid19-ChestXRay/runs/jvdsx81k' target=\"_blank\">https://wandb.ai/university-of-costa-rica/covid19-ChestXRay/runs/jvdsx81k</a><br/> View project at: <a href='https://wandb.ai/university-of-costa-rica/covid19-ChestXRay' target=\"_blank\">https://wandb.ai/university-of-costa-rica/covid19-ChestXRay</a><br/>Synced 4 W&B file(s), 2 media file(s), 2 artifact file(s) and 0 other file(s)"
      ],
      "text/plain": [
       "<IPython.core.display.HTML object>"
      ]
     },
     "metadata": {},
     "output_type": "display_data"
    },
    {
     "data": {
      "text/html": [
       "Find logs at: <code>./wandb/run-20240527_025957-jvdsx81k/logs</code>"
      ],
      "text/plain": [
       "<IPython.core.display.HTML object>"
      ]
     },
     "metadata": {},
     "output_type": "display_data"
    }
   ],
   "source": [
    "cnn_filtered_model.test(test_loader_filt)"
   ]
  },
  {
   "cell_type": "markdown",
   "id": "b85b446303e9610a",
   "metadata": {
    "collapsed": false
   },
   "source": [
    "## Multilayer Perceptron"
   ]
  }
 ],
 "metadata": {
  "kernelspec": {
   "display_name": "Python 3",
   "language": "python",
   "name": "python3"
  },
  "language_info": {
   "codemirror_mode": {
    "name": "ipython",
    "version": 3
   },
   "file_extension": ".py",
   "mimetype": "text/x-python",
   "name": "python",
   "nbconvert_exporter": "python",
   "pygments_lexer": "ipython3",
   "version": "3.8.10"
  }
 },
 "nbformat": 4,
 "nbformat_minor": 5
}
