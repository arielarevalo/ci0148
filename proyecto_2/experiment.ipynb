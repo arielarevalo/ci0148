{
 "cells": [
  {
   "cell_type": "markdown",
   "id": "2b8a2b8ca619cdb3",
   "metadata": {
    "collapsed": false
   },
   "source": [
    "# COVID-19 Chest X-Ray Database - Experiment"
   ]
  },
  {
   "cell_type": "markdown",
   "id": "57458cbe",
   "metadata": {},
   "source": [
    "## CNN Model Implementation"
   ]
  },
  {
   "cell_type": "code",
   "execution_count": 1,
   "id": "70162dee",
   "metadata": {},
   "outputs": [],
   "source": [
    "from torchvision import transforms"
   ]
  },
  {
   "cell_type": "code",
   "execution_count": 5,
   "id": "e734abfc",
   "metadata": {},
   "outputs": [],
   "source": [
    "%reload_ext autoreload\n",
    "%autoreload 2\n",
    "\n",
    "from src.cnn import CNN_Model, load_dataset"
   ]
  },
  {
   "cell_type": "code",
   "execution_count": 3,
   "id": "6722caab",
   "metadata": {},
   "outputs": [],
   "source": [
    "NUMBER_OF_CLASSES = 4\n",
    "NUMBER_OF_EPOCHS = 20\n",
    "BATCH_SIZE = 32\n",
    "PATIENCE = 5\n",
    "TARGET_VAL_LOSS = 0.1\n",
    "IMAGE_SIZE = 224\n",
    "\n",
    "PROJECT_NAME = \"covid19-ChestXRay\"\n",
    "CLASS_NAMES = [\"COVID\", \"Lung_Opacity\", \"Normal\", \"Viral Pneumonia\"]\n",
    "\n",
    "# Define the transformations\n",
    "transform = transforms.Compose([\n",
    "    transforms.Grayscale(num_output_channels=3),\n",
    "    transforms.Resize(IMAGE_SIZE),\n",
    "    transforms.ToTensor(),\n",
    "    transforms.Normalize(mean=[0.485, 0.456, 0.406], std=[0.229, 0.224, 0.225])\n",
    "])"
   ]
  },
  {
   "cell_type": "markdown",
   "id": "601a60c1",
   "metadata": {},
   "source": [
    "### Raw Images"
   ]
  },
  {
   "cell_type": "code",
   "execution_count": 6,
   "id": "ad5f8446",
   "metadata": {},
   "outputs": [],
   "source": [
    "train_loader_raw, val_loader_raw, test_loader_raw = load_dataset(\"./data/raw\", transform=transform, batch_size=64)"
   ]
  },
  {
   "cell_type": "code",
   "execution_count": 7,
   "id": "d91c82d9",
   "metadata": {},
   "outputs": [],
   "source": [
    "cnn_raw_model = CNN_Model(NUMBER_OF_CLASSES, class_names=CLASS_NAMES, project_name=PROJECT_NAME)"
   ]
  },
  {
   "cell_type": "code",
   "execution_count": null,
   "id": "84494820",
   "metadata": {},
   "outputs": [],
   "source": [
    "cnn_raw_model.train(train_loader=train_loader_raw, val_loader=val_loader_raw, epochs=NUMBER_OF_EPOCHS, patience=PATIENCE, target_val_loss=TARGET_VAL_LOSS)"
   ]
  },
  {
   "cell_type": "code",
   "execution_count": null,
   "id": "e245d0bb",
   "metadata": {},
   "outputs": [],
   "source": [
    "cnn_raw_model.test(test_loader_raw)"
   ]
  },
  {
   "cell_type": "markdown",
   "id": "2316916c",
   "metadata": {},
   "source": [
    "### Bilateral Filtered Images"
   ]
  },
  {
   "cell_type": "code",
   "execution_count": null,
   "id": "2791d7e3",
   "metadata": {},
   "outputs": [],
   "source": [
    "train_loader_filt, val_loader_filt, test_loader_filt = load_dataset(\"./data/bf\", transform=transform, batch_size=BATCH_SIZE)"
   ]
  },
  {
   "cell_type": "code",
   "execution_count": null,
   "id": "a3073b3d",
   "metadata": {},
   "outputs": [],
   "source": [
    "cnn_filtered_model = CNN_Model(NUMBER_OF_CLASSES, class_names=CLASS_NAMES, project_name=PROJECT_NAME)"
   ]
  },
  {
   "cell_type": "code",
   "execution_count": null,
   "id": "64116d91",
   "metadata": {},
   "outputs": [],
   "source": [
    "cnn_filtered_model.train(train_loader=train_loader_filt, val_loader=val_loader_filt, epochs=NUMBER_OF_EPOCHS, patience=PATIENCE, target_val_loss=TARGET_VAL_LOSS)"
   ]
  },
  {
   "cell_type": "code",
   "execution_count": null,
   "id": "1d0c0cd7",
   "metadata": {},
   "outputs": [],
   "source": [
    "cnn_filtered_model.test(test_loader_filt)"
   ]
  },
  {
   "cell_type": "code",
   "execution_count": null,
   "id": "4e24be8a",
   "metadata": {},
   "outputs": [],
   "source": [
    "\n",
    "cnn_raw_model.save_model('./models/cnn_raw_model.pth')\n",
    "cnn_filtered_model.save_model('./models/cnn-filtered.pth')"
   ]
  },
  {
   "cell_type": "markdown",
   "id": "b85b446303e9610a",
   "metadata": {
    "collapsed": false
   },
   "source": [
    "## Multilayer Perceptron"
   ]
  }
 ],
 "metadata": {
  "kernelspec": {
   "display_name": "Python 3",
   "language": "python",
   "name": "python3"
  },
  "language_info": {
   "codemirror_mode": {
    "name": "ipython",
    "version": 3
   },
   "file_extension": ".py",
   "mimetype": "text/x-python",
   "name": "python",
   "nbconvert_exporter": "python",
   "pygments_lexer": "ipython3",
   "version": "3.8.10"
  }
 },
 "nbformat": 4,
 "nbformat_minor": 5
}
