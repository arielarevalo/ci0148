{
 "cells": [
  {
   "cell_type": "markdown",
   "id": "2b8a2b8ca619cdb3",
   "metadata": {
    "collapsed": false
   },
   "source": [
    "# COVID-19 Chest X-Ray Database - Experiment"
   ]
  },
  {
   "cell_type": "markdown",
   "id": "57458cbe",
   "metadata": {},
   "source": [
    "## CNN Model Implementation"
   ]
  },
  {
   "cell_type": "code",
   "execution_count": 12,
   "id": "70162dee",
   "metadata": {},
   "outputs": [
    {
     "name": "stdout",
     "output_type": "stream",
     "text": [
      "Error in callback <bound method _WandbInit._resume_backend of <wandb.sdk.wandb_init._WandbInit object at 0x7fa6f806d2b0>> (for pre_run_cell):\n",
      "Unexpected exception formatting exception. Falling back to standard exception\n"
     ]
    },
    {
     "name": "stderr",
     "output_type": "stream",
     "text": [
      "Traceback (most recent call last):\n",
      "  File \"/home/djtaylor/.local/lib/python3.8/site-packages/IPython/core/events.py\", line 89, in trigger\n",
      "    func(*args, **kwargs)\n",
      "  File \"/home/djtaylor/.local/lib/python3.8/site-packages/wandb/sdk/wandb_init.py\", line 437, in _resume_backend\n",
      "    self.backend.interface.publish_resume()\n",
      "  File \"/home/djtaylor/.local/lib/python3.8/site-packages/wandb/sdk/interface/interface.py\", line 706, in publish_resume\n",
      "    self._publish_resume(resume)\n",
      "  File \"/home/djtaylor/.local/lib/python3.8/site-packages/wandb/sdk/interface/interface_shared.py\", line 363, in _publish_resume\n",
      "    self._publish(rec)\n",
      "  File \"/home/djtaylor/.local/lib/python3.8/site-packages/wandb/sdk/interface/interface_sock.py\", line 51, in _publish\n",
      "    self._sock_client.send_record_publish(record)\n",
      "  File \"/home/djtaylor/.local/lib/python3.8/site-packages/wandb/sdk/lib/sock_client.py\", line 221, in send_record_publish\n",
      "    self.send_server_request(server_req)\n",
      "  File \"/home/djtaylor/.local/lib/python3.8/site-packages/wandb/sdk/lib/sock_client.py\", line 155, in send_server_request\n",
      "    self._send_message(msg)\n",
      "  File \"/home/djtaylor/.local/lib/python3.8/site-packages/wandb/sdk/lib/sock_client.py\", line 152, in _send_message\n",
      "    self._sendall_with_error_handle(header + data)\n",
      "  File \"/home/djtaylor/.local/lib/python3.8/site-packages/wandb/sdk/lib/sock_client.py\", line 130, in _sendall_with_error_handle\n",
      "    sent = self._sock.send(data)\n",
      "BrokenPipeError: [Errno 32] Broken pipe\n",
      "\n",
      "During handling of the above exception, another exception occurred:\n",
      "\n",
      "Traceback (most recent call last):\n",
      "  File \"/home/djtaylor/.local/lib/python3.8/site-packages/IPython/core/interactiveshell.py\", line 2105, in showtraceback\n",
      "    stb = self.InteractiveTB.structured_traceback(\n",
      "  File \"/home/djtaylor/.local/lib/python3.8/site-packages/IPython/core/ultratb.py\", line 1396, in structured_traceback\n",
      "    return FormattedTB.structured_traceback(\n",
      "  File \"/home/djtaylor/.local/lib/python3.8/site-packages/IPython/core/ultratb.py\", line 1287, in structured_traceback\n",
      "    return VerboseTB.structured_traceback(\n",
      "  File \"/home/djtaylor/.local/lib/python3.8/site-packages/IPython/core/ultratb.py\", line 1140, in structured_traceback\n",
      "    formatted_exception = self.format_exception_as_a_whole(etype, evalue, etb, number_of_lines_of_context,\n",
      "  File \"/home/djtaylor/.local/lib/python3.8/site-packages/IPython/core/ultratb.py\", line 1030, in format_exception_as_a_whole\n",
      "    self.get_records(etb, number_of_lines_of_context, tb_offset) if etb else []\n",
      "  File \"/home/djtaylor/.local/lib/python3.8/site-packages/IPython/core/ultratb.py\", line 1082, in get_records\n",
      "    style = stack_data.style_with_executing_node(style, self._tb_highlight)\n",
      "  File \"/home/djtaylor/.local/lib/python3.8/site-packages/stack_data/core.py\", line 455, in style_with_executing_node\n",
      "    class NewStyle(style):\n",
      "  File \"/usr/lib/python3/dist-packages/pygments/style.py\", line 91, in __new__\n",
      "    ndef[4] = colorformat(styledef[3:])\n",
      "  File \"/usr/lib/python3/dist-packages/pygments/style.py\", line 58, in colorformat\n",
      "    assert False, \"wrong color format %r\" % text\n",
      "AssertionError: wrong color format 'ansiyellow'\n"
     ]
    },
    {
     "name": "stdout",
     "output_type": "stream",
     "text": [
      "Unexpected exception formatting exception. Falling back to standard exception\n",
      "Error in callback <bound method _WandbInit._pause_backend of <wandb.sdk.wandb_init._WandbInit object at 0x7fa6f806d2b0>> (for post_run_cell):\n",
      "Unexpected exception formatting exception. Falling back to standard exception\n"
     ]
    },
    {
     "name": "stderr",
     "output_type": "stream",
     "text": [
      "Traceback (most recent call last):\n",
      "  File \"/home/djtaylor/.local/lib/python3.8/site-packages/IPython/core/interactiveshell.py\", line 3508, in run_code\n",
      "    exec(code_obj, self.user_global_ns, self.user_ns)\n",
      "  File \"/tmp/ipykernel_14894/1514416956.py\", line 3, in <module>\n",
      "    wandb.init()\n",
      "  File \"/home/djtaylor/.local/lib/python3.8/site-packages/wandb/sdk/wandb_init.py\", line 1178, in init\n",
      "    wandb._sentry.reraise(e)\n",
      "  File \"/home/djtaylor/.local/lib/python3.8/site-packages/wandb/analytics/sentry.py\", line 155, in reraise\n",
      "    raise exc.with_traceback(sys.exc_info()[2])\n",
      "  File \"/home/djtaylor/.local/lib/python3.8/site-packages/wandb/sdk/wandb_init.py\", line 1163, in init\n",
      "    wi.setup(kwargs)\n",
      "  File \"/home/djtaylor/.local/lib/python3.8/site-packages/wandb/sdk/wandb_init.py\", line 227, in setup\n",
      "    tel.feature.set_init_tags = True\n",
      "  File \"/home/djtaylor/.local/lib/python3.8/site-packages/wandb/sdk/lib/telemetry.py\", line 42, in __exit__\n",
      "    self._run._telemetry_callback(self._obj)\n",
      "  File \"/home/djtaylor/.local/lib/python3.8/site-packages/wandb/sdk/wandb_run.py\", line 792, in _telemetry_callback\n",
      "    self._telemetry_flush()\n",
      "  File \"/home/djtaylor/.local/lib/python3.8/site-packages/wandb/sdk/wandb_run.py\", line 803, in _telemetry_flush\n",
      "    self._backend.interface._publish_telemetry(self._telemetry_obj)\n",
      "  File \"/home/djtaylor/.local/lib/python3.8/site-packages/wandb/sdk/interface/interface_shared.py\", line 101, in _publish_telemetry\n",
      "    self._publish(rec)\n",
      "  File \"/home/djtaylor/.local/lib/python3.8/site-packages/wandb/sdk/interface/interface_sock.py\", line 51, in _publish\n",
      "    self._sock_client.send_record_publish(record)\n",
      "  File \"/home/djtaylor/.local/lib/python3.8/site-packages/wandb/sdk/lib/sock_client.py\", line 221, in send_record_publish\n",
      "    self.send_server_request(server_req)\n",
      "  File \"/home/djtaylor/.local/lib/python3.8/site-packages/wandb/sdk/lib/sock_client.py\", line 155, in send_server_request\n",
      "    self._send_message(msg)\n",
      "  File \"/home/djtaylor/.local/lib/python3.8/site-packages/wandb/sdk/lib/sock_client.py\", line 152, in _send_message\n",
      "    self._sendall_with_error_handle(header + data)\n",
      "  File \"/home/djtaylor/.local/lib/python3.8/site-packages/wandb/sdk/lib/sock_client.py\", line 130, in _sendall_with_error_handle\n",
      "    sent = self._sock.send(data)\n",
      "BrokenPipeError: [Errno 32] Broken pipe\n",
      "\n",
      "During handling of the above exception, another exception occurred:\n",
      "\n",
      "Traceback (most recent call last):\n",
      "  File \"/home/djtaylor/.local/lib/python3.8/site-packages/IPython/core/interactiveshell.py\", line 2105, in showtraceback\n",
      "    stb = self.InteractiveTB.structured_traceback(\n",
      "  File \"/home/djtaylor/.local/lib/python3.8/site-packages/IPython/core/ultratb.py\", line 1396, in structured_traceback\n",
      "    return FormattedTB.structured_traceback(\n",
      "  File \"/home/djtaylor/.local/lib/python3.8/site-packages/IPython/core/ultratb.py\", line 1287, in structured_traceback\n",
      "    return VerboseTB.structured_traceback(\n",
      "  File \"/home/djtaylor/.local/lib/python3.8/site-packages/IPython/core/ultratb.py\", line 1140, in structured_traceback\n",
      "    formatted_exception = self.format_exception_as_a_whole(etype, evalue, etb, number_of_lines_of_context,\n",
      "  File \"/home/djtaylor/.local/lib/python3.8/site-packages/IPython/core/ultratb.py\", line 1030, in format_exception_as_a_whole\n",
      "    self.get_records(etb, number_of_lines_of_context, tb_offset) if etb else []\n",
      "  File \"/home/djtaylor/.local/lib/python3.8/site-packages/IPython/core/ultratb.py\", line 1082, in get_records\n",
      "    style = stack_data.style_with_executing_node(style, self._tb_highlight)\n",
      "  File \"/home/djtaylor/.local/lib/python3.8/site-packages/stack_data/core.py\", line 455, in style_with_executing_node\n",
      "    class NewStyle(style):\n",
      "  File \"/usr/lib/python3/dist-packages/pygments/style.py\", line 91, in __new__\n",
      "    ndef[4] = colorformat(styledef[3:])\n",
      "  File \"/usr/lib/python3/dist-packages/pygments/style.py\", line 58, in colorformat\n",
      "    assert False, \"wrong color format %r\" % text\n",
      "AssertionError: wrong color format 'ansiyellow'\n",
      "Traceback (most recent call last):\n",
      "  File \"/home/djtaylor/.local/lib/python3.8/site-packages/IPython/core/events.py\", line 89, in trigger\n",
      "    func(*args, **kwargs)\n",
      "  File \"/home/djtaylor/.local/lib/python3.8/site-packages/wandb/sdk/wandb_init.py\", line 432, in _pause_backend\n",
      "    self.backend.interface.publish_pause()\n",
      "  File \"/home/djtaylor/.local/lib/python3.8/site-packages/wandb/sdk/interface/interface.py\", line 698, in publish_pause\n",
      "    self._publish_pause(pause)\n",
      "  File \"/home/djtaylor/.local/lib/python3.8/site-packages/wandb/sdk/interface/interface_shared.py\", line 359, in _publish_pause\n",
      "    self._publish(rec)\n",
      "  File \"/home/djtaylor/.local/lib/python3.8/site-packages/wandb/sdk/interface/interface_sock.py\", line 51, in _publish\n",
      "    self._sock_client.send_record_publish(record)\n",
      "  File \"/home/djtaylor/.local/lib/python3.8/site-packages/wandb/sdk/lib/sock_client.py\", line 221, in send_record_publish\n",
      "    self.send_server_request(server_req)\n",
      "  File \"/home/djtaylor/.local/lib/python3.8/site-packages/wandb/sdk/lib/sock_client.py\", line 155, in send_server_request\n",
      "    self._send_message(msg)\n",
      "  File \"/home/djtaylor/.local/lib/python3.8/site-packages/wandb/sdk/lib/sock_client.py\", line 152, in _send_message\n",
      "    self._sendall_with_error_handle(header + data)\n",
      "  File \"/home/djtaylor/.local/lib/python3.8/site-packages/wandb/sdk/lib/sock_client.py\", line 130, in _sendall_with_error_handle\n",
      "    sent = self._sock.send(data)\n",
      "BrokenPipeError: [Errno 32] Broken pipe\n",
      "\n",
      "During handling of the above exception, another exception occurred:\n",
      "\n",
      "Traceback (most recent call last):\n",
      "  File \"/home/djtaylor/.local/lib/python3.8/site-packages/IPython/core/interactiveshell.py\", line 2105, in showtraceback\n",
      "    stb = self.InteractiveTB.structured_traceback(\n",
      "  File \"/home/djtaylor/.local/lib/python3.8/site-packages/IPython/core/ultratb.py\", line 1396, in structured_traceback\n",
      "    return FormattedTB.structured_traceback(\n",
      "  File \"/home/djtaylor/.local/lib/python3.8/site-packages/IPython/core/ultratb.py\", line 1287, in structured_traceback\n",
      "    return VerboseTB.structured_traceback(\n",
      "  File \"/home/djtaylor/.local/lib/python3.8/site-packages/IPython/core/ultratb.py\", line 1140, in structured_traceback\n",
      "    formatted_exception = self.format_exception_as_a_whole(etype, evalue, etb, number_of_lines_of_context,\n",
      "  File \"/home/djtaylor/.local/lib/python3.8/site-packages/IPython/core/ultratb.py\", line 1030, in format_exception_as_a_whole\n",
      "    self.get_records(etb, number_of_lines_of_context, tb_offset) if etb else []\n",
      "  File \"/home/djtaylor/.local/lib/python3.8/site-packages/IPython/core/ultratb.py\", line 1082, in get_records\n",
      "    style = stack_data.style_with_executing_node(style, self._tb_highlight)\n",
      "  File \"/home/djtaylor/.local/lib/python3.8/site-packages/stack_data/core.py\", line 455, in style_with_executing_node\n",
      "    class NewStyle(style):\n",
      "  File \"/usr/lib/python3/dist-packages/pygments/style.py\", line 91, in __new__\n",
      "    ndef[4] = colorformat(styledef[3:])\n",
      "  File \"/usr/lib/python3/dist-packages/pygments/style.py\", line 58, in colorformat\n",
      "    assert False, \"wrong color format %r\" % text\n",
      "AssertionError: wrong color format 'ansiyellow'\n"
     ]
    }
   ],
   "source": [
    "from torchvision import transforms\n",
    "import wandb\n",
    "wandb.init()"
   ]
  },
  {
   "cell_type": "code",
   "execution_count": 4,
   "id": "e734abfc",
   "metadata": {},
   "outputs": [],
   "source": [
    "%reload_ext autoreload\n",
    "%autoreload 2\n",
    "\n",
    "from src.cnn import CNN_Model, load_dataset"
   ]
  },
  {
   "cell_type": "code",
   "execution_count": 6,
   "id": "6722caab",
   "metadata": {},
   "outputs": [],
   "source": [
    "NUMBER_OF_CLASSES = 4\n",
    "NUMBER_OF_EPOCHS = 10\n",
    "BATCH_SIZE = 32\n",
    "PATIENCE = 4\n",
    "TARGET_VAL_LOSS = 0.15\n",
    "IMAGE_SIZE = 224\n",
    "\n",
    "PROJECT_NAME = \"covid19-ChestXRay\"\n",
    "CLASS_NAMES = [\"COVID\", \"Lung_Opacity\", \"Normal\", \"Viral Pneumonia\"]\n",
    "\n",
    "# Define the transformations\n",
    "transform = transforms.Compose([\n",
    "    transforms.Grayscale(num_output_channels=3),\n",
    "    transforms.Resize(IMAGE_SIZE),\n",
    "    transforms.ToTensor(),\n",
    "    transforms.Normalize(mean=[0.485, 0.456, 0.406], std=[0.229, 0.224, 0.225])\n",
    "])"
   ]
  },
  {
   "cell_type": "markdown",
   "id": "601a60c1",
   "metadata": {},
   "source": [
    "### Raw Images"
   ]
  },
  {
   "cell_type": "code",
   "execution_count": null,
   "id": "ad5f8446",
   "metadata": {},
   "outputs": [],
   "source": [
    "train_loader_raw, val_loader_raw, test_loader_raw = load_dataset(\"./data/raw\", transform=transform, batch_size=64)"
   ]
  },
  {
   "cell_type": "code",
   "execution_count": null,
   "id": "d91c82d9",
   "metadata": {},
   "outputs": [],
   "source": [
    "cnn_raw_model = CNN_Model(NUMBER_OF_CLASSES, class_names=CLASS_NAMES, project_name=PROJECT_NAME)"
   ]
  },
  {
   "cell_type": "code",
   "execution_count": null,
   "id": "84494820",
   "metadata": {},
   "outputs": [],
   "source": [
    "cnn_raw_model.train(train_loader=train_loader_raw, val_loader=val_loader_raw, epochs=NUMBER_OF_EPOCHS, patience=PATIENCE, target_val_loss=TARGET_VAL_LOSS)"
   ]
  },
  {
   "cell_type": "code",
   "execution_count": null,
   "id": "814de47f",
   "metadata": {},
   "outputs": [],
   "source": [
    "cnn_raw_model.save_model('./models/cnn_raw_model.pth')"
   ]
  },
  {
   "cell_type": "code",
   "execution_count": null,
   "id": "e245d0bb",
   "metadata": {},
   "outputs": [],
   "source": [
    "cnn_raw_model.test(test_loader_raw)"
   ]
  },
  {
   "cell_type": "markdown",
   "id": "2316916c",
   "metadata": {},
   "source": [
    "### Bilateral Filtered Images"
   ]
  },
  {
   "cell_type": "code",
   "execution_count": 7,
   "id": "2791d7e3",
   "metadata": {},
   "outputs": [],
   "source": [
    "train_loader_filt, val_loader_filt, test_loader_filt = load_dataset(\"./data/bf\", transform=transform, batch_size=BATCH_SIZE)"
   ]
  },
  {
   "cell_type": "code",
   "execution_count": 8,
   "id": "a3073b3d",
   "metadata": {},
   "outputs": [],
   "source": [
    "cnn_filtered_model = CNN_Model(NUMBER_OF_CLASSES, class_names=CLASS_NAMES, project_name=PROJECT_NAME)"
   ]
  },
  {
   "cell_type": "code",
   "execution_count": 10,
   "id": "64116d91",
   "metadata": {},
   "outputs": [
    {
     "name": "stdout",
     "output_type": "stream",
     "text": [
      "Error in callback <bound method _WandbInit._resume_backend of <wandb.sdk.wandb_init._WandbInit object at 0x7fa6f806d2b0>> (for pre_run_cell):\n",
      "Unexpected exception formatting exception. Falling back to standard exception\n"
     ]
    },
    {
     "name": "stderr",
     "output_type": "stream",
     "text": [
      "Traceback (most recent call last):\n",
      "  File \"/home/djtaylor/.local/lib/python3.8/site-packages/IPython/core/events.py\", line 89, in trigger\n",
      "    func(*args, **kwargs)\n",
      "  File \"/home/djtaylor/.local/lib/python3.8/site-packages/wandb/sdk/wandb_init.py\", line 437, in _resume_backend\n",
      "    self.backend.interface.publish_resume()\n",
      "  File \"/home/djtaylor/.local/lib/python3.8/site-packages/wandb/sdk/interface/interface.py\", line 706, in publish_resume\n",
      "    self._publish_resume(resume)\n",
      "  File \"/home/djtaylor/.local/lib/python3.8/site-packages/wandb/sdk/interface/interface_shared.py\", line 363, in _publish_resume\n",
      "    self._publish(rec)\n",
      "  File \"/home/djtaylor/.local/lib/python3.8/site-packages/wandb/sdk/interface/interface_sock.py\", line 51, in _publish\n",
      "    self._sock_client.send_record_publish(record)\n",
      "  File \"/home/djtaylor/.local/lib/python3.8/site-packages/wandb/sdk/lib/sock_client.py\", line 221, in send_record_publish\n",
      "    self.send_server_request(server_req)\n",
      "  File \"/home/djtaylor/.local/lib/python3.8/site-packages/wandb/sdk/lib/sock_client.py\", line 155, in send_server_request\n",
      "    self._send_message(msg)\n",
      "  File \"/home/djtaylor/.local/lib/python3.8/site-packages/wandb/sdk/lib/sock_client.py\", line 152, in _send_message\n",
      "    self._sendall_with_error_handle(header + data)\n",
      "  File \"/home/djtaylor/.local/lib/python3.8/site-packages/wandb/sdk/lib/sock_client.py\", line 130, in _sendall_with_error_handle\n",
      "    sent = self._sock.send(data)\n",
      "BrokenPipeError: [Errno 32] Broken pipe\n",
      "\n",
      "During handling of the above exception, another exception occurred:\n",
      "\n",
      "Traceback (most recent call last):\n",
      "  File \"/home/djtaylor/.local/lib/python3.8/site-packages/IPython/core/interactiveshell.py\", line 2105, in showtraceback\n",
      "    stb = self.InteractiveTB.structured_traceback(\n",
      "  File \"/home/djtaylor/.local/lib/python3.8/site-packages/IPython/core/ultratb.py\", line 1396, in structured_traceback\n",
      "    return FormattedTB.structured_traceback(\n",
      "  File \"/home/djtaylor/.local/lib/python3.8/site-packages/IPython/core/ultratb.py\", line 1287, in structured_traceback\n",
      "    return VerboseTB.structured_traceback(\n",
      "  File \"/home/djtaylor/.local/lib/python3.8/site-packages/IPython/core/ultratb.py\", line 1140, in structured_traceback\n",
      "    formatted_exception = self.format_exception_as_a_whole(etype, evalue, etb, number_of_lines_of_context,\n",
      "  File \"/home/djtaylor/.local/lib/python3.8/site-packages/IPython/core/ultratb.py\", line 1030, in format_exception_as_a_whole\n",
      "    self.get_records(etb, number_of_lines_of_context, tb_offset) if etb else []\n",
      "  File \"/home/djtaylor/.local/lib/python3.8/site-packages/IPython/core/ultratb.py\", line 1082, in get_records\n",
      "    style = stack_data.style_with_executing_node(style, self._tb_highlight)\n",
      "  File \"/home/djtaylor/.local/lib/python3.8/site-packages/stack_data/core.py\", line 455, in style_with_executing_node\n",
      "    class NewStyle(style):\n",
      "  File \"/usr/lib/python3/dist-packages/pygments/style.py\", line 91, in __new__\n",
      "    ndef[4] = colorformat(styledef[3:])\n",
      "  File \"/usr/lib/python3/dist-packages/pygments/style.py\", line 58, in colorformat\n",
      "    assert False, \"wrong color format %r\" % text\n",
      "AssertionError: wrong color format 'ansiyellow'\n"
     ]
    },
    {
     "data": {
      "text/html": [
       "Finishing last run (ID:ldu51bhm) before initializing another..."
      ],
      "text/plain": [
       "<IPython.core.display.HTML object>"
      ]
     },
     "metadata": {},
     "output_type": "display_data"
    },
    {
     "name": "stdout",
     "output_type": "stream",
     "text": [
      "Unexpected exception formatting exception. Falling back to standard exception\n",
      "Error in callback <bound method _WandbInit._pause_backend of <wandb.sdk.wandb_init._WandbInit object at 0x7fa6f806d2b0>> (for post_run_cell):\n",
      "Unexpected exception formatting exception. Falling back to standard exception\n"
     ]
    },
    {
     "name": "stderr",
     "output_type": "stream",
     "text": [
      "Traceback (most recent call last):\n",
      "  File \"/home/djtaylor/.local/lib/python3.8/site-packages/IPython/core/interactiveshell.py\", line 3508, in run_code\n",
      "    exec(code_obj, self.user_global_ns, self.user_ns)\n",
      "  File \"/tmp/ipykernel_14894/4285418154.py\", line 1, in <module>\n",
      "    cnn_filtered_model.train(train_loader=train_loader_filt, val_loader=val_loader_filt, epochs=NUMBER_OF_EPOCHS, patience=PATIENCE, target_val_loss=TARGET_VAL_LOSS)\n",
      "  File \"/home/djtaylor/UCR/2024/ML/Proyectos/proyecto_2/src/cnn.py\", line 43, in train\n",
      "    self.init_wandb(epochs, patience, learning_rate, target_val_loss)\n",
      "  File \"/home/djtaylor/UCR/2024/ML/Proyectos/proyecto_2/src/cnn.py\", line 138, in init_wandb\n",
      "    self.wandb = wandb_run = wandb.init(\n",
      "  File \"/home/djtaylor/.local/lib/python3.8/site-packages/wandb/sdk/wandb_init.py\", line 1178, in init\n",
      "    wandb._sentry.reraise(e)\n",
      "  File \"/home/djtaylor/.local/lib/python3.8/site-packages/wandb/analytics/sentry.py\", line 155, in reraise\n",
      "    raise exc.with_traceback(sys.exc_info()[2])\n",
      "  File \"/home/djtaylor/.local/lib/python3.8/site-packages/wandb/sdk/wandb_init.py\", line 1164, in init\n",
      "    return wi.init()\n",
      "  File \"/home/djtaylor/.local/lib/python3.8/site-packages/wandb/sdk/wandb_init.py\", line 595, in init\n",
      "    latest_run.finish()\n",
      "  File \"/home/djtaylor/.local/lib/python3.8/site-packages/wandb/sdk/wandb_run.py\", line 449, in wrapper\n",
      "    return func(self, *args, **kwargs)\n",
      "  File \"/home/djtaylor/.local/lib/python3.8/site-packages/wandb/sdk/wandb_run.py\", line 390, in wrapper\n",
      "    return func(self, *args, **kwargs)\n",
      "  File \"/home/djtaylor/.local/lib/python3.8/site-packages/wandb/sdk/wandb_run.py\", line 2094, in finish\n",
      "    return self._finish(exit_code, quiet)\n",
      "  File \"/home/djtaylor/.local/lib/python3.8/site-packages/wandb/sdk/wandb_run.py\", line 2102, in _finish\n",
      "    tel.feature.finish = True\n",
      "  File \"/home/djtaylor/.local/lib/python3.8/site-packages/wandb/sdk/lib/telemetry.py\", line 42, in __exit__\n",
      "    self._run._telemetry_callback(self._obj)\n",
      "  File \"/home/djtaylor/.local/lib/python3.8/site-packages/wandb/sdk/wandb_run.py\", line 792, in _telemetry_callback\n",
      "    self._telemetry_flush()\n",
      "  File \"/home/djtaylor/.local/lib/python3.8/site-packages/wandb/sdk/wandb_run.py\", line 803, in _telemetry_flush\n",
      "    self._backend.interface._publish_telemetry(self._telemetry_obj)\n",
      "  File \"/home/djtaylor/.local/lib/python3.8/site-packages/wandb/sdk/interface/interface_shared.py\", line 101, in _publish_telemetry\n",
      "    self._publish(rec)\n",
      "  File \"/home/djtaylor/.local/lib/python3.8/site-packages/wandb/sdk/interface/interface_sock.py\", line 51, in _publish\n",
      "    self._sock_client.send_record_publish(record)\n",
      "  File \"/home/djtaylor/.local/lib/python3.8/site-packages/wandb/sdk/lib/sock_client.py\", line 221, in send_record_publish\n",
      "    self.send_server_request(server_req)\n",
      "  File \"/home/djtaylor/.local/lib/python3.8/site-packages/wandb/sdk/lib/sock_client.py\", line 155, in send_server_request\n",
      "    self._send_message(msg)\n",
      "  File \"/home/djtaylor/.local/lib/python3.8/site-packages/wandb/sdk/lib/sock_client.py\", line 152, in _send_message\n",
      "    self._sendall_with_error_handle(header + data)\n",
      "  File \"/home/djtaylor/.local/lib/python3.8/site-packages/wandb/sdk/lib/sock_client.py\", line 130, in _sendall_with_error_handle\n",
      "    sent = self._sock.send(data)\n",
      "BrokenPipeError: [Errno 32] Broken pipe\n",
      "\n",
      "During handling of the above exception, another exception occurred:\n",
      "\n",
      "Traceback (most recent call last):\n",
      "  File \"/home/djtaylor/.local/lib/python3.8/site-packages/IPython/core/interactiveshell.py\", line 2105, in showtraceback\n",
      "    stb = self.InteractiveTB.structured_traceback(\n",
      "  File \"/home/djtaylor/.local/lib/python3.8/site-packages/IPython/core/ultratb.py\", line 1396, in structured_traceback\n",
      "    return FormattedTB.structured_traceback(\n",
      "  File \"/home/djtaylor/.local/lib/python3.8/site-packages/IPython/core/ultratb.py\", line 1287, in structured_traceback\n",
      "    return VerboseTB.structured_traceback(\n",
      "  File \"/home/djtaylor/.local/lib/python3.8/site-packages/IPython/core/ultratb.py\", line 1140, in structured_traceback\n",
      "    formatted_exception = self.format_exception_as_a_whole(etype, evalue, etb, number_of_lines_of_context,\n",
      "  File \"/home/djtaylor/.local/lib/python3.8/site-packages/IPython/core/ultratb.py\", line 1030, in format_exception_as_a_whole\n",
      "    self.get_records(etb, number_of_lines_of_context, tb_offset) if etb else []\n",
      "  File \"/home/djtaylor/.local/lib/python3.8/site-packages/IPython/core/ultratb.py\", line 1082, in get_records\n",
      "    style = stack_data.style_with_executing_node(style, self._tb_highlight)\n",
      "  File \"/home/djtaylor/.local/lib/python3.8/site-packages/stack_data/core.py\", line 455, in style_with_executing_node\n",
      "    class NewStyle(style):\n",
      "  File \"/usr/lib/python3/dist-packages/pygments/style.py\", line 91, in __new__\n",
      "    ndef[4] = colorformat(styledef[3:])\n",
      "  File \"/usr/lib/python3/dist-packages/pygments/style.py\", line 58, in colorformat\n",
      "    assert False, \"wrong color format %r\" % text\n",
      "AssertionError: wrong color format 'ansiyellow'\n",
      "Traceback (most recent call last):\n",
      "  File \"/home/djtaylor/.local/lib/python3.8/site-packages/IPython/core/events.py\", line 89, in trigger\n",
      "    func(*args, **kwargs)\n",
      "  File \"/home/djtaylor/.local/lib/python3.8/site-packages/wandb/sdk/wandb_init.py\", line 432, in _pause_backend\n",
      "    self.backend.interface.publish_pause()\n",
      "  File \"/home/djtaylor/.local/lib/python3.8/site-packages/wandb/sdk/interface/interface.py\", line 698, in publish_pause\n",
      "    self._publish_pause(pause)\n",
      "  File \"/home/djtaylor/.local/lib/python3.8/site-packages/wandb/sdk/interface/interface_shared.py\", line 359, in _publish_pause\n",
      "    self._publish(rec)\n",
      "  File \"/home/djtaylor/.local/lib/python3.8/site-packages/wandb/sdk/interface/interface_sock.py\", line 51, in _publish\n",
      "    self._sock_client.send_record_publish(record)\n",
      "  File \"/home/djtaylor/.local/lib/python3.8/site-packages/wandb/sdk/lib/sock_client.py\", line 221, in send_record_publish\n",
      "    self.send_server_request(server_req)\n",
      "  File \"/home/djtaylor/.local/lib/python3.8/site-packages/wandb/sdk/lib/sock_client.py\", line 155, in send_server_request\n",
      "    self._send_message(msg)\n",
      "  File \"/home/djtaylor/.local/lib/python3.8/site-packages/wandb/sdk/lib/sock_client.py\", line 152, in _send_message\n",
      "    self._sendall_with_error_handle(header + data)\n",
      "  File \"/home/djtaylor/.local/lib/python3.8/site-packages/wandb/sdk/lib/sock_client.py\", line 130, in _sendall_with_error_handle\n",
      "    sent = self._sock.send(data)\n",
      "BrokenPipeError: [Errno 32] Broken pipe\n",
      "\n",
      "During handling of the above exception, another exception occurred:\n",
      "\n",
      "Traceback (most recent call last):\n",
      "  File \"/home/djtaylor/.local/lib/python3.8/site-packages/IPython/core/interactiveshell.py\", line 2105, in showtraceback\n",
      "    stb = self.InteractiveTB.structured_traceback(\n",
      "  File \"/home/djtaylor/.local/lib/python3.8/site-packages/IPython/core/ultratb.py\", line 1396, in structured_traceback\n",
      "    return FormattedTB.structured_traceback(\n",
      "  File \"/home/djtaylor/.local/lib/python3.8/site-packages/IPython/core/ultratb.py\", line 1287, in structured_traceback\n",
      "    return VerboseTB.structured_traceback(\n",
      "  File \"/home/djtaylor/.local/lib/python3.8/site-packages/IPython/core/ultratb.py\", line 1140, in structured_traceback\n",
      "    formatted_exception = self.format_exception_as_a_whole(etype, evalue, etb, number_of_lines_of_context,\n",
      "  File \"/home/djtaylor/.local/lib/python3.8/site-packages/IPython/core/ultratb.py\", line 1030, in format_exception_as_a_whole\n",
      "    self.get_records(etb, number_of_lines_of_context, tb_offset) if etb else []\n",
      "  File \"/home/djtaylor/.local/lib/python3.8/site-packages/IPython/core/ultratb.py\", line 1082, in get_records\n",
      "    style = stack_data.style_with_executing_node(style, self._tb_highlight)\n",
      "  File \"/home/djtaylor/.local/lib/python3.8/site-packages/stack_data/core.py\", line 455, in style_with_executing_node\n",
      "    class NewStyle(style):\n",
      "  File \"/usr/lib/python3/dist-packages/pygments/style.py\", line 91, in __new__\n",
      "    ndef[4] = colorformat(styledef[3:])\n",
      "  File \"/usr/lib/python3/dist-packages/pygments/style.py\", line 58, in colorformat\n",
      "    assert False, \"wrong color format %r\" % text\n",
      "AssertionError: wrong color format 'ansiyellow'\n"
     ]
    }
   ],
   "source": [
    "cnn_filtered_model.train(train_loader=train_loader_filt, val_loader=val_loader_filt, epochs=NUMBER_OF_EPOCHS, patience=PATIENCE, target_val_loss=TARGET_VAL_LOSS)"
   ]
  },
  {
   "cell_type": "code",
   "execution_count": null,
   "id": "4e24be8a",
   "metadata": {},
   "outputs": [],
   "source": [
    "cnn_filtered_model.save_model('./models/cnn-filtered.pth')"
   ]
  },
  {
   "cell_type": "code",
   "execution_count": null,
   "id": "1d0c0cd7",
   "metadata": {},
   "outputs": [],
   "source": [
    "cnn_filtered_model.test(test_loader_filt)"
   ]
  },
  {
   "cell_type": "markdown",
   "id": "b85b446303e9610a",
   "metadata": {
    "collapsed": false
   },
   "source": [
    "## Multilayer Perceptron"
   ]
  }
 ],
 "metadata": {
  "kernelspec": {
   "display_name": "Python 3",
   "language": "python",
   "name": "python3"
  },
  "language_info": {
   "codemirror_mode": {
    "name": "ipython",
    "version": 3
   },
   "file_extension": ".py",
   "mimetype": "text/x-python",
   "name": "python",
   "nbconvert_exporter": "python",
   "pygments_lexer": "ipython3",
   "version": "3.8.10"
  }
 },
 "nbformat": 4,
 "nbformat_minor": 5
}
