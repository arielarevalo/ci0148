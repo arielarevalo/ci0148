{
 "cells": [
  {
   "metadata": {},
   "cell_type": "raw",
   "source": "",
   "id": "cb7f0238ee8ed7dc"
  },
  {
   "metadata": {
    "ExecuteTime": {
     "end_time": "2024-05-24T22:28:50.941395Z",
     "start_time": "2024-05-24T22:28:50.939342Z"
    }
   },
   "cell_type": "code",
   "source": [
    "import numpy as np\n",
    "\n",
    "import torch\n",
    "import torch.nn as nn\n",
    "import torch.optim as optim\n",
    "from torch.utils.data import DataLoader, TensorDataset\n",
    "from torchvision import models\n",
    "from torchvision.models import ResNet50_Weights\n",
    "from torchvision.transforms import transforms"
   ],
   "id": "5de3cfe30b10da89",
   "outputs": [],
   "execution_count": 8
  },
  {
   "metadata": {
    "ExecuteTime": {
     "end_time": "2024-05-24T22:29:21.224949Z",
     "start_time": "2024-05-24T22:29:20.968316Z"
    }
   },
   "cell_type": "code",
   "source": [
    "# Prefer to load as npy so we can use ToTensor\n",
    "features = np.load('./data/raw/features.npy') # [num, 299, 299]\n",
    "labels = np.load('./data/raw/labels.npy') # [num, 4]"
   ],
   "id": "1df5c342a12929e3",
   "outputs": [],
   "execution_count": 11
  },
  {
   "metadata": {
    "ExecuteTime": {
     "end_time": "2024-05-24T22:29:30.027121Z",
     "start_time": "2024-05-24T22:29:21.225773Z"
    }
   },
   "cell_type": "code",
   "source": [
    "preprocess = transforms.Compose([\n",
    "    transforms.ToTensor(),\n",
    "    transforms.Resize((224, 224))  # ResNet50 works best on [224, 224]\n",
    "])\n",
    "\n",
    "features = torch.stack([preprocess(f) for f in features])\n",
    "labels = torch.tensor(labels).type(torch.float)\n",
    "\n",
    "# Print the data types\n",
    "print(f'Features dtype: {features.dtype}')\n",
    "print(f'Features shape: {features.shape}')\n",
    "print(f'Labels dtype: {labels.dtype}')\n",
    "print(f'Labels shape: {labels.shape}')\n",
    "\n",
    "# Create a TensorDataset\n",
    "dataset = TensorDataset(features, labels)\n",
    "\n",
    "# Create a DataLoader\n",
    "dataloader = DataLoader(dataset, batch_size=32, shuffle=True) # Stratify?"
   ],
   "id": "6b70e6a7ee16a7eb",
   "outputs": [
    {
     "name": "stdout",
     "output_type": "stream",
     "text": [
      "Features dtype: torch.float32\n",
      "Features shape: torch.Size([21165, 1, 224, 224])\n",
      "Labels dtype: torch.float32\n",
      "Labels shape: torch.Size([21165, 4])\n"
     ]
    }
   ],
   "execution_count": 12
  },
  {
   "metadata": {
    "ExecuteTime": {
     "end_time": "2024-05-24T22:29:56.763081Z",
     "start_time": "2024-05-24T22:29:56.165689Z"
    }
   },
   "cell_type": "code",
   "source": [
    "# Load the pretrained ResNet50 model\n",
    "model = models.resnet50(weights=ResNet50_Weights.DEFAULT)\n",
    "\n",
    "# Modify the first convolutional layer to accept single-channel input, other params are kept as ResNet50 defaults (padding=3 ensures output shape is [150, 150])\n",
    "model.conv1 = nn.Conv2d(1, 64, kernel_size=7, stride=2, padding=3, bias=False)\n",
    "\n",
    "# Modify the final fully connected layer to match the number of classes (4)\n",
    "num_ftrs = model.fc.in_features\n",
    "model.fc = nn.Linear(num_ftrs, 4)\n",
    "\n",
    "# Move the model to GPU if available\n",
    "device = torch.device('mps' if torch.backends.mps.is_available() else 'cuda' if torch.cuda.is_available() else 'cpu')\n",
    "print(\"Device is set to:\", device)\n",
    "model = model.to(device, torch.float)\n",
    "\n",
    "# Define loss function and optimizer\n",
    "criterion = nn.CrossEntropyLoss()\n",
    "optimizer = optim.Adam(model.parameters(), lr=0.001)"
   ],
   "id": "5096d1bc09583b73",
   "outputs": [
    {
     "name": "stdout",
     "output_type": "stream",
     "text": [
      "Device is set to: mps\n"
     ]
    }
   ],
   "execution_count": 13
  },
  {
   "metadata": {
    "jupyter": {
     "is_executing": true
    },
    "ExecuteTime": {
     "start_time": "2024-05-24T22:30:02.744380Z"
    }
   },
   "cell_type": "code",
   "source": [
    "# Training loop\n",
    "num_epochs = 10\n",
    "\n",
    "for epoch in range(num_epochs):\n",
    "    model.train()\n",
    "    running_loss = 0.0\n",
    "\n",
    "    for inputs, labels in dataloader:\n",
    "        inputs, labels = inputs.to(device), labels.to(device)\n",
    "\n",
    "        # Zero the parameter gradients\n",
    "        optimizer.zero_grad()\n",
    "\n",
    "        # Forward pass\n",
    "        outputs = model(inputs)\n",
    "        loss = criterion(outputs, torch.max(labels, 1)[1])\n",
    "\n",
    "        # Backward pass and optimization\n",
    "        loss.backward()\n",
    "        optimizer.step()\n",
    "\n",
    "        # Accumulate the loss\n",
    "        running_loss += loss.item() * inputs.size(0)\n",
    "\n",
    "    epoch_loss = running_loss / len(dataloader.dataset)\n",
    "    print(f'Epoch {epoch+1}/{num_epochs}, Loss: {epoch_loss:.4f}')\n",
    "\n",
    "print('Training complete')"
   ],
   "id": "a6307234e877d635",
   "outputs": [],
   "execution_count": null
  },
  {
   "metadata": {},
   "cell_type": "code",
   "outputs": [],
   "execution_count": null,
   "source": "",
   "id": "fdfe08030f1f57c9"
  }
 ],
 "metadata": {
  "kernelspec": {
   "display_name": "Python 3",
   "language": "python",
   "name": "python3"
  },
  "language_info": {
   "codemirror_mode": {
    "name": "ipython",
    "version": 2
   },
   "file_extension": ".py",
   "mimetype": "text/x-python",
   "name": "python",
   "nbconvert_exporter": "python",
   "pygments_lexer": "ipython2",
   "version": "2.7.6"
  }
 },
 "nbformat": 4,
 "nbformat_minor": 5
}
