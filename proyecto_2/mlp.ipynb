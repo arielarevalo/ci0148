{
 "cells": [
  {
   "cell_type": "code",
   "id": "initial_id",
   "metadata": {
    "collapsed": true,
    "ExecuteTime": {
     "end_time": "2024-05-28T06:33:25.158281Z",
     "start_time": "2024-05-28T06:33:24.092370Z"
    }
   },
   "source": [
    "%reload_ext autoreload\n",
    "%autoreload 2\n",
    "\n",
    "from mlp import MlpRun"
   ],
   "outputs": [],
   "execution_count": 61
  },
  {
   "metadata": {
    "ExecuteTime": {
     "end_time": "2024-05-28T06:33:25.339543Z",
     "start_time": "2024-05-28T06:33:25.159411Z"
    }
   },
   "cell_type": "code",
   "source": [
    "LBP_PATH = \"./data/lbp\"\n",
    "CLASS_NAMES = [\"COVID\", \"Lung_Opacity\", \"Normal\", \"Viral Pneumonia\"]"
   ],
   "id": "597662a3b06d47ae",
   "outputs": [],
   "execution_count": 62
  },
  {
   "metadata": {
    "ExecuteTime": {
     "end_time": "2024-05-28T06:33:25.509064Z",
     "start_time": "2024-05-28T06:33:25.340250Z"
    }
   },
   "cell_type": "code",
   "source": [
    "batch_size = 128\n",
    "learning_rate = 0.0001\n",
    "dropout_rate = 0.2\n",
    "hidden_sizes = [512, 256]\n",
    "epochs = 150\n",
    "output_size = 4  # Four classes"
   ],
   "id": "134be7985814d58a",
   "outputs": [],
   "execution_count": 63
  },
  {
   "metadata": {
    "ExecuteTime": {
     "end_time": "2024-05-28T06:33:26.002751Z",
     "start_time": "2024-05-28T06:33:25.512366Z"
    }
   },
   "cell_type": "code",
   "source": "run = MlpRun(LBP_PATH, CLASS_NAMES, batch_size, hidden_sizes, output_size, dropout_rate, learning_rate)",
   "id": "9a577df527731f48",
   "outputs": [
    {
     "name": "stdout",
     "output_type": "stream",
     "text": [
      "Features dtype: torch.float32\n",
      "Features shape: torch.Size([21165, 256])\n",
      "Labels dtype: torch.int64\n",
      "Labels shape: torch.Size([21165])\n"
     ]
    }
   ],
   "execution_count": 64
  },
  {
   "metadata": {
    "ExecuteTime": {
     "end_time": "2024-05-28T06:37:40.520590Z",
     "start_time": "2024-05-28T06:33:26.004304Z"
    }
   },
   "cell_type": "code",
   "source": "run.train(epochs)",
   "id": "7fbb2c4d3ab4a02e",
   "outputs": [
    {
     "data": {
      "text/plain": [
       "<IPython.core.display.HTML object>"
      ],
      "text/html": [
       "Tracking run with wandb version 0.17.0"
      ]
     },
     "metadata": {},
     "output_type": "display_data"
    },
    {
     "data": {
      "text/plain": [
       "<IPython.core.display.HTML object>"
      ],
      "text/html": [
       "Run data is saved locally in <code>/Users/ariel.arevalo/Workspace/ci0148/proyecto_2/wandb/run-20240528_003326-mxv3f8ew</code>"
      ]
     },
     "metadata": {},
     "output_type": "display_data"
    },
    {
     "data": {
      "text/plain": [
       "<IPython.core.display.HTML object>"
      ],
      "text/html": [
       "Syncing run <strong><a href='https://wandb.ai/university-of-costa-rica/covid19-ChestXRay/runs/mxv3f8ew' target=\"_blank\">grateful-waterfall-174</a></strong> to <a href='https://wandb.ai/university-of-costa-rica/covid19-ChestXRay' target=\"_blank\">Weights & Biases</a> (<a href='https://wandb.me/run' target=\"_blank\">docs</a>)<br/>"
      ]
     },
     "metadata": {},
     "output_type": "display_data"
    },
    {
     "data": {
      "text/plain": [
       "<IPython.core.display.HTML object>"
      ],
      "text/html": [
       " View project at <a href='https://wandb.ai/university-of-costa-rica/covid19-ChestXRay' target=\"_blank\">https://wandb.ai/university-of-costa-rica/covid19-ChestXRay</a>"
      ]
     },
     "metadata": {},
     "output_type": "display_data"
    },
    {
     "data": {
      "text/plain": [
       "<IPython.core.display.HTML object>"
      ],
      "text/html": [
       " View run at <a href='https://wandb.ai/university-of-costa-rica/covid19-ChestXRay/runs/mxv3f8ew' target=\"_blank\">https://wandb.ai/university-of-costa-rica/covid19-ChestXRay/runs/mxv3f8ew</a>"
      ]
     },
     "metadata": {},
     "output_type": "display_data"
    },
    {
     "name": "stdout",
     "output_type": "stream",
     "text": [
      "[0 Val loss: 0.8374054747469285\n",
      "New best model saved with accuracy: 66.87%\n",
      "[1 Val loss: 0.7805933040731093\n",
      "New best model saved with accuracy: 69.23%\n",
      "[2 Val loss: 0.7481538267696605\n",
      "New best model saved with accuracy: 69.47%\n",
      "[3 Val loss: 0.722872116986443\n",
      "New best model saved with accuracy: 71.55%\n",
      "[4 Val loss: 0.7042934438761543\n",
      "New best model saved with accuracy: 73.02%\n",
      "[5 Val loss: 0.6868303032482371\n",
      "New best model saved with accuracy: 73.20%\n",
      "[6 Val loss: 0.6719904506907743\n",
      "New best model saved with accuracy: 73.87%\n",
      "[7 Val loss: 0.6631617265589097\n",
      "[8 Val loss: 0.658650840029997\n",
      "[9 Val loss: 0.6440713896470911\n",
      "New best model saved with accuracy: 75.00%\n",
      "[10 Val loss: 0.6414354092934552\n",
      "New best model saved with accuracy: 75.09%\n",
      "[11 Val loss: 0.6322532015688279\n",
      "[12 Val loss: 0.6280340973068687\n",
      "[13 Val loss: 0.6270003178540398\n",
      "New best model saved with accuracy: 75.24%\n",
      "[14 Val loss: 0.6308692097663879\n",
      "[15 Val loss: 0.6210807035951054\n",
      "New best model saved with accuracy: 75.61%\n",
      "[16 Val loss: 0.6162314134485581\n",
      "[17 Val loss: 0.6166602022507611\n",
      "New best model saved with accuracy: 76.23%\n",
      "[18 Val loss: 0.6071618883048787\n",
      "[19 Val loss: 0.6082969903945923\n",
      "New best model saved with accuracy: 76.28%\n",
      "[20 Val loss: 0.6057150065898895\n",
      "[21 Val loss: 0.6063037725055919\n",
      "New best model saved with accuracy: 76.80%\n",
      "[22 Val loss: 0.609173075241201\n",
      "[23 Val loss: 0.5982208287014681\n",
      "[24 Val loss: 0.5970499796025893\n",
      "[25 Val loss: 0.5951130004490123\n",
      "[26 Val loss: 0.5962943224345937\n",
      "[27 Val loss: 0.5913142456727869\n",
      "[28 Val loss: 0.5877835312310387\n",
      "New best model saved with accuracy: 76.89%\n",
      "[29 Val loss: 0.5868014062152189\n",
      "New best model saved with accuracy: 77.17%\n",
      "[30 Val loss: 0.5861229212845073\n",
      "New best model saved with accuracy: 77.50%\n",
      "[31 Val loss: 0.583326073253856\n",
      "[32 Val loss: 0.5786504850668066\n",
      "[33 Val loss: 0.5853271203882554\n",
      "New best model saved with accuracy: 77.69%\n",
      "[34 Val loss: 0.5802772921674392\n",
      "[35 Val loss: 0.5811249754008125\n",
      "[36 Val loss: 0.5721199214458466\n",
      "New best model saved with accuracy: 77.88%\n",
      "[37 Val loss: 0.5741206477670109\n",
      "New best model saved with accuracy: 78.02%\n",
      "[38 Val loss: 0.5766943342545453\n",
      "[39 Val loss: 0.5722194857457105\n",
      "[40 Val loss: 0.5761005019440371\n",
      "[41 Val loss: 0.5727408475735608\n",
      "[42 Val loss: 0.5673917865051943\n",
      "[43 Val loss: 0.5738821765955757\n",
      "[44 Val loss: 0.5662444321548238\n",
      "[45 Val loss: 0.5650285219444948\n",
      "[46 Val loss: 0.5619117179337669\n",
      "[47 Val loss: 0.5606426631703096\n",
      "New best model saved with accuracy: 78.36%\n",
      "[48 Val loss: 0.5611557381994584\n",
      "[49 Val loss: 0.5624402112820569\n",
      "New best model saved with accuracy: 78.73%\n",
      "[50 Val loss: 0.5600323642001432\n",
      "[51 Val loss: 0.5635100217426524\n",
      "[52 Val loss: 0.5532806953963112\n",
      "[53 Val loss: 0.5494973589392269\n",
      "[54 Val loss: 0.5583841274766361\n",
      "[55 Val loss: 0.5508332392748665\n",
      "[56 Val loss: 0.5511275003938114\n",
      "[57 Val loss: 0.5582102169008816\n",
      "[58 Val loss: 0.5572012014248792\n",
      "[59 Val loss: 0.5545539189787472\n",
      "[60 Val loss: 0.5495479878257302\n",
      "New best model saved with accuracy: 78.88%\n",
      "[61 Val loss: 0.553976669031031\n",
      "[62 Val loss: 0.5454127735951367\n",
      "[63 Val loss: 0.5520722410258125\n",
      "New best model saved with accuracy: 78.92%\n",
      "[64 Val loss: 0.5504731115172891\n",
      "[65 Val loss: 0.5493170145679923\n",
      "[66 Val loss: 0.5493714862010058\n",
      "[67 Val loss: 0.5500127480310553\n",
      "[68 Val loss: 0.5467677186517155\n",
      "[69 Val loss: 0.5460314049440271\n",
      "[70 Val loss: 0.5501341995070962\n",
      "New best model saved with accuracy: 79.30%\n",
      "[71 Val loss: 0.5402733753709232\n",
      "[72 Val loss: 0.5437816223677467\n",
      "[73 Val loss: 0.5459524656043333\n",
      "[74 Val loss: 0.547686937977286\n",
      "New best model saved with accuracy: 79.35%\n",
      "[75 Val loss: 0.5387840919634875\n",
      "[76 Val loss: 0.5354439090279972\n",
      "[77 Val loss: 0.5386868575040031\n",
      "[78 Val loss: 0.5410199936698464\n",
      "[79 Val loss: 0.5411692927865421\n",
      "[80 Val loss: 0.5414440176066231\n",
      "[81 Val loss: 0.5413084030151367\n",
      "[82 Val loss: 0.5357323499286876\n",
      "[83 Val loss: 0.5414139365448671\n",
      "[84 Val loss: 0.5368582448538612\n",
      "[85 Val loss: 0.536384873530444\n",
      "[86 Val loss: 0.5315338425776538\n",
      "New best model saved with accuracy: 79.40%\n",
      "[87 Val loss: 0.5391335382181055\n",
      "[88 Val loss: 0.5388170708628262\n",
      "[89 Val loss: 0.5388318843701306\n",
      "New best model saved with accuracy: 79.54%\n",
      "[90 Val loss: 0.5318330947090598\n",
      "[91 Val loss: 0.5336588200400857\n",
      "[92 Val loss: 0.5434711277484894\n",
      "[93 Val loss: 0.5345531789695516\n",
      "[94 Val loss: 0.5376871158094967\n",
      "[95 Val loss: 0.5321229082696578\n",
      "[96 Val loss: 0.540893999969258\n",
      "New best model saved with accuracy: 79.58%\n",
      "[97 Val loss: 0.5316359365687651\n",
      "[98 Val loss: 0.5264881375957938\n",
      "[99 Val loss: 0.528266438666512\n",
      "[100 Val loss: 0.5282972910824943\n",
      "[101 Val loss: 0.5342626378816717\n",
      "[102 Val loss: 0.5304637095507454\n",
      "[103 Val loss: 0.5285569078782025\n",
      "[104 Val loss: 0.5238945431569043\n",
      "[105 Val loss: 0.527065131594153\n",
      "New best model saved with accuracy: 79.73%\n",
      "[106 Val loss: 0.5262902975082397\n",
      "[107 Val loss: 0.526489306898678\n",
      "New best model saved with accuracy: 79.96%\n",
      "[108 Val loss: 0.5325535132604486\n",
      "[109 Val loss: 0.5291681237080518\n",
      "[110 Val loss: 0.5278490588945501\n",
      "[111 Val loss: 0.5282012189135832\n",
      "[112 Val loss: 0.5241846196791705\n",
      "[113 Val loss: 0.5262137020335478\n",
      "[114 Val loss: 0.5271646520670723\n",
      "New best model saved with accuracy: 80.06%\n",
      "[115 Val loss: 0.5300819137517143\n",
      "[116 Val loss: 0.5279113106867847\n",
      "[117 Val loss: 0.5212540083071765\n",
      "[118 Val loss: 0.5231495061341453\n",
      "[119 Val loss: 0.5244256696280312\n",
      "[120 Val loss: 0.5250077685889076\n",
      "[121 Val loss: 0.5275500539471122\n",
      "[122 Val loss: 0.520409824217067\n",
      "[123 Val loss: 0.5252536500201506\n",
      "[124 Val loss: 0.5238210138152627\n",
      "[125 Val loss: 0.522257387638092\n",
      "[126 Val loss: 0.5271597031284782\n",
      "[127 Val loss: 0.5204047630814945\n",
      "[128 Val loss: 0.5224436276099261\n",
      "[129 Val loss: 0.5281423365368563\n",
      "[130 Val loss: 0.520944299066768\n",
      "[131 Val loss: 0.5278819273499882\n",
      "[132 Val loss: 0.5203376903253443\n",
      "[133 Val loss: 0.5243008557487937\n",
      "New best model saved with accuracy: 80.34%\n",
      "[134 Val loss: 0.5238839563201455\n",
      "[135 Val loss: 0.5239604501163259\n",
      "[136 Val loss: 0.5240480812156901\n",
      "[137 Val loss: 0.5186889119008008\n",
      "[138 Val loss: 0.5268454569227555\n",
      "[139 Val loss: 0.5226452648639679\n",
      "[140 Val loss: 0.5153013555442586\n",
      "[141 Val loss: 0.5227218393017264\n",
      "[142 Val loss: 0.5221878360299503\n",
      "[143 Val loss: 0.5206173816147972\n",
      "[144 Val loss: 0.5187180375351625\n",
      "[145 Val loss: 0.5197600476882037\n",
      "[146 Val loss: 0.5242281994398903\n",
      "[147 Val loss: 0.5265283374225392\n",
      "[148 Val loss: 0.5225248652345994\n",
      "[149 Val loss: 0.5221960001132068\n"
     ]
    },
    {
     "data": {
      "text/plain": [
       "VBox(children=(Label(value='0.242 MB of 0.243 MB uploaded\\r'), FloatProgress(value=0.9975499049802893, max=1.0…"
      ],
      "application/vnd.jupyter.widget-view+json": {
       "version_major": 2,
       "version_minor": 0,
       "model_id": "40267a04c99e4b50a092f394835dc336"
      }
     },
     "metadata": {},
     "output_type": "display_data"
    },
    {
     "data": {
      "text/plain": [
       "<IPython.core.display.HTML object>"
      ],
      "text/html": [
       "<style>\n",
       "    table.wandb td:nth-child(1) { padding: 0 10px; text-align: left ; width: auto;} td:nth-child(2) {text-align: left ; width: 100%}\n",
       "    .wandb-row { display: flex; flex-direction: row; flex-wrap: wrap; justify-content: flex-start; width: 100% }\n",
       "    .wandb-col { display: flex; flex-direction: column; flex-basis: 100%; flex: 1; padding: 10px; }\n",
       "    </style>\n",
       "<div class=\"wandb-row\"><div class=\"wandb-col\"><h3>Run history:</h3><br/><table class=\"wandb\"><tr><td>accuracy</td><td>▁▂▄▅▅▅▆▆▆▆▇▆▇▇▇▇▇▇▇▇▇▇▇▇▇▇▇▇███▇███████▇</td></tr><tr><td>learning_rate</td><td>▁▁▁▁▁▁▁▁▁▁▁▁▁▁▁▁▁▁▁▁▁▁▁▁▁▁▁▁▁▁▁▁▁▁▁▁▁▁▁▁</td></tr><tr><td>precision</td><td>▁▂▄▅▅▅▆▆▆▆▇▆▇▇▇▇▇▇▇▇▇▇▇▇▇▇▇▇███▇███████▇</td></tr><tr><td>recall</td><td>▁▂▄▅▅▅▆▆▆▆▇▆▇▇▇▇▇▇▇▇▇▇▇▇▇▇▇▇███▇███████▇</td></tr><tr><td>train_loss</td><td>█▇▅▄▄▄▃▃▃▃▃▃▂▂▂▂▂▂▂▂▂▂▂▂▂▂▁▁▁▁▁▁▁▁▁▁▁▁▁▁</td></tr><tr><td>val_loss</td><td>█▆▅▄▄▃▃▃▃▃▂▂▂▂▂▂▂▂▂▂▂▂▂▂▁▁▁▁▁▁▁▁▁▁▁▁▁▁▁▁</td></tr></table><br/></div><div class=\"wandb-col\"><h3>Run summary:</h3><br/><table class=\"wandb\"><tr><td>accuracy</td><td>0.79206</td></tr><tr><td>learning_rate</td><td>0.0001</td></tr><tr><td>precision</td><td>0.79206</td></tr><tr><td>recall</td><td>0.79206</td></tr><tr><td>train_loss</td><td>0.54546</td></tr><tr><td>val_loss</td><td>0.5222</td></tr></table><br/></div></div>"
      ]
     },
     "metadata": {},
     "output_type": "display_data"
    },
    {
     "data": {
      "text/plain": [
       "<IPython.core.display.HTML object>"
      ],
      "text/html": [
       " View run <strong style=\"color:#cdcd00\">grateful-waterfall-174</strong> at: <a href='https://wandb.ai/university-of-costa-rica/covid19-ChestXRay/runs/mxv3f8ew' target=\"_blank\">https://wandb.ai/university-of-costa-rica/covid19-ChestXRay/runs/mxv3f8ew</a><br/> View project at: <a href='https://wandb.ai/university-of-costa-rica/covid19-ChestXRay' target=\"_blank\">https://wandb.ai/university-of-costa-rica/covid19-ChestXRay</a><br/>Synced 5 W&B file(s), 150 media file(s), 150 artifact file(s) and 0 other file(s)"
      ]
     },
     "metadata": {},
     "output_type": "display_data"
    },
    {
     "data": {
      "text/plain": [
       "<IPython.core.display.HTML object>"
      ],
      "text/html": [
       "Find logs at: <code>./wandb/run-20240528_003326-mxv3f8ew/logs</code>"
      ]
     },
     "metadata": {},
     "output_type": "display_data"
    }
   ],
   "execution_count": 65
  },
  {
   "metadata": {
    "ExecuteTime": {
     "end_time": "2024-05-28T06:37:50.860453Z",
     "start_time": "2024-05-28T06:37:40.521964Z"
    }
   },
   "cell_type": "code",
   "source": "run.test()",
   "id": "f533f3877018cb77",
   "outputs": [
    {
     "data": {
      "text/plain": [
       "VBox(children=(Label(value='Waiting for wandb.init()...\\r'), FloatProgress(value=0.011167414812371134, max=1.0…"
      ],
      "application/vnd.jupyter.widget-view+json": {
       "version_major": 2,
       "version_minor": 0,
       "model_id": "e192385e02b540dc878c69c5483e4ae9"
      }
     },
     "metadata": {},
     "output_type": "display_data"
    },
    {
     "data": {
      "text/plain": [
       "<IPython.core.display.HTML object>"
      ],
      "text/html": [
       "Tracking run with wandb version 0.17.0"
      ]
     },
     "metadata": {},
     "output_type": "display_data"
    },
    {
     "data": {
      "text/plain": [
       "<IPython.core.display.HTML object>"
      ],
      "text/html": [
       "Run data is saved locally in <code>/Users/ariel.arevalo/Workspace/ci0148/proyecto_2/wandb/run-20240528_003740-816i91bm</code>"
      ]
     },
     "metadata": {},
     "output_type": "display_data"
    },
    {
     "data": {
      "text/plain": [
       "<IPython.core.display.HTML object>"
      ],
      "text/html": [
       "Syncing run <strong><a href='https://wandb.ai/university-of-costa-rica/covid19-ChestXRay/runs/816i91bm' target=\"_blank\">fresh-flower-175</a></strong> to <a href='https://wandb.ai/university-of-costa-rica/covid19-ChestXRay' target=\"_blank\">Weights & Biases</a> (<a href='https://wandb.me/run' target=\"_blank\">docs</a>)<br/>"
      ]
     },
     "metadata": {},
     "output_type": "display_data"
    },
    {
     "data": {
      "text/plain": [
       "<IPython.core.display.HTML object>"
      ],
      "text/html": [
       " View project at <a href='https://wandb.ai/university-of-costa-rica/covid19-ChestXRay' target=\"_blank\">https://wandb.ai/university-of-costa-rica/covid19-ChestXRay</a>"
      ]
     },
     "metadata": {},
     "output_type": "display_data"
    },
    {
     "data": {
      "text/plain": [
       "<IPython.core.display.HTML object>"
      ],
      "text/html": [
       " View run at <a href='https://wandb.ai/university-of-costa-rica/covid19-ChestXRay/runs/816i91bm' target=\"_blank\">https://wandb.ai/university-of-costa-rica/covid19-ChestXRay/runs/816i91bm</a>"
      ]
     },
     "metadata": {},
     "output_type": "display_data"
    },
    {
     "data": {
      "text/plain": [
       "VBox(children=(Label(value='0.112 MB of 0.113 MB uploaded\\r'), FloatProgress(value=0.9947107857656666, max=1.0…"
      ],
      "application/vnd.jupyter.widget-view+json": {
       "version_major": 2,
       "version_minor": 0,
       "model_id": "6c7930cff54c4ca8a22bf34f3325899d"
      }
     },
     "metadata": {},
     "output_type": "display_data"
    },
    {
     "data": {
      "text/plain": [
       "<IPython.core.display.HTML object>"
      ],
      "text/html": [
       " View run <strong style=\"color:#cdcd00\">fresh-flower-175</strong> at: <a href='https://wandb.ai/university-of-costa-rica/covid19-ChestXRay/runs/816i91bm' target=\"_blank\">https://wandb.ai/university-of-costa-rica/covid19-ChestXRay/runs/816i91bm</a><br/> View project at: <a href='https://wandb.ai/university-of-costa-rica/covid19-ChestXRay' target=\"_blank\">https://wandb.ai/university-of-costa-rica/covid19-ChestXRay</a><br/>Synced 4 W&B file(s), 2 media file(s), 2 artifact file(s) and 0 other file(s)"
      ]
     },
     "metadata": {},
     "output_type": "display_data"
    },
    {
     "data": {
      "text/plain": [
       "<IPython.core.display.HTML object>"
      ],
      "text/html": [
       "Find logs at: <code>./wandb/run-20240528_003740-816i91bm/logs</code>"
      ]
     },
     "metadata": {},
     "output_type": "display_data"
    }
   ],
   "execution_count": 66
  }
 ],
 "metadata": {
  "kernelspec": {
   "display_name": "Python 3",
   "language": "python",
   "name": "python3"
  },
  "language_info": {
   "codemirror_mode": {
    "name": "ipython",
    "version": 2
   },
   "file_extension": ".py",
   "mimetype": "text/x-python",
   "name": "python",
   "nbconvert_exporter": "python",
   "pygments_lexer": "ipython2",
   "version": "2.7.6"
  }
 },
 "nbformat": 4,
 "nbformat_minor": 5
}
