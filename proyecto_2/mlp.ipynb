{
 "cells": [
  {
   "cell_type": "code",
   "id": "initial_id",
   "metadata": {
    "collapsed": true
   },
   "source": [
    "%reload_ext autoreload\n",
    "%autoreload 2\n",
    "\n",
    "from mlp import MlpRun"
   ],
   "outputs": [],
   "execution_count": null
  },
  {
   "metadata": {},
   "cell_type": "code",
   "source": [
    "LBP_PATH = \"./data/lbp\"\n",
    "CLASS_NAMES = [\"COVID\", \"Lung_Opacity\", \"Normal\", \"Viral Pneumonia\"]"
   ],
   "id": "597662a3b06d47ae",
   "outputs": [],
   "execution_count": null
  },
  {
   "metadata": {},
   "cell_type": "code",
   "source": [
    "batch_size = 128\n",
    "learning_rate = 0.0005\n",
    "dropout_rate = 0.2\n",
    "hidden_sizes = [512, 256]\n",
    "epochs = 100\n",
    "output_size = 4  # Four classes"
   ],
   "id": "134be7985814d58a",
   "outputs": [],
   "execution_count": null
  },
  {
   "metadata": {},
   "cell_type": "code",
   "source": "run = MlpRun(LBP_PATH, CLASS_NAMES, batch_size, hidden_sizes, output_size, dropout_rate, learning_rate)",
   "id": "9a577df527731f48",
   "outputs": [],
   "execution_count": null
  },
  {
   "metadata": {},
   "cell_type": "code",
   "source": "run.train(epochs)",
   "id": "7fbb2c4d3ab4a02e",
   "outputs": [],
   "execution_count": null
  },
  {
   "metadata": {},
   "cell_type": "code",
   "source": "run.test()",
   "id": "f533f3877018cb77",
   "outputs": [],
   "execution_count": null
  }
 ],
 "metadata": {
  "kernelspec": {
   "display_name": "Python 3",
   "language": "python",
   "name": "python3"
  },
  "language_info": {
   "codemirror_mode": {
    "name": "ipython",
    "version": 2
   },
   "file_extension": ".py",
   "mimetype": "text/x-python",
   "name": "python",
   "nbconvert_exporter": "python",
   "pygments_lexer": "ipython2",
   "version": "2.7.6"
  }
 },
 "nbformat": 4,
 "nbformat_minor": 5
}
