{
 "cells": [
  {
   "cell_type": "code",
   "id": "initial_id",
   "metadata": {
    "collapsed": true,
    "ExecuteTime": {
     "end_time": "2024-05-27T05:09:01.641500Z",
     "start_time": "2024-05-27T05:09:01.533873Z"
    }
   },
   "source": [
    "%reload_ext autoreload\n",
    "%autoreload 2\n",
    "\n",
    "from mlp import MlpRun"
   ],
   "outputs": [],
   "execution_count": 35
  },
  {
   "metadata": {
    "ExecuteTime": {
     "end_time": "2024-05-27T05:09:01.717832Z",
     "start_time": "2024-05-27T05:09:01.642061Z"
    }
   },
   "cell_type": "code",
   "source": [
    "LBP_PATH = \"./data/lbp\"\n",
    "CLASS_NAMES = [\"COVID\", \"Lung_Opacity\", \"Normal\", \"Viral Pneumonia\"]"
   ],
   "id": "597662a3b06d47ae",
   "outputs": [],
   "execution_count": 36
  },
  {
   "metadata": {
    "ExecuteTime": {
     "end_time": "2024-05-27T05:09:01.805213Z",
     "start_time": "2024-05-27T05:09:01.718568Z"
    }
   },
   "cell_type": "code",
   "source": [
    "# Best Params: {'batch_size': 32, 'lr': 0.001, 'module__dropout_rate': 0.2, 'module__hidden_sizes': [256, 128]}\n",
    "# Best Params: {'batch_size': 128, 'lr': 0.001, 'module__dropout_rate': 0.2, 'module__hidden_sizes': [256, 128]}\n",
    "# Best Params: {'batch_size': 32, 'lr': 0.001, 'module__dropout_rate': 0.2, 'module__hidden_sizes': [128]}\n",
    "# Best Params: {'batch_size': 32, 'lr': 0.001, 'module__dropout_rate': 0.3, 'module__hidden_sizes': [256, 128, 64]}\n",
    "\n",
    "batch_size = 128\n",
    "learning_rate = 0.01\n",
    "dropout_rate = 0.2\n",
    "hidden_sizes = [256, 128]\n",
    "epochs = 100\n",
    "output_size = 4  # Four classes"
   ],
   "id": "134be7985814d58a",
   "outputs": [],
   "execution_count": 37
  },
  {
   "metadata": {
    "ExecuteTime": {
     "end_time": "2024-05-27T05:09:02.190331Z",
     "start_time": "2024-05-27T05:09:01.806173Z"
    }
   },
   "cell_type": "code",
   "source": "run = MlpRun(LBP_PATH, CLASS_NAMES, batch_size, hidden_sizes, output_size, dropout_rate, learning_rate)",
   "id": "9a577df527731f48",
   "outputs": [
    {
     "name": "stdout",
     "output_type": "stream",
     "text": [
      "Features dtype: torch.float32\n",
      "Features shape: torch.Size([21165, 256])\n",
      "Labels dtype: torch.int64\n",
      "Labels shape: torch.Size([21165])\n"
     ]
    }
   ],
   "execution_count": 38
  },
  {
   "metadata": {
    "ExecuteTime": {
     "end_time": "2024-05-27T05:11:45.263211Z",
     "start_time": "2024-05-27T05:09:02.191240Z"
    }
   },
   "cell_type": "code",
   "source": "run.train(epochs)",
   "id": "7fbb2c4d3ab4a02e",
   "outputs": [
    {
     "data": {
      "text/plain": [
       "<IPython.core.display.HTML object>"
      ],
      "text/html": [
       "Tracking run with wandb version 0.17.0"
      ]
     },
     "metadata": {},
     "output_type": "display_data"
    },
    {
     "data": {
      "text/plain": [
       "<IPython.core.display.HTML object>"
      ],
      "text/html": [
       "Run data is saved locally in <code>/Users/ariel.arevalo/Workspace/ci0148/proyecto_2/wandb/run-20240526_230902-81csquga</code>"
      ]
     },
     "metadata": {},
     "output_type": "display_data"
    },
    {
     "data": {
      "text/plain": [
       "<IPython.core.display.HTML object>"
      ],
      "text/html": [
       "Syncing run <strong><a href='https://wandb.ai/university-of-costa-rica/covid19-ChestXRay/runs/81csquga' target=\"_blank\">brisk-waterfall-74</a></strong> to <a href='https://wandb.ai/university-of-costa-rica/covid19-ChestXRay' target=\"_blank\">Weights & Biases</a> (<a href='https://wandb.me/run' target=\"_blank\">docs</a>)<br/>"
      ]
     },
     "metadata": {},
     "output_type": "display_data"
    },
    {
     "data": {
      "text/plain": [
       "<IPython.core.display.HTML object>"
      ],
      "text/html": [
       " View project at <a href='https://wandb.ai/university-of-costa-rica/covid19-ChestXRay' target=\"_blank\">https://wandb.ai/university-of-costa-rica/covid19-ChestXRay</a>"
      ]
     },
     "metadata": {},
     "output_type": "display_data"
    },
    {
     "data": {
      "text/plain": [
       "<IPython.core.display.HTML object>"
      ],
      "text/html": [
       " View run at <a href='https://wandb.ai/university-of-costa-rica/covid19-ChestXRay/runs/81csquga' target=\"_blank\">https://wandb.ai/university-of-costa-rica/covid19-ChestXRay/runs/81csquga</a>"
      ]
     },
     "metadata": {},
     "output_type": "display_data"
    },
    {
     "name": "stdout",
     "output_type": "stream",
     "text": [
      "[0 Training loss: 522.9739470481873\n",
      "[0 Val loss: 1.004434928075591\n",
      "[1 Training loss: 463.5345099568367\n",
      "[1 Val loss: 0.7535589461895957\n",
      "[2 Training loss: 437.9395218491554\n",
      "[2 Val loss: 0.7235929788048587\n",
      "[3 Training loss: 425.87103885412216\n",
      "[3 Val loss: 0.755731626677869\n",
      "[4 Training loss: 414.66462248563766\n",
      "[4 Val loss: 0.7493079576029706\n",
      "[5 Training loss: 408.82182213664055\n",
      "[5 Val loss: 0.6854945705897773\n",
      "[6 Training loss: 401.97105208039284\n",
      "[6 Val loss: 0.7040906214891974\n",
      "[7 Training loss: 400.9363763332367\n",
      "[7 Val loss: 0.7353770047871034\n",
      "[8 Training loss: 394.253152012825\n",
      "[8 Val loss: 0.9478326084008858\n",
      "[9 Training loss: 392.95456725358963\n",
      "[9 Val loss: 0.6904833814991054\n",
      "[10 Training loss: 388.6796897351742\n",
      "[10 Val loss: 0.7870190997621906\n",
      "[11 Training loss: 386.1788448393345\n",
      "[11 Val loss: 0.7098412171228609\n",
      "[12 Training loss: 385.2091920077801\n",
      "[12 Val loss: 0.773212894130109\n",
      "[13 Training loss: 383.70613411068916\n",
      "[13 Val loss: 0.6834936426646674\n",
      "[14 Training loss: 377.9678103327751\n",
      "[14 Val loss: 0.8727172061578551\n",
      "[15 Training loss: 379.0594379901886\n",
      "[15 Val loss: 0.6491004322002183\n",
      "[16 Training loss: 376.02689480781555\n",
      "[16 Val loss: 0.6671540901732089\n",
      "[17 Training loss: 374.4648095071316\n",
      "[17 Val loss: 0.7050836001759144\n",
      "[18 Training loss: 373.9245125055313\n",
      "[18 Val loss: 0.6982635771160695\n",
      "[19 Training loss: 371.89562863111496\n",
      "[19 Val loss: 0.7774355420425757\n",
      "[20 Training loss: 370.22475442290306\n",
      "[20 Val loss: 0.6510616349640177\n",
      "[21 Training loss: 371.39540261030197\n",
      "[21 Val loss: 0.8340128402211773\n",
      "[22 Training loss: 363.3374324440956\n",
      "[22 Val loss: 0.6837525398873571\n",
      "[23 Training loss: 368.2051176726818\n",
      "[23 Val loss: 0.6388077873792222\n",
      "[24 Training loss: 367.2963556051254\n",
      "[24 Val loss: 0.6481874149237106\n",
      "[25 Training loss: 367.20926982164383\n",
      "[25 Val loss: 0.6600098182905966\n",
      "[26 Training loss: 365.3609564602375\n",
      "[26 Val loss: 0.7105476673859269\n",
      "[27 Training loss: 362.2022812962532\n",
      "[27 Val loss: 1.2382445744614103\n",
      "[28 Training loss: 362.36681947112083\n",
      "[28 Val loss: 0.9454466771723619\n",
      "[29 Training loss: 365.1301241517067\n",
      "[29 Val loss: 0.6490832900823053\n",
      "[30 Training loss: 360.3122618794441\n",
      "[30 Val loss: 0.6873987601764167\n",
      "[31 Training loss: 359.04768854379654\n",
      "[31 Val loss: 0.6309291956140034\n",
      "[32 Training loss: 359.8037244081497\n",
      "[32 Val loss: 0.7150132166805552\n",
      "[33 Training loss: 357.7035985291004\n",
      "[33 Val loss: 0.6602581459194866\n",
      "[34 Training loss: 360.9638437926769\n",
      "[34 Val loss: 0.6567169120952264\n",
      "[35 Training loss: 352.6496928334236\n",
      "[35 Val loss: 1.1187762911639996\n",
      "[36 Training loss: 355.09358286857605\n",
      "[36 Val loss: 0.5948288360638405\n",
      "[37 Training loss: 358.31291621923447\n",
      "[37 Val loss: 0.6399378011475748\n",
      "[38 Training loss: 354.83858573436737\n",
      "[38 Val loss: 0.7320542780321035\n",
      "[39 Training loss: 357.0368741750717\n",
      "[39 Val loss: 0.6465137362924974\n",
      "[40 Training loss: 352.93207493424416\n",
      "[40 Val loss: 0.6736447553136455\n",
      "[41 Training loss: 351.1542644202709\n",
      "[41 Val loss: 0.6201000204726831\n",
      "[42 Training loss: 351.9622760117054\n",
      "[42 Val loss: 0.6352232596767482\n",
      "[43 Training loss: 356.0818067789078\n",
      "[43 Val loss: 0.7600400087548725\n",
      "[44 Training loss: 351.366634786129\n",
      "[44 Val loss: 0.6081013319207661\n",
      "[45 Training loss: 352.22461262345314\n",
      "[45 Val loss: 0.8292105353590268\n",
      "[46 Training loss: 349.0933541357517\n",
      "[46 Val loss: 0.6567747370520635\n",
      "[47 Training loss: 351.27153837680817\n",
      "[47 Val loss: 0.5991329368370683\n",
      "[48 Training loss: 348.87430799007416\n",
      "[48 Val loss: 0.6594422897740976\n",
      "[49 Training loss: 350.2866607606411\n",
      "[49 Val loss: 0.6489071178792128\n",
      "[50 Training loss: 347.84209501743317\n",
      "[50 Val loss: 0.8806980652595634\n",
      "[51 Training loss: 347.34110552072525\n",
      "[51 Val loss: 0.7598526615705063\n",
      "[52 Training loss: 346.79627123475075\n",
      "[52 Val loss: 0.687306588710244\n",
      "[53 Training loss: 348.40952157974243\n",
      "[53 Val loss: 0.6522533364260374\n",
      "[54 Training loss: 347.6541045308113\n",
      "[54 Val loss: 0.5956070231857584\n",
      "[55 Training loss: 347.72618052363396\n",
      "[55 Val loss: 0.6092995374060389\n",
      "[56 Training loss: 349.1165511608124\n",
      "[56 Val loss: 0.7503072187971713\n",
      "[57 Training loss: 346.47316378355026\n",
      "[57 Val loss: 0.6357310472139671\n",
      "[58 Training loss: 344.354488581419\n",
      "[58 Val loss: 0.5948584529001322\n",
      "[59 Training loss: 342.9914313852787\n",
      "[59 Val loss: 0.7068002557576593\n",
      "[60 Training loss: 343.6323603987694\n",
      "[60 Val loss: 0.6548082165753664\n",
      "[61 Training loss: 343.69465386867523\n",
      "[61 Val loss: 0.5947537444420715\n",
      "[62 Training loss: 345.3818863630295\n",
      "[62 Val loss: 0.60149450177577\n",
      "[63 Training loss: 343.0976208150387\n",
      "[63 Val loss: 0.6252271911101555\n",
      "[64 Training loss: 342.91442051529884\n",
      "[64 Val loss: 0.6129681152194294\n",
      "[65 Training loss: 342.6762824654579\n",
      "[65 Val loss: 0.6018018869321737\n",
      "[66 Training loss: 343.19392028450966\n",
      "[66 Val loss: 0.6798507998238749\n",
      "[67 Training loss: 341.499000787735\n",
      "[67 Val loss: 0.600795016359927\n",
      "[68 Training loss: 339.89269080758095\n",
      "[68 Val loss: 0.6182042569366853\n",
      "[69 Training loss: 337.5669813156128\n",
      "[69 Val loss: 0.5932354880357856\n",
      "[70 Training loss: 342.5535781085491\n",
      "[70 Val loss: 0.6192947959721978\n",
      "[71 Training loss: 341.7980579137802\n",
      "[71 Val loss: 0.7791055405317847\n",
      "[72 Training loss: 341.20252496004105\n",
      "[72 Val loss: 0.6853021974883863\n",
      "[73 Training loss: 338.6530129611492\n",
      "[73 Val loss: 0.7870838860077645\n",
      "[74 Training loss: 341.123231112957\n",
      "[74 Val loss: 0.62126881151057\n",
      "[75 Training loss: 340.86630898714066\n",
      "[75 Val loss: 0.5880349202832179\n",
      "[76 Training loss: 338.3756765425205\n",
      "[76 Val loss: 0.5837399114423724\n",
      "[77 Training loss: 335.7647095620632\n",
      "[77 Val loss: 0.6220128540672473\n",
      "[78 Training loss: 340.23463267087936\n",
      "[78 Val loss: 0.6100064502723181\n",
      "[79 Training loss: 340.1884990930557\n",
      "[79 Val loss: 0.6056409162371906\n",
      "[80 Training loss: 337.88878005743027\n",
      "[80 Val loss: 0.6174954798684191\n",
      "[81 Training loss: 338.82123374938965\n",
      "[81 Val loss: 0.7327156591771254\n",
      "[82 Training loss: 337.1981317996979\n",
      "[82 Val loss: 0.6072424000768519\n",
      "[83 Training loss: 341.25684463977814\n",
      "[83 Val loss: 0.6199893044002021\n",
      "[84 Training loss: 335.2064274549484\n",
      "[84 Val loss: 0.584127846048839\n",
      "[85 Training loss: 337.04032549262047\n",
      "[85 Val loss: 0.660528840413734\n",
      "[86 Training loss: 336.345405369997\n",
      "[86 Val loss: 0.5887240020196829\n",
      "[87 Training loss: 334.6935311257839\n",
      "[87 Val loss: 0.6127335482568883\n",
      "[88 Training loss: 338.02000641822815\n",
      "[88 Val loss: 0.5982418651901075\n",
      "[89 Training loss: 334.0332564711571\n",
      "[89 Val loss: 0.6200592491164136\n",
      "[90 Training loss: 336.9876136481762\n",
      "[90 Val loss: 0.6123955115231116\n",
      "[91 Training loss: 333.9377987384796\n",
      "[91 Val loss: 0.6096555030167993\n",
      "[92 Training loss: 335.440965205431\n",
      "[92 Val loss: 0.6243714730241405\n",
      "[93 Training loss: 331.801609903574\n",
      "[93 Val loss: 0.6024756298136356\n",
      "[94 Training loss: 337.6872923076153\n",
      "[94 Val loss: 1.0187105118338742\n",
      "[95 Training loss: 334.4578305184841\n",
      "[95 Val loss: 0.6497728415389559\n",
      "[96 Training loss: 335.1881762742996\n",
      "[96 Val loss: 0.5778385262880752\n",
      "[97 Training loss: 334.2051889002323\n",
      "[97 Val loss: 0.5897732323675013\n",
      "[98 Training loss: 336.3804939985275\n",
      "[98 Val loss: 0.8192855373247346\n",
      "[99 Training loss: 333.1211847066879\n",
      "[99 Val loss: 0.6116037835825735\n"
     ]
    },
    {
     "data": {
      "text/plain": [
       "VBox(children=(Label(value='0.162 MB of 0.162 MB uploaded\\r'), FloatProgress(value=0.9963391702902809, max=1.0…"
      ],
      "application/vnd.jupyter.widget-view+json": {
       "version_major": 2,
       "version_minor": 0,
       "model_id": "8f172d121bd1437b8ee1be12aa4b721d"
      }
     },
     "metadata": {},
     "output_type": "display_data"
    },
    {
     "data": {
      "text/plain": [
       "<IPython.core.display.HTML object>"
      ],
      "text/html": [
       "<style>\n",
       "    table.wandb td:nth-child(1) { padding: 0 10px; text-align: left ; width: auto;} td:nth-child(2) {text-align: left ; width: 100%}\n",
       "    .wandb-row { display: flex; flex-direction: row; flex-wrap: wrap; justify-content: flex-start; width: 100% }\n",
       "    .wandb-col { display: flex; flex-direction: column; flex-basis: 100%; flex: 1; padding: 10px; }\n",
       "    </style>\n",
       "<div class=\"wandb-row\"><div class=\"wandb-col\"><h3>Run history:</h3><br/><table class=\"wandb\"><tr><td>accuracy</td><td>▃▆▇▆▆▆▇▆▇▇▇▂▆▇▁▆▇▇▆▇▄▇██▇▇▇▇▅▆██▅▇██▇███</td></tr><tr><td>precision</td><td>▃▆▇▆▆▆▇▆▇▇▇▂▆▇▁▆▇▇▆▇▄▇██▇▇▇▇▅▆██▅▇██▇███</td></tr><tr><td>recall</td><td>▃▆▇▆▆▆▇▆▇▇▇▂▆▇▁▆▇▇▆▇▄▇██▇▇▇▇▅▆██▅▇██▇███</td></tr><tr><td>val_loss</td><td>▆▃▂▃▃▃▂▂▂▂▂█▂▂▇▃▂▃▄▂▄▂▁▁▂▂▂▁▃▃▁▁▃▁▁▁▁▁▁▁</td></tr></table><br/></div><div class=\"wandb-col\"><h3>Run summary:</h3><br/><table class=\"wandb\"><tr><td>accuracy</td><td>0.74905</td></tr><tr><td>precision</td><td>0.74905</td></tr><tr><td>recall</td><td>0.74905</td></tr><tr><td>val_loss</td><td>0.6116</td></tr></table><br/></div></div>"
      ]
     },
     "metadata": {},
     "output_type": "display_data"
    },
    {
     "data": {
      "text/plain": [
       "<IPython.core.display.HTML object>"
      ],
      "text/html": [
       " View run <strong style=\"color:#cdcd00\">brisk-waterfall-74</strong> at: <a href='https://wandb.ai/university-of-costa-rica/covid19-ChestXRay/runs/81csquga' target=\"_blank\">https://wandb.ai/university-of-costa-rica/covid19-ChestXRay/runs/81csquga</a><br/> View project at: <a href='https://wandb.ai/university-of-costa-rica/covid19-ChestXRay' target=\"_blank\">https://wandb.ai/university-of-costa-rica/covid19-ChestXRay</a><br/>Synced 5 W&B file(s), 100 media file(s), 100 artifact file(s) and 0 other file(s)"
      ]
     },
     "metadata": {},
     "output_type": "display_data"
    },
    {
     "data": {
      "text/plain": [
       "<IPython.core.display.HTML object>"
      ],
      "text/html": [
       "Find logs at: <code>./wandb/run-20240526_230902-81csquga/logs</code>"
      ]
     },
     "metadata": {},
     "output_type": "display_data"
    }
   ],
   "execution_count": 39
  },
  {
   "metadata": {
    "ExecuteTime": {
     "end_time": "2024-05-27T05:11:55.185440Z",
     "start_time": "2024-05-27T05:11:45.265182Z"
    }
   },
   "cell_type": "code",
   "source": "run.test()",
   "id": "f533f3877018cb77",
   "outputs": [
    {
     "data": {
      "text/plain": [
       "VBox(children=(Label(value='Waiting for wandb.init()...\\r'), FloatProgress(value=0.011133137497947448, max=1.0…"
      ],
      "application/vnd.jupyter.widget-view+json": {
       "version_major": 2,
       "version_minor": 0,
       "model_id": "384d69add823481dbc35b16d57b4ea95"
      }
     },
     "metadata": {},
     "output_type": "display_data"
    },
    {
     "data": {
      "text/plain": [
       "<IPython.core.display.HTML object>"
      ],
      "text/html": [
       "Tracking run with wandb version 0.17.0"
      ]
     },
     "metadata": {},
     "output_type": "display_data"
    },
    {
     "data": {
      "text/plain": [
       "<IPython.core.display.HTML object>"
      ],
      "text/html": [
       "Run data is saved locally in <code>/Users/ariel.arevalo/Workspace/ci0148/proyecto_2/wandb/run-20240526_231145-n6f21wdp</code>"
      ]
     },
     "metadata": {},
     "output_type": "display_data"
    },
    {
     "data": {
      "text/plain": [
       "<IPython.core.display.HTML object>"
      ],
      "text/html": [
       "Syncing run <strong><a href='https://wandb.ai/university-of-costa-rica/covid19-ChestXRay/runs/n6f21wdp' target=\"_blank\">youthful-snow-75</a></strong> to <a href='https://wandb.ai/university-of-costa-rica/covid19-ChestXRay' target=\"_blank\">Weights & Biases</a> (<a href='https://wandb.me/run' target=\"_blank\">docs</a>)<br/>"
      ]
     },
     "metadata": {},
     "output_type": "display_data"
    },
    {
     "data": {
      "text/plain": [
       "<IPython.core.display.HTML object>"
      ],
      "text/html": [
       " View project at <a href='https://wandb.ai/university-of-costa-rica/covid19-ChestXRay' target=\"_blank\">https://wandb.ai/university-of-costa-rica/covid19-ChestXRay</a>"
      ]
     },
     "metadata": {},
     "output_type": "display_data"
    },
    {
     "data": {
      "text/plain": [
       "<IPython.core.display.HTML object>"
      ],
      "text/html": [
       " View run at <a href='https://wandb.ai/university-of-costa-rica/covid19-ChestXRay/runs/n6f21wdp' target=\"_blank\">https://wandb.ai/university-of-costa-rica/covid19-ChestXRay/runs/n6f21wdp</a>"
      ]
     },
     "metadata": {},
     "output_type": "display_data"
    },
    {
     "data": {
      "text/plain": [
       "VBox(children=(Label(value='0.118 MB of 0.118 MB uploaded\\r'), FloatProgress(value=0.9949797008805702, max=1.0…"
      ],
      "application/vnd.jupyter.widget-view+json": {
       "version_major": 2,
       "version_minor": 0,
       "model_id": "b35a6259acfe45fe9dc4443c3ac23906"
      }
     },
     "metadata": {},
     "output_type": "display_data"
    },
    {
     "data": {
      "text/plain": [
       "<IPython.core.display.HTML object>"
      ],
      "text/html": [
       " View run <strong style=\"color:#cdcd00\">youthful-snow-75</strong> at: <a href='https://wandb.ai/university-of-costa-rica/covid19-ChestXRay/runs/n6f21wdp' target=\"_blank\">https://wandb.ai/university-of-costa-rica/covid19-ChestXRay/runs/n6f21wdp</a><br/> View project at: <a href='https://wandb.ai/university-of-costa-rica/covid19-ChestXRay' target=\"_blank\">https://wandb.ai/university-of-costa-rica/covid19-ChestXRay</a><br/>Synced 4 W&B file(s), 2 media file(s), 2 artifact file(s) and 0 other file(s)"
      ]
     },
     "metadata": {},
     "output_type": "display_data"
    },
    {
     "data": {
      "text/plain": [
       "<IPython.core.display.HTML object>"
      ],
      "text/html": [
       "Find logs at: <code>./wandb/run-20240526_231145-n6f21wdp/logs</code>"
      ]
     },
     "metadata": {},
     "output_type": "display_data"
    }
   ],
   "execution_count": 40
  },
  {
   "metadata": {
    "ExecuteTime": {
     "end_time": "2024-05-27T05:11:55.188443Z",
     "start_time": "2024-05-27T05:11:55.186231Z"
    }
   },
   "cell_type": "code",
   "source": "",
   "id": "7feba78915c851ab",
   "outputs": [],
   "execution_count": 40
  }
 ],
 "metadata": {
  "kernelspec": {
   "display_name": "Python 3",
   "language": "python",
   "name": "python3"
  },
  "language_info": {
   "codemirror_mode": {
    "name": "ipython",
    "version": 2
   },
   "file_extension": ".py",
   "mimetype": "text/x-python",
   "name": "python",
   "nbconvert_exporter": "python",
   "pygments_lexer": "ipython2",
   "version": "2.7.6"
  }
 },
 "nbformat": 4,
 "nbformat_minor": 5
}
