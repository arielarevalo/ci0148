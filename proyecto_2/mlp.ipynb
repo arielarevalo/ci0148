{
 "cells": [
  {
   "cell_type": "code",
   "id": "initial_id",
   "metadata": {
    "collapsed": true
   },
   "source": [
    "import numpy as np\n",
    "import torch"
   ],
   "outputs": [],
   "execution_count": null
  },
  {
   "metadata": {},
   "cell_type": "code",
   "source": [
    "from torch.utils.data import DataLoader, TensorDataset\n",
    "from mlp import MLP"
   ],
   "id": "b4ac72338a574c22",
   "outputs": [],
   "execution_count": null
  },
  {
   "metadata": {},
   "cell_type": "code",
   "source": [
    "features = np.load('./data/lbp/features.npy') # [num, 256]\n",
    "labels = np.load('./data/lbp/labels.npy') # [num, 4]"
   ],
   "id": "5283db19590b3899",
   "outputs": [],
   "execution_count": null
  },
  {
   "metadata": {},
   "cell_type": "code",
   "source": [
    "# Move the model to GPU if available\n",
    "# device = torch.device('mps' if torch.backends.mps.is_available() else 'cuda' if torch.cuda.is_available() else 'cpu')\n",
    "# device = 'cpu'\n",
    "device = 'mps'\n",
    "print(\"Device is set to:\", device)\n",
    "\n",
    "features = torch.tensor(features, dtype=torch.float, device=device)\n",
    "labels = torch.tensor(labels, dtype=torch.float, device=device)\n",
    "\n",
    "# Print the data types\n",
    "print(f'Features dtype: {features.dtype}')\n",
    "print(f'Features shape: {features.shape}')\n",
    "print(f'Labels dtype: {labels.dtype}')\n",
    "print(f'Labels shape: {labels.shape}')\n",
    "\n",
    "# Create a TensorDataset\n",
    "dataset = TensorDataset(features, labels)\n",
    "\n",
    "# Create a DataLoader\n",
    "dataloader = DataLoader(dataset, batch_size=128, shuffle=True) # Stratify?"
   ],
   "id": "7146bbfc71b91650",
   "outputs": [],
   "execution_count": null
  },
  {
   "metadata": {},
   "cell_type": "code",
   "source": [
    "# Example parameters\n",
    "input_dim = features.shape[1]  # This should be equal to num_bins (self.dec_values)\n",
    "hidden_dims = [256, 128]\n",
    "output_dim = 4  # Four classes\n",
    "dropout_rate = 0.3\n",
    "\n",
    "model = MLP(input_dim, hidden_dims, output_dim, dropout_rate)\n",
    "\n",
    "model.to(device)"
   ],
   "id": "134be7985814d58a",
   "outputs": [],
   "execution_count": null
  },
  {
   "metadata": {},
   "cell_type": "code",
   "source": [
    "import torch.nn as nn\n",
    "import torch.optim as optim"
   ],
   "id": "db702ac926a309dd",
   "outputs": [],
   "execution_count": null
  },
  {
   "metadata": {},
   "cell_type": "code",
   "source": [
    "# Define loss function and optimizer\n",
    "criterion = nn.CrossEntropyLoss()\n",
    "optimizer = optim.Adam(model.parameters(), lr=0.001)\n",
    "\n",
    "# Training loop\n",
    "num_epochs = 1000\n",
    "\n",
    "avg_loss = 0.0\n",
    "\n",
    "for epoch in range(num_epochs):\n",
    "    model.train()\n",
    "    running_loss = 0.0\n",
    "    for features, labels in dataloader:\n",
    "        optimizer.zero_grad()\n",
    "        outputs = model(features)\n",
    "        loss = criterion(outputs, labels)\n",
    "        loss.backward()\n",
    "        optimizer.step()\n",
    "        running_loss += loss.item()\n",
    "    \n",
    "    avg_loss = running_loss / len(dataloader)\n",
    "    print(f'Epoch [{epoch+1}/{num_epochs}], Loss: {avg_loss:.4f}')\n",
    "    \n",
    "torch.save(model, f\"./models/mlp_model_{avg_loss:.4f}.pth\")"
   ],
   "id": "e16b85660fbdbe98",
   "outputs": [],
   "execution_count": null
  }
 ],
 "metadata": {
  "kernelspec": {
   "display_name": "Python 3",
   "language": "python",
   "name": "python3"
  },
  "language_info": {
   "codemirror_mode": {
    "name": "ipython",
    "version": 2
   },
   "file_extension": ".py",
   "mimetype": "text/x-python",
   "name": "python",
   "nbconvert_exporter": "python",
   "pygments_lexer": "ipython2",
   "version": "2.7.6"
  }
 },
 "nbformat": 4,
 "nbformat_minor": 5
}
