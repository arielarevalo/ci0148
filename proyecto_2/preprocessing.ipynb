{
 "cells": [
  {
   "cell_type": "markdown",
   "id": "c0a2a0948cae25b9",
   "metadata": {},
   "source": [
    "# COVID-19 Chest X-Ray Database - Preprocessing"
   ]
  },
  {
   "cell_type": "code",
   "id": "7d2c5179b9eb5e22",
   "metadata": {},
   "source": "from preprocessing import *",
   "outputs": [],
   "execution_count": null
  },
  {
   "cell_type": "code",
   "id": "35096f7e3f62ff70",
   "metadata": {},
   "source": [
    "IMAGES_DIR = \"./images\"\n",
    "IMAGE_SIZE = 256\n",
    "\n",
    "LABEL_MAP_FILE = \"./data/label_map.json\"\n",
    "\n",
    "RAW_FEATURES_DIR = \"./data/raw/\"\n",
    "LBP_FEATURES_DIR = \"./data/lbp/\"\n",
    "BF_FEATURES_DIR = \"./data/bf/\""
   ],
   "outputs": [],
   "execution_count": null
  },
  {
   "cell_type": "code",
   "id": "415c7d4bb8096b76",
   "metadata": {},
   "source": "unpack_images(IMAGES_DIR)",
   "outputs": [],
   "execution_count": null
  },
  {
   "cell_type": "code",
   "id": "868aa4f28522946a",
   "metadata": {},
   "source": "build_label_map(IMAGES_DIR, LABEL_MAP_FILE)",
   "outputs": [],
   "execution_count": null
  },
  {
   "cell_type": "code",
   "id": "ca23932e474147d3",
   "metadata": {},
   "source": "build_training_data(IMAGES_DIR, RAW_FEATURES_DIR, LABEL_MAP_FILE, IMAGE_SIZE)",
   "outputs": [],
   "execution_count": null
  },
  {
   "metadata": {},
   "cell_type": "code",
   "source": "build_lbp(RAW_FEATURES_DIR, LBP_FEATURES_DIR)",
   "id": "b963b4854913e770",
   "outputs": [],
   "execution_count": null
  },
  {
   "cell_type": "code",
   "id": "66539441",
   "metadata": {},
   "source": "build_bf(RAW_FEATURES_DIR, BF_FEATURES_DIR)",
   "outputs": [],
   "execution_count": null
  }
 ],
 "metadata": {
  "kernelspec": {
   "display_name": "Python 3",
   "language": "python",
   "name": "python3"
  },
  "language_info": {
   "codemirror_mode": {
    "name": "ipython",
    "version": 3
   },
   "file_extension": ".py",
   "mimetype": "text/x-python",
   "name": "python",
   "nbconvert_exporter": "python",
   "pygments_lexer": "ipython3",
   "version": "3.8.10"
  }
 },
 "nbformat": 4,
 "nbformat_minor": 5
}
