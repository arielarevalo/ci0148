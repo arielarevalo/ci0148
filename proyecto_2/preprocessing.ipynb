{
 "cells": [
  {
   "cell_type": "markdown",
   "id": "c0a2a0948cae25b9",
   "metadata": {},
   "source": [
    "# COVID-19 Chest X-Ray Database - Preprocessing"
   ]
  },
  {
   "cell_type": "code",
   "id": "7d2c5179b9eb5e22",
   "metadata": {
    "ExecuteTime": {
     "end_time": "2024-05-24T22:22:15.635691Z",
     "start_time": "2024-05-24T22:22:11.313894Z"
    }
   },
   "source": "from preprocessing import *",
   "outputs": [],
   "execution_count": 1
  },
  {
   "cell_type": "code",
   "id": "35096f7e3f62ff70",
   "metadata": {
    "ExecuteTime": {
     "end_time": "2024-05-24T22:22:15.640564Z",
     "start_time": "2024-05-24T22:22:15.638263Z"
    }
   },
   "source": [
    "IMAGES_DIR = \"./images\"\n",
    "IMAGE_SIZE = 299\n",
    "\n",
    "LABEL_MAP_FILE = \"./data/label_map.json\"\n",
    "\n",
    "RAW_FEATURES_DIR = \"./data/raw/\"\n",
    "LBP_FEATURES_DIR = \"./data/lbp/\"\n",
    "BF_FEATURES_DIR = \"./data/bf/\""
   ],
   "outputs": [],
   "execution_count": 2
  },
  {
   "cell_type": "code",
   "id": "415c7d4bb8096b76",
   "metadata": {
    "ExecuteTime": {
     "end_time": "2024-05-24T22:22:15.643367Z",
     "start_time": "2024-05-24T22:22:15.641349Z"
    }
   },
   "source": "unpack_images(IMAGES_DIR)",
   "outputs": [],
   "execution_count": 3
  },
  {
   "cell_type": "code",
   "id": "868aa4f28522946a",
   "metadata": {
    "ExecuteTime": {
     "end_time": "2024-05-24T22:22:15.646158Z",
     "start_time": "2024-05-24T22:22:15.644050Z"
    }
   },
   "source": "build_label_map(IMAGES_DIR, LABEL_MAP_FILE)",
   "outputs": [],
   "execution_count": 4
  },
  {
   "cell_type": "code",
   "id": "ca23932e474147d3",
   "metadata": {
    "ExecuteTime": {
     "end_time": "2024-05-24T22:23:36.977293Z",
     "start_time": "2024-05-24T22:22:15.647494Z"
    }
   },
   "source": "build_training_data(IMAGES_DIR, RAW_FEATURES_DIR, LABEL_MAP_FILE, IMAGE_SIZE)",
   "outputs": [
    {
     "name": "stderr",
     "output_type": "stream",
     "text": [
      "Loading from images/COVID: 100%|██████████| 3616/3616 [00:09<00:00, 378.69it/s]\n",
      "Loading from images/Lung_Opacity: 100%|██████████| 6012/6012 [00:18<00:00, 317.25it/s]\n",
      "Loading from images/Normal: 100%|██████████| 10193/10193 [00:46<00:00, 218.87it/s]\n",
      "Loading from images/Viral Pneumonia: 100%|██████████| 1345/1345 [00:05<00:00, 262.92it/s]\n"
     ]
    }
   ],
   "execution_count": 5
  },
  {
   "metadata": {
    "ExecuteTime": {
     "end_time": "2024-05-24T22:25:26.435172Z",
     "start_time": "2024-05-24T22:23:36.978190Z"
    }
   },
   "cell_type": "code",
   "source": "build_lbp(RAW_FEATURES_DIR, LBP_FEATURES_DIR)",
   "id": "b963b4854913e770",
   "outputs": [
    {
     "name": "stderr",
     "output_type": "stream",
     "text": [
      "Applying LbpDescriptor to raw data: 100%|██████████| 21165/21165 [01:49<00:00, 193.89it/s]"
     ]
    },
    {
     "name": "stdout",
     "output_type": "stream",
     "text": [
      "Saved results with type float64 and shape (21165, 10)\n"
     ]
    },
    {
     "name": "stderr",
     "output_type": "stream",
     "text": [
      "\n"
     ]
    }
   ],
   "execution_count": 6
  },
  {
   "cell_type": "code",
   "id": "66539441",
   "metadata": {
    "ExecuteTime": {
     "end_time": "2024-05-24T22:25:32.152483Z",
     "start_time": "2024-05-24T22:25:26.435929Z"
    }
   },
   "source": "build_bf(RAW_FEATURES_DIR, BF_FEATURES_DIR)",
   "outputs": [
    {
     "name": "stderr",
     "output_type": "stream",
     "text": [
      "Applying BfDescriptor to raw data: 100%|██████████| 21165/21165 [00:04<00:00, 5223.76it/s]\n"
     ]
    },
    {
     "name": "stdout",
     "output_type": "stream",
     "text": [
      "Saved results with type uint8 and shape (21165, 299, 299)\n"
     ]
    }
   ],
   "execution_count": 7
  }
 ],
 "metadata": {
  "kernelspec": {
   "display_name": "Python 3",
   "language": "python",
   "name": "python3"
  },
  "language_info": {
   "codemirror_mode": {
    "name": "ipython",
    "version": 3
   },
   "file_extension": ".py",
   "mimetype": "text/x-python",
   "name": "python",
   "nbconvert_exporter": "python",
   "pygments_lexer": "ipython3",
   "version": "3.8.10"
  }
 },
 "nbformat": 4,
 "nbformat_minor": 5
}
