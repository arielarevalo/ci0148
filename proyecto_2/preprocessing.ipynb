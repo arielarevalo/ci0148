{
 "cells": [
  {
   "cell_type": "markdown",
   "id": "c0a2a0948cae25b9",
   "metadata": {},
   "source": [
    "# COVID-19 Chest X-Ray Database - Preprocessing"
   ]
  },
  {
   "cell_type": "code",
   "id": "7d2c5179b9eb5e22",
   "metadata": {
    "ExecuteTime": {
     "end_time": "2024-05-23T23:16:06.870694Z",
     "start_time": "2024-05-23T23:16:06.854680Z"
    }
   },
   "source": "from preprocessing import *",
   "outputs": [],
   "execution_count": 8
  },
  {
   "cell_type": "code",
   "id": "35096f7e3f62ff70",
   "metadata": {
    "ExecuteTime": {
     "end_time": "2024-05-23T23:16:06.877305Z",
     "start_time": "2024-05-23T23:16:06.873673Z"
    }
   },
   "source": [
    "IMAGES_DIR = \"./images\"\n",
    "IMAGE_SIZE = 299\n",
    "\n",
    "LABEL_MAP_FILE = \"./data/label_map.json\"\n",
    "\n",
    "RAW_FEATURES_DIR = \"./data/raw/\"\n",
    "LBP_FEATURES_DIR = \"./data/lbp/\"\n",
    "BF_FEATURES_DIR = \"./data/bf/\""
   ],
   "outputs": [],
   "execution_count": 9
  },
  {
   "cell_type": "code",
   "id": "415c7d4bb8096b76",
   "metadata": {
    "ExecuteTime": {
     "end_time": "2024-05-23T23:16:06.882977Z",
     "start_time": "2024-05-23T23:16:06.878793Z"
    }
   },
   "source": "unpack_images(IMAGES_DIR)",
   "outputs": [],
   "execution_count": 10
  },
  {
   "cell_type": "code",
   "id": "868aa4f28522946a",
   "metadata": {
    "ExecuteTime": {
     "end_time": "2024-05-23T23:16:06.890954Z",
     "start_time": "2024-05-23T23:16:06.883615Z"
    }
   },
   "source": "build_label_map(IMAGES_DIR, LABEL_MAP_FILE)",
   "outputs": [],
   "execution_count": 11
  },
  {
   "cell_type": "code",
   "id": "ca23932e474147d3",
   "metadata": {
    "ExecuteTime": {
     "end_time": "2024-05-23T23:21:06.039147Z",
     "start_time": "2024-05-23T23:16:06.892823Z"
    }
   },
   "source": "build_training_data(IMAGES_DIR, RAW_FEATURES_DIR, LABEL_MAP_FILE, IMAGE_SIZE)",
   "outputs": [],
   "execution_count": 12
  },
  {
   "metadata": {
    "ExecuteTime": {
     "end_time": "2024-05-23T23:23:13.827595Z",
     "start_time": "2024-05-23T23:21:06.045303Z"
    }
   },
   "cell_type": "code",
   "source": "build_lbp(RAW_FEATURES_DIR, LBP_FEATURES_DIR)",
   "id": "b963b4854913e770",
   "outputs": [],
   "execution_count": 13
  },
  {
   "cell_type": "code",
   "id": "66539441",
   "metadata": {
    "ExecuteTime": {
     "end_time": "2024-05-23T23:28:21.359999Z",
     "start_time": "2024-05-23T23:23:13.829619Z"
    }
   },
   "source": "build_bf(RAW_FEATURES_DIR, BF_FEATURES_DIR)",
   "outputs": [],
   "execution_count": 14
  }
 ],
 "metadata": {
  "kernelspec": {
   "display_name": "Python 3",
   "language": "python",
   "name": "python3"
  },
  "language_info": {
   "codemirror_mode": {
    "name": "ipython",
    "version": 3
   },
   "file_extension": ".py",
   "mimetype": "text/x-python",
   "name": "python",
   "nbconvert_exporter": "python",
   "pygments_lexer": "ipython3",
   "version": "3.8.10"
  }
 },
 "nbformat": 4,
 "nbformat_minor": 5
}
