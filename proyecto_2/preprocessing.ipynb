{
 "cells": [
  {
   "metadata": {},
   "cell_type": "markdown",
   "source": "# COVID-19 Chest X-Ray Database - Preprocessing",
   "id": "c0a2a0948cae25b9"
  },
  {
   "metadata": {
    "ExecuteTime": {
     "end_time": "2024-05-21T03:49:56.831580Z",
     "start_time": "2024-05-21T03:49:53.386328Z"
    }
   },
   "cell_type": "code",
   "source": [
    "from preprocessing import unpack_images, build_label_map, build_training_data\n",
    "\n",
    "from feature_extraction import lbp"
   ],
   "id": "7d2c5179b9eb5e22",
   "outputs": [],
   "execution_count": 1
  },
  {
   "metadata": {
    "ExecuteTime": {
     "end_time": "2024-05-21T03:49:56.836482Z",
     "start_time": "2024-05-21T03:49:56.833723Z"
    }
   },
   "cell_type": "code",
   "source": [
    "IMAGES_DIR = './images'\n",
    "IMAGE_SIZE = 256\n",
    "\n",
    "LABEL_MAP_FILE = \"./data/label_map.json\"\n",
    "\n",
    "RAW_FEATURES_DIR = \"./data/raw/\"\n",
    "LBP_FEATURES_DIR = \"./data/lbp/\""
   ],
   "id": "35096f7e3f62ff70",
   "outputs": [],
   "execution_count": 2
  },
  {
   "metadata": {
    "ExecuteTime": {
     "end_time": "2024-05-21T03:50:04.758880Z",
     "start_time": "2024-05-21T03:49:56.838142Z"
    }
   },
   "cell_type": "code",
   "source": "unpack_images(IMAGES_DIR)",
   "id": "415c7d4bb8096b76",
   "outputs": [],
   "execution_count": 3
  },
  {
   "metadata": {
    "ExecuteTime": {
     "end_time": "2024-05-21T03:54:50.715714Z",
     "start_time": "2024-05-21T03:54:50.710763Z"
    }
   },
   "cell_type": "code",
   "source": "build_label_map(IMAGES_DIR, LABEL_MAP_FILE)",
   "id": "868aa4f28522946a",
   "outputs": [],
   "execution_count": 9
  },
  {
   "metadata": {
    "ExecuteTime": {
     "end_time": "2024-05-21T03:51:38.597492Z",
     "start_time": "2024-05-21T03:50:04.763719Z"
    }
   },
   "cell_type": "code",
   "source": "build_training_data(IMAGES_DIR, LABEL_MAP_FILE, RAW_FEATURES_DIR, IMAGE_SIZE)",
   "id": "ca23932e474147d3",
   "outputs": [],
   "execution_count": 5
  },
  {
   "metadata": {
    "ExecuteTime": {
     "end_time": "2024-05-21T03:51:38.710695Z",
     "start_time": "2024-05-21T03:51:38.672048Z"
    }
   },
   "cell_type": "code",
   "source": "# lbp(RAW_FEATURES_DIR, LBP_FEATURES_DIR)",
   "id": "2cfe1687fa906e3c",
   "outputs": [],
   "execution_count": 6
  }
 ],
 "metadata": {
  "kernelspec": {
   "display_name": "Python 3",
   "language": "python",
   "name": "python3"
  },
  "language_info": {
   "codemirror_mode": {
    "name": "ipython",
    "version": 2
   },
   "file_extension": ".py",
   "mimetype": "text/x-python",
   "name": "python",
   "nbconvert_exporter": "python",
   "pygments_lexer": "ipython2",
   "version": "2.7.6"
  }
 },
 "nbformat": 4,
 "nbformat_minor": 5
}
