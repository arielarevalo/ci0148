{
 "cells": [
  {
   "cell_type": "markdown",
   "id": "c0a2a0948cae25b9",
   "metadata": {},
   "source": [
    "# COVID-19 Chest X-Ray Database - Preprocessing"
   ]
  },
  {
   "cell_type": "code",
   "execution_count": 1,
   "id": "7d2c5179b9eb5e22",
   "metadata": {},
   "outputs": [],
   "source": [
    "from preprocessing import unpack_images, build_label_map, build_training_data\n",
    "\n",
    "from feature_extraction import lbp, bf"
   ]
  },
  {
   "cell_type": "code",
   "execution_count": 2,
   "id": "35096f7e3f62ff70",
   "metadata": {},
   "outputs": [],
   "source": [
    "IMAGES_DIR = '../images'\n",
    "IMAGE_SIZE = 256\n",
    "\n",
    "LABEL_MAP_FILE = \"../data/label_map.json\"\n",
    "\n",
    "RAW_FEATURES_DIR = \"../data/raw/\"\n",
    "LBP_FEATURES_DIR = \"../data/lbp/\"\n",
    "BF_FEATURES_DIR = \"../data/bf/\""
   ]
  },
  {
   "cell_type": "code",
   "execution_count": 3,
   "id": "415c7d4bb8096b76",
   "metadata": {},
   "outputs": [],
   "source": [
    "# unpack_images(IMAGES_DIR)"
   ]
  },
  {
   "cell_type": "code",
   "execution_count": 4,
   "id": "868aa4f28522946a",
   "metadata": {},
   "outputs": [],
   "source": [
    "# build_label_map(IMAGES_DIR, LABEL_MAP_FILE)"
   ]
  },
  {
   "cell_type": "code",
   "execution_count": 5,
   "id": "ca23932e474147d3",
   "metadata": {},
   "outputs": [],
   "source": [
    "# build_training_data(IMAGES_DIR, LABEL_MAP_FILE, RAW_FEATURES_DIR, IMAGE_SIZE)"
   ]
  },
  {
   "cell_type": "code",
   "execution_count": 6,
   "id": "2cfe1687fa906e3c",
   "metadata": {},
   "outputs": [],
   "source": [
    "# lbp(RAW_FEATURES_DIR, LBP_FEATURES_DIR)"
   ]
  },
  {
   "cell_type": "code",
   "execution_count": 7,
   "id": "66539441",
   "metadata": {},
   "outputs": [
    {
     "name": "stderr",
     "output_type": "stream",
     "text": [
      "Processing ../data/raw/COVID/images: 100%|██████████| 1/1 [00:00<00:00, 209.06it/s]\n"
     ]
    },
    {
     "name": "stdout",
     "output_type": "stream",
     "text": [
      "../data/bf/COVID/images/COVID-1.png ->  True <class 'numpy.ndarray'>\n"
     ]
    },
    {
     "name": "stderr",
     "output_type": "stream",
     "text": [
      "Processing ../data/raw/Lung_Opacity/images: 100%|██████████| 1/1 [00:00<00:00, 219.51it/s]\n"
     ]
    },
    {
     "name": "stdout",
     "output_type": "stream",
     "text": [
      "../data/bf/Lung_Opacity/images/Lung_Opacity-1.png ->  True <class 'numpy.ndarray'>\n"
     ]
    },
    {
     "name": "stderr",
     "output_type": "stream",
     "text": [
      "Processing ../data/raw/Viral Pneumonia/images: 100%|██████████| 1/1 [00:00<00:00, 344.61it/s]\n"
     ]
    },
    {
     "name": "stdout",
     "output_type": "stream",
     "text": [
      "../data/bf/Viral Pneumonia/images/Viral Pneumonia-1.png ->  True <class 'numpy.ndarray'>\n"
     ]
    },
    {
     "name": "stderr",
     "output_type": "stream",
     "text": [
      "Processing ../data/raw/Normal/images: 100%|██████████| 1/1 [00:00<00:00, 312.33it/s]"
     ]
    },
    {
     "name": "stdout",
     "output_type": "stream",
     "text": [
      "../data/bf/Normal/images/Normal-1.png ->  True <class 'numpy.ndarray'>\n"
     ]
    },
    {
     "name": "stderr",
     "output_type": "stream",
     "text": [
      "\n"
     ]
    }
   ],
   "source": [
    "bf(RAW_FEATURES_DIR, BF_FEATURES_DIR, d=3, sigmaColor=50, sigmaSpace=50)"
   ]
  }
 ],
 "metadata": {
  "kernelspec": {
   "display_name": "Python 3",
   "language": "python",
   "name": "python3"
  },
  "language_info": {
   "codemirror_mode": {
    "name": "ipython",
    "version": 3
   },
   "file_extension": ".py",
   "mimetype": "text/x-python",
   "name": "python",
   "nbconvert_exporter": "python",
   "pygments_lexer": "ipython3",
   "version": "3.8.10"
  }
 },
 "nbformat": 4,
 "nbformat_minor": 5
}
