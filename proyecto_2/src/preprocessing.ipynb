{
 "cells": [
  {
   "cell_type": "markdown",
   "id": "c0a2a0948cae25b9",
   "metadata": {},
   "source": [
    "# COVID-19 Chest X-Ray Database - Preprocessing"
   ]
  },
  {
   "cell_type": "code",
   "execution_count": 1,
   "id": "7d2c5179b9eb5e22",
   "metadata": {},
   "outputs": [],
   "source": [
    "from preprocessing import unpack_images, build_label_map, build_training_data\n",
    "\n",
    "from feature_extraction import lbp, bf"
   ]
  },
  {
   "cell_type": "code",
   "execution_count": 2,
   "id": "35096f7e3f62ff70",
   "metadata": {},
   "outputs": [],
   "source": [
    "IMAGES_DIR = '../images'\n",
    "IMAGE_SIZE = 256\n",
    "\n",
    "LABEL_MAP_FILE = \"../data/label_map.json\"\n",
    "\n",
    "RAW_FEATURES_DIR = \"../data/raw/\"\n",
    "LBP_FEATURES_DIR = \"../data/lbp/\"\n",
    "BF_FEATURES_DIR = \"../data/bf/\""
   ]
  },
  {
   "cell_type": "code",
   "execution_count": 3,
   "id": "415c7d4bb8096b76",
   "metadata": {},
   "outputs": [],
   "source": [
    "# unpack_images(IMAGES_DIR)"
   ]
  },
  {
   "cell_type": "code",
   "execution_count": 4,
   "id": "868aa4f28522946a",
   "metadata": {},
   "outputs": [],
   "source": [
    "# build_label_map(IMAGES_DIR, LABEL_MAP_FILE)"
   ]
  },
  {
   "cell_type": "code",
   "execution_count": 5,
   "id": "ca23932e474147d3",
   "metadata": {},
   "outputs": [],
   "source": [
    "# build_training_data(IMAGES_DIR, LABEL_MAP_FILE, RAW_FEATURES_DIR, IMAGE_SIZE)"
   ]
  },
  {
   "cell_type": "code",
   "execution_count": 6,
   "id": "2cfe1687fa906e3c",
   "metadata": {},
   "outputs": [
    {
     "name": "stderr",
     "output_type": "stream",
     "text": [
      "Processing ../data/raw/COVID/images: 100%|██████████| 1/1 [00:00<00:00, 83.30it/s]\n"
     ]
    },
    {
     "name": "stdout",
     "output_type": "stream",
     "text": [
      "../data/lbp/COVID/images\n"
     ]
    },
    {
     "name": "stderr",
     "output_type": "stream",
     "text": [
      "Processing ../data/raw/Lung_Opacity/images: 100%|██████████| 1/1 [00:00<00:00, 83.58it/s]\n"
     ]
    },
    {
     "name": "stdout",
     "output_type": "stream",
     "text": [
      "../data/lbp/Lung_Opacity/images\n"
     ]
    },
    {
     "name": "stderr",
     "output_type": "stream",
     "text": [
      "Processing ../data/raw/Viral Pneumonia/images: 100%|██████████| 1/1 [00:00<00:00, 86.70it/s]\n"
     ]
    },
    {
     "name": "stdout",
     "output_type": "stream",
     "text": [
      "../data/lbp/Viral Pneumonia/images\n"
     ]
    },
    {
     "name": "stderr",
     "output_type": "stream",
     "text": [
      "Processing ../data/raw/Normal/images: 100%|██████████| 1/1 [00:00<00:00, 89.51it/s]"
     ]
    },
    {
     "name": "stdout",
     "output_type": "stream",
     "text": [
      "../data/lbp/Normal/images\n"
     ]
    },
    {
     "name": "stderr",
     "output_type": "stream",
     "text": [
      "\n"
     ]
    }
   ],
   "source": [
    "lbp(RAW_FEATURES_DIR, LBP_FEATURES_DIR)"
   ]
  },
  {
   "cell_type": "code",
   "execution_count": 7,
   "id": "66539441",
   "metadata": {},
   "outputs": [
    {
     "name": "stderr",
     "output_type": "stream",
     "text": [
      "Processing ../data/raw/COVID/images: 100%|██████████| 1/1 [00:00<00:00, 280.82it/s]\n",
      "Processing ../data/raw/Lung_Opacity/images: 100%|██████████| 1/1 [00:00<00:00, 284.11it/s]\n",
      "Processing ../data/raw/Viral Pneumonia/images: 100%|██████████| 1/1 [00:00<00:00, 237.52it/s]\n",
      "Processing ../data/raw/Normal/images: 100%|██████████| 1/1 [00:00<00:00, 365.45it/s]\n"
     ]
    }
   ],
   "source": [
    "bf(RAW_FEATURES_DIR, BF_FEATURES_DIR, d=3, sigmaColor=50, sigmaSpace=50)"
   ]
  }
 ],
 "metadata": {
  "kernelspec": {
   "display_name": "Python 3",
   "language": "python",
   "name": "python3"
  },
  "language_info": {
   "codemirror_mode": {
    "name": "ipython",
    "version": 3
   },
   "file_extension": ".py",
   "mimetype": "text/x-python",
   "name": "python",
   "nbconvert_exporter": "python",
   "pygments_lexer": "ipython3",
   "version": "3.8.10"
  }
 },
 "nbformat": 4,
 "nbformat_minor": 5
}
