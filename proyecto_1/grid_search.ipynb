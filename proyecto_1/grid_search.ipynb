{
 "cells": [
  {
   "cell_type": "markdown",
   "source": [
    "# Grid Search"
   ],
   "metadata": {
    "collapsed": false
   },
   "id": "4df0086f581d92b6"
  },
  {
   "cell_type": "code",
   "execution_count": null,
   "id": "initial_id",
   "metadata": {
    "collapsed": true
   },
   "outputs": [],
   "source": [
    "import pandas as pd\n",
    "\n",
    "from sklearn.linear_model import LogisticRegression\n",
    "from sklearn.tree import DecisionTreeClassifier\n",
    "from sklearn.neighbors import KNeighborsClassifier\n",
    "from sklearn.neural_network import MLPClassifier\n",
    "from sklearn.preprocessing import StandardScaler\n",
    "from sklearn.model_selection import train_test_split\n",
    "\n",
    "from ml import *"
   ]
  },
  {
   "cell_type": "code",
   "outputs": [],
   "source": [
    "log_reg_param_grid = [\n",
    "    {'solver': ['liblinear', 'saga'], 'penalty': ['l1', 'l2'], 'C': np.logspace(-4, 4, 10),\n",
    "     'max_iter': [100, 200, 300]},\n",
    "    {'solver': ['newton-cg', 'lbfgs', 'sag'], 'penalty': ['l2'], 'C': np.logspace(-4, 4, 10),\n",
    "     'max_iter': [100, 200, 300]},\n",
    "    {'solver': ['saga'], 'penalty': ['elasticnet'], 'C': np.logspace(-4, 4, 10), 'max_iter': [100, 200, 300],\n",
    "     'l1_ratio': np.linspace(0, 1, 10)},\n",
    "    {'solver': ['newton-cg', 'lbfgs', 'liblinear', 'sag', 'saga'], 'penalty': ['none'], 'max_iter': [100, 200, 300]}\n",
    "    ]\n",
    "\n",
    "dec_tree_param_grid = [\n",
    "        {'criterion': ['entropy'], 'max_depth': [None, 10, 20, 30]}\n",
    "    ]\n",
    "\n",
    "knn_param_grid = [\n",
    "        {'n_neighbors': [3, 5, 7, 10]}\n",
    "    ]\n",
    "\n",
    "nn_param_grid = [\n",
    "        {'solver': ['sgd', 'adam'], 'activation': ['tanh', 'relu'],\n",
    "         'hidden_layer_sizes': [(50,), (100,), (50, 50)], 'learning_rate_init': [0.001, 0.01, 0.1],\n",
    "         'max_iter': [200, 300, 400]},\n",
    "        {'solver': ['lbfgs'], 'activation': ['tanh', 'relu'],\n",
    "         'hidden_layer_sizes': [(50,), (100,), (50, 50)], 'max_iter': [200, 300, 400]}\n",
    "    ]"
   ],
   "metadata": {
    "collapsed": false
   },
   "id": "7abc3d5a8ec06508",
   "execution_count": null
  },
  {
   "cell_type": "code",
   "outputs": [],
   "source": [
    "X_train = None\n",
    "X_test = None\n",
    "y_train = None\n",
    "y_test = None"
   ],
   "metadata": {
    "collapsed": false
   },
   "id": "7e99dc5ed77ad3c6",
   "execution_count": null
  },
  {
   "cell_type": "code",
   "outputs": [],
   "source": [
    "def print_params(params):\n",
    "    for param, value in params.items():\n",
    "        print(f\"  - {param}: {value}\")"
   ],
   "metadata": {
    "collapsed": false
   },
   "id": "ea840b3c2d64ee21",
   "execution_count": null
  },
  {
   "cell_type": "markdown",
   "source": [
    "## Wine Quality Dataset"
   ],
   "metadata": {
    "collapsed": false
   },
   "id": "bb341c6aefd4e5ab"
  },
  {
   "cell_type": "code",
   "outputs": [],
   "source": [
    "# Preprocess dataset\n",
    "wineDF = pd.read_csv(\"./data/winequality-red.csv\")\n",
    "\n",
    "wineDF['label'] = wineDF['quality'].apply(lambda x: 'good' if x > 6 else 'bad')\n",
    "wineDF.drop('quality', axis=1)\n",
    "\n",
    "wine_y = wineDF['label'].values\n",
    "wine_X = wineDF.drop('label', axis=1).values"
   ],
   "metadata": {
    "collapsed": false
   },
   "id": "77740983ccbcad24",
   "execution_count": null
  },
  {
   "cell_type": "code",
   "outputs": [],
   "source": [
    "# Standardize dataset\n",
    "scaler = StandardScaler()\n",
    "wine_X = scaler.fit_transform(wine_X)"
   ],
   "metadata": {
    "collapsed": false
   },
   "id": "259166790b93b2a7",
   "execution_count": null
  },
  {
   "cell_type": "code",
   "outputs": [],
   "source": [
    "(X_train, X_test, y_train, y_test) = train_test_split(wine_X, wine_y, test_size=0.2, stratify=wine_y)\n",
    "\n",
    "print(\"Logistic Regression:\")\n",
    "print_params(hyperparam_sweep(X_train, y_train, LogisticRegression, log_reg_param_grid))\n",
    "print(\"\\nDecision Tree:\")\n",
    "print_params(hyperparam_sweep(X_train, y_train, DecisionTreeClassifier, dec_tree_param_grid))\n",
    "print(\"\\nK-Nearest Neighbors:\")\n",
    "print_params(hyperparam_sweep(X_train, y_train, KNeighborsClassifier, knn_param_grid))\n",
    "print(\"\\nNeural Network:\")\n",
    "print_params(hyperparam_sweep(X_train, y_train, MLPClassifier, nn_param_grid))\n"
   ],
   "metadata": {
    "collapsed": false
   },
   "id": "6385b048da665e0c",
   "execution_count": null
  },
  {
   "cell_type": "markdown",
   "source": [
    "## Heart Disease Dataset"
   ],
   "metadata": {
    "collapsed": false
   },
   "id": "f704497d3d8a8ef3"
  },
  {
   "cell_type": "code",
   "outputs": [],
   "source": [
    "# Preprocess dataset\n",
    "heartDF = pd.read_csv(\"./data/heart_statlog_cleveland_hungary_final.csv\")\n",
    "\n",
    "heartDF['target'] = heartDF['target'].apply(lambda x: 'heart disease' if x else 'normal')\n",
    "heart_y = heartDF['target'].values\n",
    "heart_X = heartDF.drop('target', axis=1).values"
   ],
   "metadata": {
    "collapsed": false
   },
   "id": "9abc5a7f8324af4f",
   "execution_count": null
  },
  {
   "cell_type": "code",
   "outputs": [],
   "source": [
    "# Standardize dataset\n",
    "scaler = StandardScaler()\n",
    "heart_X = scaler.fit_transform(heart_X)"
   ],
   "metadata": {
    "collapsed": false
   },
   "id": "154be8c46a1fb737",
   "execution_count": null
  },
  {
   "cell_type": "code",
   "outputs": [],
   "source": [
    "(X_train, X_test, y_train, y_test) = train_test_split(heart_X, heart_y, test_size=0.2, stratify=heart_y)\n",
    "\n",
    "print(\"Logistic Regression:\")\n",
    "print_params(hyperparam_sweep(X_train, y_train, LogisticRegression, log_reg_param_grid))\n",
    "print(\"\\nDecision Tree:\")\n",
    "print_params(hyperparam_sweep(X_train, y_train, DecisionTreeClassifier, dec_tree_param_grid))\n",
    "print(\"\\nK-Nearest Neighbors:\")\n",
    "print_params(hyperparam_sweep(X_train, y_train, KNeighborsClassifier, knn_param_grid))\n",
    "print(\"\\nNeural Network:\")\n",
    "print_params(hyperparam_sweep(X_train, y_train, MLPClassifier, nn_param_grid))"
   ],
   "metadata": {
    "collapsed": false
   },
   "id": "9b79cd2c225bf4b6",
   "execution_count": null
  }
 ],
 "metadata": {
  "kernelspec": {
   "display_name": "Python 3",
   "language": "python",
   "name": "python3"
  },
  "language_info": {
   "codemirror_mode": {
    "name": "ipython",
    "version": 2
   },
   "file_extension": ".py",
   "mimetype": "text/x-python",
   "name": "python",
   "nbconvert_exporter": "python",
   "pygments_lexer": "ipython2",
   "version": "2.7.6"
  }
 },
 "nbformat": 4,
 "nbformat_minor": 5
}
