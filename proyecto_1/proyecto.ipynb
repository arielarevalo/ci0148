{
 "cells": [
  {
   "cell_type": "markdown",
   "source": [
    "# Proyecto 1"
   ],
   "metadata": {
    "collapsed": false
   },
   "id": "2b8a2b8ca619cdb3"
  },
  {
   "cell_type": "code",
   "outputs": [],
   "source": [
    "import pandas as pd\n",
    "\n",
    "from sklearn.linear_model import LogisticRegression\n",
    "from sklearn.tree import DecisionTreeClassifier\n",
    "from sklearn.neighbors import KNeighborsClassifier\n",
    "from sklearn.neural_network import MLPClassifier\n",
    "from sklearn.preprocessing import StandardScaler\n",
    "from sklearn.model_selection import train_test_split\n",
    "\n",
    "from ml import *"
   ],
   "metadata": {
    "collapsed": false
   },
   "id": "7bd0694dd1a4e829",
   "execution_count": null
  },
  {
   "cell_type": "code",
   "outputs": [],
   "source": [
    "log_reg_param_grid = [\n",
    "    {'solver': ['liblinear', 'saga'], 'penalty': ['l1', 'l2'], 'C': np.logspace(-4, 4, 10),\n",
    "     'max_iter': [100, 200, 300]},\n",
    "    {'solver': ['newton-cg', 'lbfgs', 'sag'], 'penalty': ['l2'], 'C': np.logspace(-4, 4, 10),\n",
    "     'max_iter': [100, 200, 300]},\n",
    "    {'solver': ['saga'], 'penalty': ['elasticnet'], 'C': np.logspace(-4, 4, 10), 'max_iter': [100, 200, 300],\n",
    "     'l1_ratio': np.linspace(0, 1, 10)},\n",
    "    {'solver': ['newton-cg', 'lbfgs', 'liblinear', 'sag', 'saga'], 'penalty': ['none'], 'max_iter': [100, 200, 300]}\n",
    "    ]\n",
    "\n",
    "dec_tree_param_grid = [\n",
    "        {'criterion': ['entropy'], 'max_depth': [None, 10, 20, 30]}\n",
    "    ]\n",
    "\n",
    "knn_param_grid = [\n",
    "        {'n_neighbors': [3, 5, 7, 10]}\n",
    "    ]\n",
    "\n",
    "nn_param_grid = [\n",
    "        {'solver': ['sgd', 'adam'], 'activation': ['tanh', 'relu'],\n",
    "         'hidden_layer_sizes': [(50,), (100,), (50, 50)], 'learning_rate_init': [0.001, 0.01, 0.1],\n",
    "         'max_iter': [200, 300, 400]},\n",
    "        {'solver': ['lbfgs'], 'activation': ['tanh', 'relu'],\n",
    "         'hidden_layer_sizes': [(50,), (100,), (50, 50)], 'max_iter': [200, 300, 400]}\n",
    "    ]\n",
    "\n",
    "X_train = None\n",
    "X_test = None\n",
    "y_train = None\n",
    "y_test = None"
   ],
   "metadata": {
    "collapsed": false
   },
   "id": "6948eb8c587dd78a",
   "execution_count": null
  },
  {
   "cell_type": "code",
   "outputs": [],
   "source": [
    "def run_model(classifier, param_grid):\n",
    "    model = build_model(X_train, y_train, classifier, param_grid)\n",
    "    \n",
    "    print_params(model, param_grid)\n",
    "    \n",
    "    return fit_and_predict(model, X_train, X_test, y_train, y_test)"
   ],
   "metadata": {
    "collapsed": false
   },
   "id": "f52631519cd84600",
   "execution_count": null
  },
  {
   "cell_type": "markdown",
   "source": [
    "## Wine Quality Dataset"
   ],
   "metadata": {
    "collapsed": false
   },
   "id": "b85b446303e9610a"
  },
  {
   "cell_type": "code",
   "outputs": [],
   "source": [
    "# Preprocess dataset\n",
    "wineDF = pd.read_csv(\"./data/winequality-red.csv\")\n",
    "\n",
    "wineDF['label'] = wineDF['quality'].apply(lambda x: 'good' if x > 6 else 'bad')\n",
    "wineDF.drop('quality', axis=1)\n",
    "\n",
    "wine_y = wineDF['label'].values\n",
    "wine_X = wineDF.drop('label', axis=1).values"
   ],
   "metadata": {
    "collapsed": false
   },
   "id": "979826e88f66f03a",
   "execution_count": null
  },
  {
   "cell_type": "code",
   "outputs": [],
   "source": [
    "# Standardize dataset\n",
    "scaler = StandardScaler()\n",
    "wine_X = scaler.fit_transform(wine_X)"
   ],
   "metadata": {
    "collapsed": false
   },
   "id": "f11eaedfd98e6409",
   "execution_count": null
  },
  {
   "cell_type": "code",
   "outputs": [],
   "source": [
    "# Cross validate\n",
    "all_metrics = []\n",
    "\n",
    "for i in range(5):\n",
    "    print(f\"\\nSplit {i+1}:\")\n",
    "    \n",
    "    (X_train, X_test, y_train, y_test) = train_test_split(wine_X, wine_y, test_size=0.2, stratify=wine_y)\n",
    "    \n",
    "    lr_metrics, lr_report, lr_cm = run_model(LogisticRegression, log_reg_param_grid)\n",
    "    dt_metrics, dt_report, dt_cm = run_model(DecisionTreeClassifier, dec_tree_param_grid)\n",
    "    knn_metrics, knn_report, knn_cm = run_model(KNeighborsClassifier, knn_param_grid)\n",
    "    nn_metrics, nn_report, nn_cm = run_model(MLPClassifier, nn_param_grid)\n",
    "\n",
    "    # all_metrics.append(metrics)\n",
    "    print(\"\\n- Metrics:\")\n",
    "    print(lr_metrics)\n",
    "    # plot_confusion_matrix(cm, plt.cm.Blues)\n",
    "    \n",
    "# print(\"\\nAverage metrics:\")\n",
    "# print_avg_metrics(all_metrics)"
   ],
   "metadata": {
    "collapsed": false
   },
   "id": "3cf40d14ac7035bd",
   "execution_count": null
  },
  {
   "cell_type": "markdown",
   "source": [
    "## Heart Disease Dataset"
   ],
   "metadata": {
    "collapsed": false
   },
   "id": "abe7f49cbcfce132"
  },
  {
   "cell_type": "code",
   "outputs": [],
   "source": [
    "# Preprocess dataset\n",
    "heartDF = pd.read_csv(\"./data/heart_statlog_cleveland_hungary_final.csv\")\n",
    "\n",
    "heartDF['target'] = heartDF['target'].apply(lambda x: 'heart disease' if x else 'normal')\n",
    "heart_y = heartDF['target'].values\n",
    "heart_X = heartDF.drop('target', axis=1).values"
   ],
   "metadata": {
    "collapsed": false
   },
   "id": "7b62d99f84b11ba7",
   "execution_count": null
  },
  {
   "cell_type": "code",
   "outputs": [],
   "source": [
    "# Standardize dataset\n",
    "scaler = StandardScaler()\n",
    "heart_X = scaler.fit_transform(heart_X)"
   ],
   "metadata": {
    "collapsed": false
   },
   "id": "13ffc0e1d55a5b8b",
   "execution_count": null
  },
  {
   "cell_type": "code",
   "outputs": [],
   "source": [
    "# Cross validate\n",
    "all_metrics = []\n",
    "\n",
    "for i in range(5):\n",
    "    print(f\"\\nSplit {i+1}:\")\n",
    "    \n",
    "    (X_train, X_test, y_train, y_test) = train_test_split(wine_X, wine_y, test_size=0.2, stratify=wine_y)\n",
    "    \n",
    "    lr_metrics, lr_report, lr_cm = run_model(LogisticRegression, log_reg_param_grid)\n",
    "    dt_metrics, dt_report, dt_cm = run_model(DecisionTreeClassifier, dec_tree_param_grid)\n",
    "    knn_metrics, knn_report, knn_cm = run_model(KNeighborsClassifier, knn_param_grid)\n",
    "    nn_metrics, nn_report, nn_cm = run_model(MLPClassifier, nn_param_grid)\n",
    "\n",
    "    # all_metrics.append(metrics)\n",
    "    print(\"\\n- Metrics:\")\n",
    "    print(lr_metrics)\n",
    "    #plot_confusion_matrix(cm, plt.cm.Oranges)\n",
    "    \n",
    "# print(\"\\nAverage metrics:\")\n",
    "# print_avg_metrics(all_metrics)"
   ],
   "metadata": {
    "collapsed": false
   },
   "id": "51d51f830895fab6",
   "execution_count": null
  }
 ],
 "metadata": {
  "kernelspec": {
   "display_name": "Python 3",
   "language": "python",
   "name": "python3"
  },
  "language_info": {
   "codemirror_mode": {
    "name": "ipython",
    "version": 2
   },
   "file_extension": ".py",
   "mimetype": "text/x-python",
   "name": "python",
   "nbconvert_exporter": "python",
   "pygments_lexer": "ipython2",
   "version": "2.7.6"
  }
 },
 "nbformat": 4,
 "nbformat_minor": 5
}
