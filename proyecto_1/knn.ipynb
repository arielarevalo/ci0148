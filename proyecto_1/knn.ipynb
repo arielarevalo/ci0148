{
 "cells": [
  {
   "cell_type": "markdown",
   "id": "cdf50ac0-abc7-4566-b559-90ae5b765cf8",
   "metadata": {},
   "source": [
    "# KNN"
   ]
  },
  {
   "cell_type": "code",
   "execution_count": null,
   "id": "f1b5ef62-e2d1-4fdc-9bd4-cf1d25c5f41c",
   "metadata": {},
   "outputs": [],
   "source": [
    "import pandas as pd\n",
    "import numpy as np\n",
    "\n",
    "from sklearn.preprocessing import StandardScaler\n",
    "from sklearn.metrics import accuracy_score\n",
    "from sklearn.model_selection import train_test_split\n",
    "from sklearn.model_selection import KFold\n",
    "from sklearn.neighbors import KNeighborsClassifier\n",
    "\n",
    "from ml import *"
   ]
  },
  {
   "cell_type": "markdown",
   "id": "18ba3e53-1ec8-4497-91d3-21404e05ca35",
   "metadata": {},
   "source": [
    "# Wine Quality Dataset"
   ]
  },
  {
   "cell_type": "code",
   "execution_count": null,
   "id": "c8a98c32-8d41-41c3-89a0-a93604365953",
   "metadata": {},
   "outputs": [],
   "source": [
    "# Prepocess dataset\n",
    "wineDF = pd.read_csv(\"./data/winequality-red.csv\")\n",
    "\n",
    "wineDF['label'] = wineDF['quality'].apply(lambda x: 'good' if x > 6 else 'bad')\n",
    "wineDF.drop('quality', axis = 1)\n",
    "\n",
    "wine_y = wineDF['label'].values\n",
    "wine_X = wineDF.drop('label', axis = 1).values"
   ]
  },
  {
   "cell_type": "code",
   "execution_count": null,
   "id": "c5397e69-d38d-4404-98c7-916803f12a01",
   "metadata": {},
   "outputs": [],
   "source": [
    "# Standardize dataset\n",
    "scaler = StandardScaler()\n",
    "wine_X = scaler.fit_transform(wine_X)"
   ]
  },
  {
   "cell_type": "code",
   "execution_count": null,
   "id": "53e44d99-d800-4225-bda3-4513e883cb8b",
   "metadata": {},
   "outputs": [],
   "source": [
    "# Cross validate\n",
    "all_metrics = []\n",
    "\n",
    "outerIndex = 1\n",
    "train_score = {}\n",
    "test_score = {}\n",
    "\n",
    "n_neighbors = np.arange(2, 30, 1)\n",
    "for i in n_neighbors:\n",
    "    outerIndex += 1\n",
    "\n",
    "    X_train, X_test, y_train, y_test = train_test_split(wine_X, wine_y, test_size = 0.2, stratify = wine_y)\n",
    "    \n",
    "    model = KNeighborsClassifier(n_neighbors = i)\n",
    "\n",
    "    metrics, report, cm = fit_and_predict(model, X_train, X_test, y_train, y_test)\n",
    "    all_metrics.append(metrics)\n",
    "    print(f\"\\n- Metrics for {i} neighbors in KNN:\")\n",
    "    print(report)\n",
    "\n",
    "    train_score[i] = model.score(X_train, y_train)\n",
    "    test_score[i] = model.score(X_test, y_test)\n",
    "\n",
    "    print\n",
    "\n",
    "print(\"\\nAverage metrics:\")\n",
    "print_avg_metrics(all_metrics)\n",
    "\n",
    "plt.plot(n_neighbors, train_score.values(), label=\"Train Accuracy\")\n",
    "plt.plot(n_neighbors, test_score.values(), label=\"Test Accuracy\")\n",
    "plt.xlabel(\"Number Of Neighbors\")\n",
    "plt.ylabel(\"Accuracy\")\n",
    "plt.title(\"KNN: Varying number of Neighbors\")\n",
    "plt.legend()\n",
    "plt.xlim(0, 33)\n",
    "plt.ylim(0.70, 1.00)\n",
    "plt.grid()\n",
    "plt.show()\n",
    "    "
   ]
  },
  {
   "cell_type": "code",
   "execution_count": null,
   "id": "e672298d-3ae7-4a03-8590-c6271ec868dc",
   "metadata": {},
   "outputs": [],
   "source": [
    "# Finding the best parameters\n",
    "\n",
    "for key, value in test_score.items():\n",
    "    if value == max(test_score.values()):\n",
    "        print(f\"Best parameter for KNN based on accuracy: amount of neighbors {key}\")\n",
    "\n",
    "kf = KFold(n_splits = 5, shuffle = True, random_state = 42)\n",
    "parameter = {'n_neighbors':np.arange(2, 30, 1)}\n",
    "knn = KNeighborsClassifier()\n",
    "knn_cv = GridSearchCV(knn, param_grid = parameter, cv = kf, verbose = 1)\n",
    "knn_cv.fit(X_train, y_train)\n",
    "print(f\"Best parameter is: {knn_cv.best_params_}\")"
   ]
  },
  {
   "cell_type": "markdown",
   "id": "0348f20a-af7c-4f8c-8bac-cc19db74bcaa",
   "metadata": {},
   "source": [
    "# Heart Disease Dataset"
   ]
  },
  {
   "cell_type": "code",
   "execution_count": null,
   "id": "c4f12f20-4e2a-4978-a39b-34402f12d3e6",
   "metadata": {},
   "outputs": [],
   "source": [
    "# Preprocess dataset\n",
    "heartDF = pd.read_csv(\"./data/heart_statlog_cleveland_hungary_final.csv\")\n",
    "\n",
    "heartDF['target'] = heartDF['target'].apply(lambda x: 'heart disease' if x else 'normal')\n",
    "heart_y = heartDF['target'].values\n",
    "heart_X = heartDF.drop('target', axis=1).values"
   ]
  },
  {
   "cell_type": "code",
   "execution_count": null,
   "id": "a2d5b9c5-23f9-4d0f-87a3-7776fb0d10b9",
   "metadata": {},
   "outputs": [],
   "source": [
    "# Standardize dataset\n",
    "scaler = StandardScaler()\n",
    "heart_X = scaler.fit_transform(heart_X)"
   ]
  },
  {
   "cell_type": "code",
   "execution_count": null,
   "id": "6122aeea-054d-4dd1-9ac4-4460bcef94bd",
   "metadata": {},
   "outputs": [],
   "source": [
    "# Cross validate\n",
    "all_metrics = []\n",
    "\n",
    "outerIndex = 1\n",
    "train_score = {}\n",
    "test_score = {}\n",
    "\n",
    "n_neighbors = np.arange(2, 30, 1)\n",
    "for i in n_neighbors:\n",
    "    outerIndex += 1\n",
    "\n",
    "    X_train, X_test, y_train, y_test = train_test_split(heart_X, heart_y, test_size = 0.2, stratify = heart_y)\n",
    "    \n",
    "    model = KNeighborsClassifier(n_neighbors = i)\n",
    "\n",
    "    metrics, report, cm = fit_and_predict(model, X_train, X_test, y_train, y_test)\n",
    "    all_metrics.append(metrics)\n",
    "    print(f\"\\n- Metrics for {i} neighbors in KNN:\")\n",
    "    print(report)\n",
    "\n",
    "    train_score[i] = model.score(X_train, y_train)\n",
    "    test_score[i] = model.score(X_test, y_test)\n",
    "\n",
    "    print\n",
    "\n",
    "print(\"\\nAverage metrics:\")\n",
    "print_avg_metrics(all_metrics)\n",
    "\n",
    "plt.plot(n_neighbors, train_score.values(), label=\"Train Accuracy\")\n",
    "plt.plot(n_neighbors, test_score.values(), label=\"Test Accuracy\")\n",
    "plt.xlabel(\"Number Of Neighbors\")\n",
    "plt.ylabel(\"Accuracy\")\n",
    "plt.title(\"KNN: Varying number of Neighbors\")\n",
    "plt.legend()\n",
    "plt.xlim(0, 33)\n",
    "plt.ylim(0.70, 1.00)\n",
    "plt.grid()\n",
    "plt.show()"
   ]
  },
  {
   "cell_type": "code",
   "execution_count": null,
   "id": "9873bf28-ec33-467e-853a-568e11478dcd",
   "metadata": {},
   "outputs": [],
   "source": [
    "for key, value in test_score.items():\n",
    "    if value == max(test_score.values()):\n",
    "        print(f\"Best parameter for KNN based on accuracy: amount of neighbors {key}\")\n",
    "\n",
    "kf = KFold(n_splits = 5, shuffle = True, random_state = 42)\n",
    "parameter = {'n_neighbors':np.arange(2, 30, 1)}\n",
    "knn = KNeighborsClassifier()\n",
    "knn_cv = GridSearchCV(knn, param_grid = parameter, cv = kf, verbose = 1)\n",
    "knn_cv.fit(X_train, y_train)\n",
    "print(f\"Best parameter is: {knn_cv.best_params_}\")"
   ]
  },
  {
   "cell_type": "code",
   "execution_count": null,
   "id": "af67255e-c307-40e6-a789-187311efdb13",
   "metadata": {},
   "outputs": [],
   "source": []
  }
 ],
 "metadata": {
  "kernelspec": {
   "display_name": "Python 3 (ipykernel)",
   "language": "python",
   "name": "python3"
  },
  "language_info": {
   "codemirror_mode": {
    "name": "ipython",
    "version": 3
   },
   "file_extension": ".py",
   "mimetype": "text/x-python",
   "name": "python",
   "nbconvert_exporter": "python",
   "pygments_lexer": "ipython3",
   "version": "3.10.12"
  }
 },
 "nbformat": 4,
 "nbformat_minor": 5
}
