{
 "cells": [
  {
   "cell_type": "markdown",
   "source": [
    "# Logistic Regression"
   ],
   "metadata": {
    "collapsed": false
   },
   "id": "a283001ce8755088"
  },
  {
   "cell_type": "code",
   "outputs": [],
   "source": [
    "import pandas as pd\n",
    "\n",
    "from sklearn.preprocessing import StandardScaler\n",
    "from sklearn.model_selection import train_test_split\n",
    "\n",
    "from ml import *"
   ],
   "metadata": {
    "collapsed": false
   },
   "id": "318c32a6013dea90",
   "execution_count": null
  },
  {
   "cell_type": "markdown",
   "source": [
    "## Wine Quality Dataset"
   ],
   "metadata": {
    "collapsed": false
   },
   "id": "b0bc304dab9c5cc"
  },
  {
   "cell_type": "code",
   "outputs": [],
   "source": [
    "# Preprocess dataset\n",
    "wineDF = pd.read_csv(\"./data/winequality-red.csv\")\n",
    "\n",
    "wineDF['label'] = wineDF['quality'].apply(lambda x: 'good' if x > 6 else 'bad')\n",
    "wineDF.drop('quality', axis=1)\n",
    "\n",
    "wine_y = wineDF['label'].values\n",
    "wine_x = wineDF.drop('label', axis=1).values"
   ],
   "metadata": {
    "collapsed": false
   },
   "id": "45979ef8138d0d2e",
   "execution_count": null
  },
  {
   "cell_type": "code",
   "outputs": [],
   "source": [
    "# Standardize dataset\n",
    "scaler = StandardScaler()\n",
    "wine_x = scaler.fit_transform(wine_x)"
   ],
   "metadata": {
    "collapsed": false
   },
   "id": "330e75c2e755da3a",
   "execution_count": null
  },
  {
   "cell_type": "code",
   "outputs": [],
   "source": [
    "# Cross validate\n",
    "all_metrics = []\n",
    "\n",
    "for i in range(5):\n",
    "    print(f\"Split {i+1}:\")\n",
    "    \n",
    "    x_train, x_test, y_train, y_test = train_test_split(wine_x, wine_y, test_size=0.2, stratify=wine_y)\n",
    "    \n",
    "    model = build_log_reg_model(x_train, y_train)\n",
    "    \n",
    "    metrics, report, cm = fit_and_predict(model, x_train, x_test, y_train, y_test)\n",
    "    \n",
    "    all_metrics.append(metrics)\n",
    "    print(report)\n",
    "    plot_confusion_matrix(cm, plt.cm.Blues)\n",
    "    \n",
    "print(\"Average metrics:\")\n",
    "print_avg_metrics(all_metrics)"
   ],
   "metadata": {
    "collapsed": false
   },
   "id": "a62ab451f82bc41e",
   "execution_count": null
  },
  {
   "cell_type": "markdown",
   "source": [
    "## Heart Disease Dataset"
   ],
   "metadata": {
    "collapsed": false
   },
   "id": "72d4642f841c3573"
  },
  {
   "cell_type": "code",
   "outputs": [],
   "source": [
    "# Preprocess dataset\n",
    "heartDF = pd.read_csv(\"./data/heart_statlog_cleveland_hungary_final.csv\")\n",
    "\n",
    "heartDF['target'] = heartDF['target'].apply(lambda x: 'heart disease' if x else 'normal')\n",
    "heart_y = heartDF['target'].values\n",
    "heart_x = heartDF.drop('target', axis=1).values"
   ],
   "metadata": {
    "collapsed": false
   },
   "id": "ebb175dcaa3f3964",
   "execution_count": null
  },
  {
   "cell_type": "code",
   "outputs": [],
   "source": [
    "# Standardize dataset\n",
    "scaler = StandardScaler()\n",
    "heart_x = scaler.fit_transform(heart_x)"
   ],
   "metadata": {
    "collapsed": false
   },
   "id": "c10e5f6fa9b62424",
   "execution_count": null
  },
  {
   "cell_type": "code",
   "outputs": [],
   "source": [
    "# Cross validate\n",
    "all_metrics = []\n",
    "\n",
    "for i in range(5):\n",
    "    print(f\"Split {i+1}:\")\n",
    "    \n",
    "    x_train, x_test, y_train, y_test = train_test_split(heart_x, heart_y, test_size=0.2, stratify=heart_y)\n",
    "    \n",
    "    model = build_log_reg_model(x_train, y_train)\n",
    "    \n",
    "    metrics, report, cm = fit_and_predict(model, x_train, x_test, y_train, y_test)\n",
    "    \n",
    "    all_metrics.append(metrics)\n",
    "    print(report)\n",
    "    plot_confusion_matrix(cm, plt.cm.Oranges)\n",
    "    \n",
    "print(\"Average metrics:\")\n",
    "print_avg_metrics(all_metrics)"
   ],
   "metadata": {
    "collapsed": false
   },
   "id": "77c28475cc261342",
   "execution_count": null
  }
 ],
 "metadata": {
  "kernelspec": {
   "display_name": "Python 3",
   "language": "python",
   "name": "python3"
  },
  "language_info": {
   "codemirror_mode": {
    "name": "ipython",
    "version": 3
   },
   "file_extension": ".py",
   "mimetype": "text/x-python",
   "name": "python",
   "nbconvert_exporter": "python",
   "pygments_lexer": "ipython3",
   "version": "3.12.2"
  }
 },
 "nbformat": 4,
 "nbformat_minor": 5
}
