{
 "cells": [
  {
   "cell_type": "markdown",
   "source": [
    "# Regresión Logística"
   ],
   "metadata": {
    "collapsed": false
   },
   "id": "a283001ce8755088"
  },
  {
   "cell_type": "code",
   "outputs": [],
   "source": [
    "import warnings\n",
    "import numpy as np\n",
    "import pandas as pd\n",
    "import matplotlib.pyplot as plt\n",
    "\n",
    "from sklearn.preprocessing import StandardScaler\n",
    "from sklearn.model_selection import train_test_split\n",
    "from sklearn.model_selection import GridSearchCV\n",
    "from sklearn.linear_model import LogisticRegression\n",
    "from sklearn.exceptions import ConvergenceWarning, FitFailedWarning\n",
    "from sklearn.metrics import confusion_matrix\n",
    "from sklearn.metrics import classification_report"
   ],
   "metadata": {
    "collapsed": false,
    "ExecuteTime": {
     "end_time": "2024-04-26T03:07:06.795776Z",
     "start_time": "2024-04-26T03:07:06.790523Z"
    }
   },
   "id": "318c32a6013dea90",
   "execution_count": 19
  },
  {
   "cell_type": "code",
   "outputs": [],
   "source": [
    "# Get the best hyperparameters\n",
    "def get_best_params_LogisticRegresion(X_train, X_test, y_train, y_test, count=5):\n",
    "    # Define parameter grid\n",
    "    param_grid = {\n",
    "        'C': np.logspace(-3,3, 7),  # Regularization parameter, only relevant if  'penalty' != None\n",
    "        'penalty': ['l1', 'l2', 'elasticnet', None],  # Penalty options\n",
    "        'solver': ['liblinear', 'newton-cg', 'lbfgs', 'sag', 'saga', 'newton-cholesky'],  # Algorithms\n",
    "        'max_iter': [100, 500, 1000] \n",
    "    }\n",
    "\n",
    "    # Create a Logistic Regression model\n",
    "    logreg = LogisticRegression()\n",
    "    best_model = None\n",
    "    best_params = dict()\n",
    "    for i in range(0, count):\n",
    "        # Create GridSearchCV\n",
    "        grid_search = GridSearchCV(logreg, param_grid, cv=10, n_jobs=4)\n",
    "        # Suppress warnings for convergence, fit failed or invalid solver for current algorithm\n",
    "        with warnings.catch_warnings():\n",
    "            warnings.filterwarnings(\"ignore\", category=ConvergenceWarning)\n",
    "            warnings.filterwarnings(\"ignore\", category=FitFailedWarning)\n",
    "            warnings.filterwarnings(\"ignore\", category=UserWarning)\n",
    "            # Fit the grid search to the data\n",
    "            grid_search.fit(X_train, y_train)\n",
    "\n",
    "        # Get the best model\n",
    "        if best_model is None or grid_search.best_score_ > best_model.score(X_test, y_test):\n",
    "            best_model = grid_search.best_estimator_\n",
    "            best_params = grid_search.best_params_\n",
    "    return best_params"
   ],
   "metadata": {
    "collapsed": false,
    "ExecuteTime": {
     "end_time": "2024-04-26T03:07:06.852525Z",
     "start_time": "2024-04-26T03:07:06.845647Z"
    }
   },
   "id": "dca24010a1f24caf",
   "execution_count": 20
  },
  {
   "cell_type": "code",
   "outputs": [],
   "source": [
    "def fit_and_predict(hyperparameters, X_train, X_test, y_train, y_test, count=5):\n",
    "    if hyperparameters['penalty'] == None and 'C' in hyperparameters:\n",
    "        hyperparameters.pop('C')\n",
    "\n",
    "    best_model = None\n",
    "    cm = None\n",
    "    y_pred = None\n",
    "    report = None\n",
    "    for i in range(0, count):\n",
    "        # Create the model with given hyperparameters and train it\n",
    "        logreg = LogisticRegression(**hyperparameters)\n",
    "        logreg.fit(X_train, y_train)\n",
    "\n",
    "        if best_model is None or logreg.score(X_test, y_test) > best_model.score(X_test, y_test):\n",
    "            best_model = logreg\n",
    "\n",
    "            # Make predictions on test data\n",
    "            y_pred = logreg.predict(X_test)\n",
    "\n",
    "            # Get the confusion matrix and report\n",
    "            cm = confusion_matrix(y_test, y_pred).ravel()\n",
    "            report = classification_report(y_test, y_pred)\n",
    "    return cm, report, y_pred"
   ],
   "metadata": {
    "collapsed": false,
    "ExecuteTime": {
     "end_time": "2024-04-26T03:07:06.872038Z",
     "start_time": "2024-04-26T03:07:06.865495Z"
    }
   },
   "id": "ea2d820a5a9aecb7",
   "execution_count": 21
  },
  {
   "cell_type": "code",
   "outputs": [],
   "source": [
    "def plot_confusion_matrix(confusion_matrix, cmap):\n",
    "    # Calculate the values for the squares\n",
    "    tp, fp, fn, tn = confusion_matrix\n",
    "\n",
    "    # Create the plot\n",
    "    plt.figure(figsize=(8, 8))\n",
    "    plt.imshow([[tp, fp], [fn, tn]], interpolation='nearest', cmap=cmap)\n",
    "    plt.title('Confusion Matrix')\n",
    "    plt.colorbar()\n",
    "\n",
    "    # Add annotations\n",
    "    plt.xticks([0, 1], ['Predicted Positive', 'Predicted Negative'])\n",
    "    plt.yticks([0, 1], ['Actual Positive', 'Actual Negative'])\n",
    "    plt.xlabel('Predicted label')\n",
    "    plt.ylabel('True label')\n",
    "    plt.text(0, 0, tp, ha='center', va='center', color='white')\n",
    "    plt.text(1, 0, fp, ha='center', va='center', color='black')\n",
    "    plt.text(0, 1, fn, ha='center', va='center', color='black')\n",
    "    plt.text(1, 1, tn, ha='center', va='center', color='white')\n",
    "\n",
    "    plt.show()"
   ],
   "metadata": {
    "collapsed": false,
    "ExecuteTime": {
     "end_time": "2024-04-26T03:07:06.890336Z",
     "start_time": "2024-04-26T03:07:06.883999Z"
    }
   },
   "id": "8b5b146fa4f8b8ad",
   "execution_count": 22
  },
  {
   "cell_type": "markdown",
   "source": [
    "## Wine Quality Dataset"
   ],
   "metadata": {
    "collapsed": false
   },
   "id": "b0bc304dab9c5cc"
  },
  {
   "cell_type": "code",
   "outputs": [],
   "source": [
    "# Read dataset\n",
    "wineDF = pd.read_csv(\"./data/winequality-red.csv\")\n",
    "\n",
    "# Preprocess dataset\n",
    "wineDF['label'] = wineDF['quality'].apply(lambda x: 'good' if x > 6 else 'bad')\n",
    "wineDF.drop('quality', axis=1)\n",
    "\n",
    "wine_Y = wineDF['label'].values\n",
    "wine_X = wineDF.drop('label', axis=1).values"
   ],
   "metadata": {
    "collapsed": false,
    "ExecuteTime": {
     "end_time": "2024-04-26T03:07:06.928014Z",
     "start_time": "2024-04-26T03:07:06.915274Z"
    }
   },
   "id": "45979ef8138d0d2e",
   "execution_count": 23
  },
  {
   "cell_type": "code",
   "outputs": [],
   "source": [
    "# Standardize dataset\n",
    "scaler = StandardScaler()\n",
    "wine_X = scaler.fit_transform(wine_X)"
   ],
   "metadata": {
    "collapsed": false,
    "ExecuteTime": {
     "end_time": "2024-04-26T03:07:06.941815Z",
     "start_time": "2024-04-26T03:07:06.936993Z"
    }
   },
   "id": "330e75c2e755da3a",
   "execution_count": 24
  },
  {
   "cell_type": "code",
   "outputs": [],
   "source": [
    "# Get the dataset split for training the model\n",
    "X_train_wine, X_test_wine, y_train_wine, y_test_wine = train_test_split(wine_X, wine_Y, test_size=0.3, stratify=wine_Y)"
   ],
   "metadata": {
    "collapsed": false,
    "ExecuteTime": {
     "end_time": "2024-04-26T03:07:06.961937Z",
     "start_time": "2024-04-26T03:07:06.946806Z"
    }
   },
   "id": "a62ab451f82bc41e",
   "execution_count": 25
  },
  {
   "cell_type": "code",
   "outputs": [],
   "source": [
    "# Get best hyper-parameters\n",
    "wine_best_params = get_best_params_LogisticRegresion(X_train_wine, X_test_wine, y_train_wine, y_test_wine)"
   ],
   "metadata": {
    "collapsed": false,
    "ExecuteTime": {
     "end_time": "2024-04-26T03:09:27.623567Z",
     "start_time": "2024-04-26T03:07:06.973909Z"
    }
   },
   "id": "c746291d6e559ba6",
   "execution_count": 26
  },
  {
   "cell_type": "code",
   "outputs": [],
   "source": [
    "# Get results and performance metrics\n",
    "wine_cm, wine_report, wine_results = fit_and_predict(wine_best_params, X_train_wine, X_test_wine, y_train_wine, y_test_wine)"
   ],
   "metadata": {
    "collapsed": false,
    "ExecuteTime": {
     "end_time": "2024-04-26T03:09:27.727786Z",
     "start_time": "2024-04-26T03:09:27.624568Z"
    }
   },
   "id": "e618a9ccd7a8a83f",
   "execution_count": 27
  },
  {
   "cell_type": "code",
   "outputs": [
    {
     "data": {
      "text/plain": "<Figure size 800x800 with 2 Axes>",
      "image/png": "[encoded data removed]"
     },
     "metadata": {},
     "output_type": "display_data"
    }
   ],
   "source": [
    "plot_confusion_matrix(wine_cm, plt.cm.Blues)"
   ],
   "metadata": {
    "collapsed": false,
    "ExecuteTime": {
     "end_time": "2024-04-26T03:09:27.939298Z",
     "start_time": "2024-04-26T03:09:27.728786Z"
    }
   },
   "id": "91af379fdc47aee9",
   "execution_count": 28
  },
  {
   "cell_type": "markdown",
   "source": [
    "## Heart Disease Dataset"
   ],
   "metadata": {
    "collapsed": false
   },
   "id": "72d4642f841c3573"
  },
  {
   "cell_type": "code",
   "outputs": [],
   "source": [
    "# Read dataset\n",
    "heartDF = pd.read_csv(\"./data/heart_statlog_cleveland_hungary_final.csv\")\n",
    "\n",
    "# Preprocess dataset\n",
    "heartDF['target'] = heartDF['target'].apply(lambda x: 'heart disease' if x else 'normal')\n",
    "heart_Y = heartDF['target'].values\n",
    "heart_X = heartDF.drop('target', axis=1).values"
   ],
   "metadata": {
    "collapsed": false,
    "ExecuteTime": {
     "end_time": "2024-04-26T03:09:27.949498Z",
     "start_time": "2024-04-26T03:09:27.940293Z"
    }
   },
   "id": "ebb175dcaa3f3964",
   "execution_count": 29
  },
  {
   "cell_type": "code",
   "outputs": [],
   "source": [
    "# Standardize dataset\n",
    "scaler = StandardScaler()\n",
    "heart_X = scaler.fit_transform(heart_X)"
   ],
   "metadata": {
    "collapsed": false,
    "ExecuteTime": {
     "end_time": "2024-04-26T03:09:27.956947Z",
     "start_time": "2024-04-26T03:09:27.951492Z"
    }
   },
   "id": "c10e5f6fa9b62424",
   "execution_count": 30
  },
  {
   "cell_type": "code",
   "outputs": [],
   "source": [
    "# Get the dataset split for training the model\n",
    "X_train_heart, X_test_heart, y_train_heart, y_test_heart = train_test_split(heart_X, heart_Y, test_size=0.3, stratify=heart_Y)"
   ],
   "metadata": {
    "collapsed": false,
    "ExecuteTime": {
     "end_time": "2024-04-26T03:09:27.970704Z",
     "start_time": "2024-04-26T03:09:27.959944Z"
    }
   },
   "id": "b36085870fee7e88",
   "execution_count": 31
  },
  {
   "cell_type": "code",
   "outputs": [],
   "source": [
    "# Get best hyper-parameters\n",
    "heart_best_params = get_best_params_LogisticRegresion(X_train_heart, X_test_heart, y_train_heart, y_test_heart)"
   ],
   "metadata": {
    "collapsed": false,
    "ExecuteTime": {
     "end_time": "2024-04-26T03:09:48.224155Z",
     "start_time": "2024-04-26T03:09:27.973700Z"
    }
   },
   "id": "5a5bed09d5fe1bb9",
   "execution_count": 32
  },
  {
   "cell_type": "code",
   "outputs": [],
   "source": [
    "# Get results and performance metrics\n",
    "heart_cm, heart_report, _ = fit_and_predict(heart_best_params, X_train_heart, X_test_heart, y_train_heart, y_test_heart)"
   ],
   "metadata": {
    "collapsed": false,
    "ExecuteTime": {
     "end_time": "2024-04-26T03:09:48.263609Z",
     "start_time": "2024-04-26T03:09:48.225151Z"
    }
   },
   "id": "8b5f1b63ecba64df",
   "execution_count": 33
  },
  {
   "cell_type": "code",
   "outputs": [
    {
     "data": {
      "text/plain": "<Figure size 800x800 with 2 Axes>",
      "image/png": "[encoded data removed]"
     },
     "metadata": {},
     "output_type": "display_data"
    }
   ],
   "source": [
    "plot_confusion_matrix(heart_cm, plt.cm.Oranges)"
   ],
   "metadata": {
    "collapsed": false,
    "ExecuteTime": {
     "end_time": "2024-04-26T03:09:48.548845Z",
     "start_time": "2024-04-26T03:09:48.264604Z"
    }
   },
   "id": "3ddba4ecd7ba4d79",
   "execution_count": 34
  }
 ],
 "metadata": {
  "kernelspec": {
   "display_name": "Python 3",
   "language": "python",
   "name": "python3"
  },
  "language_info": {
   "codemirror_mode": {
    "name": "ipython",
    "version": 3
   },
   "file_extension": ".py",
   "mimetype": "text/x-python",
   "name": "python",
   "nbconvert_exporter": "python",
   "pygments_lexer": "ipython3",
   "version": "3.12.2"
  }
 },
 "nbformat": 4,
 "nbformat_minor": 5
}
