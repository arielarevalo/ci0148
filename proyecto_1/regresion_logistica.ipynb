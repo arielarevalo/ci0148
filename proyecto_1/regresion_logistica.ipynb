{
 "cells": [
  {
   "cell_type": "code",
   "execution_count": 16,
   "id": "initial_id",
   "metadata": {
    "collapsed": true
   },
   "outputs": [],
   "source": [
    "import numpy as np\n",
    "import pandas as pd\n",
    "\n",
    "# Read datasets\n",
    "heartDF = pd.read_csv(\"./data/heart_statlog_cleveland_hungary_final.csv\")\n",
    "wineDF = pd.read_csv(\"./data/winequality-red.csv\")\n",
    "\n",
    "# Preprocess datasets\n",
    "wineDF['label'] = wineDF['quality'].apply(lambda x: 'good' if x > 6 else 'bad')\n",
    "wineDF.drop('quality', axis=1)\n",
    "\n",
    "wine_Y = wineDF['label'].values\n",
    "wine_X = wineDF.drop('label', axis=1).values\n",
    "\n",
    "heartDF['target'] = heartDF['target'].apply(lambda x: 'heart disease' if x else 'normal')\n",
    "heart_Y = heartDF['target'].values\n",
    "heart_X = heartDF.drop('target', axis=1).values"
   ]
  },
  {
   "cell_type": "code",
   "execution_count": 17,
   "id": "e12a1f87",
   "metadata": {},
   "outputs": [],
   "source": [
    "# Standardize datasets\n",
    "from sklearn.preprocessing import StandardScaler\n",
    "scaler = StandardScaler()\n",
    "wine_X = scaler.fit_transform(wine_X)\n",
    "heart_X = scaler.fit_transform(heart_X)"
   ]
  },
  {
   "cell_type": "code",
   "execution_count": 18,
   "id": "fc04a80f",
   "metadata": {},
   "outputs": [],
   "source": [
    "# Get the dataset split for training the models\n",
    "from sklearn.model_selection import train_test_split\n",
    "X_train_wine, X_test_wine, y_train_wine, y_test_wine = train_test_split(wine_X, wine_Y, test_size=0.3, stratify=wine_Y)\n",
    "X_train_heart, X_test_heart, y_train_heart, y_test_heart = train_test_split(heart_X, heart_Y, test_size=0.3, stratify=heart_Y)"
   ]
  },
  {
   "cell_type": "code",
   "execution_count": 19,
   "id": "dec3a2d5",
   "metadata": {},
   "outputs": [],
   "source": [
    "# Get the best hyperparameters\n",
    "from sklearn.model_selection import GridSearchCV\n",
    "from sklearn.linear_model import LogisticRegression\n",
    "from sklearn.metrics import classification_report\n",
    "\n",
    "import warnings\n",
    "from sklearn.exceptions import ConvergenceWarning, FitFailedWarning\n",
    "\n",
    "def get_best_params_LogisticRegresion(X_train, X_test, y_train, y_test, count=5):\n",
    "    # Define parameter grid\n",
    "    param_grid = {\n",
    "        'C': np.logspace(-3,3, 7),  # Regularization parameter, only relevant if  'penalty' != None\n",
    "        'penalty': ['l1', 'l2', 'elasticnet', None],  # Penalty options\n",
    "        'solver': ['liblinear', 'newton-cg', 'lbfgs', 'sag', 'saga', 'newton-cholesky'],  # Algorithms\n",
    "        'max_iter': [100, 500, 1000] \n",
    "    }\n",
    "\n",
    "    # Create a Logistic Regression model\n",
    "    logreg = LogisticRegression()\n",
    "    best_model = None\n",
    "    best_params = dict()\n",
    "    for i in range(0, count):\n",
    "        # Create GridSearchCV\n",
    "        grid_search = GridSearchCV(logreg, param_grid, cv=10, n_jobs=4)\n",
    "        # Suppress warnings for convergence, fit failed or invalid solver for current algorithm\n",
    "        with warnings.catch_warnings():\n",
    "            warnings.filterwarnings(\"ignore\", category=ConvergenceWarning)\n",
    "            warnings.filterwarnings(\"ignore\", category=FitFailedWarning)\n",
    "            warnings.filterwarnings(\"ignore\", category=UserWarning)\n",
    "            # Fit the grid search to the data\n",
    "            grid_search.fit(X_train, y_train)\n",
    "\n",
    "        # Get the best model\n",
    "        if best_model is None or grid_search.best_score_ > best_model.score(X_test, y_test):\n",
    "            best_model = grid_search.best_estimator_\n",
    "            best_params = grid_search.best_params_\n",
    "    return best_params\n"
   ]
  },
  {
   "cell_type": "code",
   "execution_count": 20,
   "id": "98092a1c",
   "metadata": {},
   "outputs": [],
   "source": [
    "from sklearn.metrics import confusion_matrix\n",
    "from sklearn.metrics import classification_report\n",
    "\n",
    "def fit_and_predict(hyperparameters, X_train, X_test, y_train, y_test, count=5):\n",
    "    if hyperparameters['penalty'] == None:\n",
    "        hyperparameters.pop('C')\n",
    "\n",
    "    best_model = None\n",
    "    cm = None\n",
    "    y_pred = None\n",
    "    report = None\n",
    "    for i in range(0, count):\n",
    "        # Create the model with given hyperparameters and train it\n",
    "        logreg = LogisticRegression(**hyperparameters)\n",
    "        logreg.fit(X_train, y_train)\n",
    "\n",
    "        if best_model is None or logreg.score(X_test, y_test) > best_model.score(X_test, y_test):\n",
    "            best_model = logreg\n",
    "\n",
    "            # Make predictions on test data\n",
    "            y_pred = logreg.predict(X_test)\n",
    "\n",
    "            # Get the confusion matrix and report\n",
    "            cm = confusion_matrix(y_test, y_pred).ravel()\n",
    "            report = classification_report(y_test, y_pred)\n",
    "    return cm, report, y_pred"
   ]
  },
  {
   "cell_type": "code",
   "execution_count": 21,
   "id": "69c06dc4",
   "metadata": {},
   "outputs": [],
   "source": [
    "# Get best hyper-parameters for wine dataset and heart dataset\n",
    "wine_best_params = get_best_params_LogisticRegresion(X_train_wine, X_test_wine, y_train_wine, y_test_wine)\n",
    "heart_best_params = get_best_params_LogisticRegresion(X_train_heart, X_test_heart, y_train_heart, y_test_heart)\n"
   ]
  },
  {
   "cell_type": "code",
   "execution_count": 22,
   "id": "89ef1aed",
   "metadata": {},
   "outputs": [],
   "source": [
    "# Get results and performance metrics\n",
    "wine_cm, wine_report, _ = fit_and_predict(wine_best_params, X_train_wine, X_test_wine, y_train_wine, y_test_wine)\n",
    "heart_cm, heart_report, _ = fit_and_predict(heart_best_params, X_train_heart, X_test_heart, y_train_heart, y_test_heart)"
   ]
  },
  {
   "cell_type": "code",
   "execution_count": 24,
   "id": "2b920b2e",
   "metadata": {},
   "outputs": [
    {
     "name": "stdout",
     "output_type": "stream",
     "text": [
      "[415   0   0  65]\n",
      "[161  28  25 143]\n"
     ]
    }
   ],
   "source": [
    "# TODO: Make graphs for performacne metrics\n",
    "print(wine_cm)\n",
    "print(heart_cm)"
   ]
  }
 ],
 "metadata": {
  "kernelspec": {
   "display_name": "Python 3",
   "language": "python",
   "name": "python3"
  },
  "language_info": {
   "codemirror_mode": {
    "name": "ipython",
    "version": 3
   },
   "file_extension": ".py",
   "mimetype": "text/x-python",
   "name": "python",
   "nbconvert_exporter": "python",
   "pygments_lexer": "ipython3",
   "version": "3.12.2"
  }
 },
 "nbformat": 4,
 "nbformat_minor": 5
}
